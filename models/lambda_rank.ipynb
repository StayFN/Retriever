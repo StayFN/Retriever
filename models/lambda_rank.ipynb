{
 "cells": [
  {
   "cell_type": "code",
   "execution_count": 3,
   "metadata": {},
   "outputs": [],
   "source": [
    "import numpy as np\n",
    "from LambdaRankNN import LambdaRankNN"
   ]
  },
  {
   "cell_type": "code",
   "execution_count": 4,
   "metadata": {},
   "outputs": [
    {
     "name": "stdout",
     "output_type": "stream",
     "text": [
      "Epoch 1/5\n",
      "1/1 [==============================] - 0s 475ms/step - loss: 0.1929\n",
      "Epoch 2/5\n",
      "1/1 [==============================] - 0s 3ms/step - loss: 0.1925\n",
      "Epoch 3/5\n",
      "1/1 [==============================] - 0s 3ms/step - loss: 0.1921\n",
      "Epoch 4/5\n",
      "1/1 [==============================] - 0s 5ms/step - loss: 0.1917\n",
      "Epoch 5/5\n",
      "1/1 [==============================] - 0s 4ms/step - loss: 0.1913\n",
      "ndcg: 0.8154648767857288\n",
      "ndcg@2: 0.8154648767857288\n"
     ]
    }
   ],
   "source": [
    "# generate query data\n",
    "X = np.array([[0.2, 0.3, 0.4],\n",
    "              [0.1, 0.7, 0.4],\n",
    "              [0.3, 0.4, 0.1],\n",
    "              [0.8, 0.4, 0.3],\n",
    "              [0.9, 0.35, 0.25]])\n",
    "y = np.array([0, 1, 0, 0, 2])\n",
    "qid = np.array([1, 1, 1, 2, 2])\n",
    "\n",
    "# train model\n",
    "ranker = LambdaRankNN(input_size=X.shape[1], hidden_layer_sizes=(16,8,), activation=('relu', 'relu',), solver='adam')\n",
    "ranker.fit(X, y, qid, epochs=5)\n",
    "y_pred = ranker.predict(X)\n",
    "ranker.evaluate(X, y, qid, eval_at=2)"
   ]
  }
 ],
 "metadata": {
  "interpreter": {
   "hash": "e26705d8d0745e26883d86489026b16e5add4da93970c6bc99971d69d97c17bb"
  },
  "kernelspec": {
   "display_name": "Python 3.10.0 ('InRe')",
   "language": "python",
   "name": "python3"
  },
  "language_info": {
   "codemirror_mode": {
    "name": "ipython",
    "version": 3
   },
   "file_extension": ".py",
   "mimetype": "text/x-python",
   "name": "python",
   "nbconvert_exporter": "python",
   "pygments_lexer": "ipython3",
   "version": "3.10.0"
  },
  "orig_nbformat": 4
 },
 "nbformat": 4,
 "nbformat_minor": 2
}
