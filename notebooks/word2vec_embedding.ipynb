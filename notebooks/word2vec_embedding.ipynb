{
 "cells": [
  {
   "cell_type": "code",
   "execution_count": null,
   "metadata": {},
   "outputs": [],
   "source": [
    "import os\n",
    "import sys\n",
    "sys.path.append(os.path.dirname((os.path.abspath(''))))\n",
    "\n",
    "from src.pipeline import Pipeline\n",
    "from src.data.preprocessing import removal, tokenization, stemming"
   ]
  },
  {
   "cell_type": "code",
   "execution_count": null,
   "metadata": {},
   "outputs": [],
   "source": [
    "pipeline = Pipeline()"
   ]
  },
  {
   "cell_type": "code",
   "execution_count": null,
   "metadata": {},
   "outputs": [],
   "source": [
    "pipeline.setup()"
   ]
  },
  {
   "cell_type": "code",
   "execution_count": null,
   "metadata": {},
   "outputs": [],
   "source": [
    "pipeline.preprocess()"
   ]
  },
  {
   "cell_type": "code",
   "execution_count": 24,
   "metadata": {
    "collapsed": true
   },
   "outputs": [
    {
     "data": {
      "text/plain": [
       "0       [notic, voic, goe, deliber, know, well, notic,...\n",
       "1       [definit, inter, 1, 1, among, midst, intercrop...\n",
       "2       [literari, conson, wikipedia, free, encycloped...\n",
       "3       [marinello, 100, year, marinello, educ, studen...\n",
       "4       [3, ginger, due, antiinflammatori, properti, g...\n",
       "                              ...                        \n",
       "4995    [1to, strike, forcibl, ax, sword, cut, instrum...\n",
       "4996    [way, know, sure, ask, glucos, toler, test, hb...\n",
       "4997    [2, âshe, came, humbl, unprivileg, backgroun...\n",
       "4998    [pine, grove, furnac, state, park, mark, halfw...\n",
       "4999    [explan, right, feder, employe, indepth, revie...\n",
       "Name: preprocessed, Length: 5000, dtype: object"
      ]
     },
     "execution_count": 24,
     "metadata": {},
     "output_type": "execute_result"
    }
   ],
   "source": [
    "pipeline.collection['preprocessed']"
   ]
  },
  {
   "cell_type": "code",
   "execution_count": 25,
   "metadata": {},
   "outputs": [],
   "source": [
    "from src.embeddings.word2vec import word2vec\n",
    "w2v = word2vec(100,1)\n",
    "pipeline.collection['word2vec'] = w2v.transform(pipeline.collection['preprocessed'])"
   ]
  },
  {
   "cell_type": "code",
   "execution_count": 28,
   "metadata": {},
   "outputs": [],
   "source": [
    "w2v = word2vec(100,1)\n",
    "pipeline.queries['word2vec'] = w2v.transform(pipeline.queries['preprocessed'])"
   ]
  },
  {
   "cell_type": "code",
   "execution_count": 37,
   "metadata": {},
   "outputs": [],
   "source": [
    "w2v = word2vec(100,1)"
   ]
  },
  {
   "cell_type": "code",
   "execution_count": 38,
   "metadata": {},
   "outputs": [],
   "source": [
    "import pandas as pd\n",
    "conc = pd.concat([pipeline.collection['preprocessed'],pipeline.queries['preprocessed'],pipeline.queries_test['preprocessed']])"
   ]
  },
  {
   "cell_type": "code",
   "execution_count": 39,
   "metadata": {},
   "outputs": [
    {
     "data": {
      "text/plain": [
       "<src.embeddings.word2vec.word2vec at 0x204d987c490>"
      ]
     },
     "execution_count": 39,
     "metadata": {},
     "output_type": "execute_result"
    }
   ],
   "source": [
    "w2v.vocabular(conc)"
   ]
  },
  {
   "cell_type": "code",
   "execution_count": 41,
   "metadata": {
    "scrolled": true
   },
   "outputs": [],
   "source": [
    "pipeline.queries_test['word2vec'] = w2v.transform(pipeline.queries_test['preprocessed'])"
   ]
  },
  {
   "cell_type": "code",
   "execution_count": 52,
   "metadata": {},
   "outputs": [
    {
     "data": {
      "text/plain": [
       "0.20219037"
      ]
     },
     "execution_count": 52,
     "metadata": {},
     "output_type": "execute_result"
    }
   ],
   "source": [
    "w2v.get_similarity('young','old')"
   ]
  },
  {
   "cell_type": "code",
   "execution_count": 42,
   "metadata": {},
   "outputs": [
    {
     "data": {
      "text/html": [
       "<div>\n",
       "<style scoped>\n",
       "    .dataframe tbody tr th:only-of-type {\n",
       "        vertical-align: middle;\n",
       "    }\n",
       "\n",
       "    .dataframe tbody tr th {\n",
       "        vertical-align: top;\n",
       "    }\n",
       "\n",
       "    .dataframe thead th {\n",
       "        text-align: right;\n",
       "    }\n",
       "</style>\n",
       "<table border=\"1\" class=\"dataframe\">\n",
       "  <thead>\n",
       "    <tr style=\"text-align: right;\">\n",
       "      <th></th>\n",
       "      <th>qID</th>\n",
       "      <th>Query</th>\n",
       "      <th>preprocessed</th>\n",
       "      <th>tfidf</th>\n",
       "      <th>word2vec</th>\n",
       "    </tr>\n",
       "  </thead>\n",
       "  <tbody>\n",
       "    <tr>\n",
       "      <th>0</th>\n",
       "      <td>1015828</td>\n",
       "      <td>which of the following terms refers to a graft...</td>\n",
       "      <td>[follow, term, refer, graft, deriv, one, part,...</td>\n",
       "      <td>{'follow': 0.2074882179437834, 'term': 0.21970...</td>\n",
       "      <td>[-0.012272989, -0.011836106, -0.04778048, 0.00...</td>\n",
       "    </tr>\n",
       "    <tr>\n",
       "      <th>1</th>\n",
       "      <td>766341</td>\n",
       "      <td>what is literary tone brainly</td>\n",
       "      <td>[literari, tone, brainli]</td>\n",
       "      <td>{'literari': 0.7114408754447177, 'tone': 0.702...</td>\n",
       "      <td>[0.010140362, -0.019150048, -0.008985861, 0.02...</td>\n",
       "    </tr>\n",
       "    <tr>\n",
       "      <th>2</th>\n",
       "      <td>472636</td>\n",
       "      <td>peacetime activities are</td>\n",
       "      <td>[peacetim, activ]</td>\n",
       "      <td>{'peacetim': 0.8667387389364694, 'activ': 0.49...</td>\n",
       "      <td>[-0.0059557436, 0.008197126, -0.016743273, -0....</td>\n",
       "    </tr>\n",
       "    <tr>\n",
       "      <th>3</th>\n",
       "      <td>854988</td>\n",
       "      <td>what is the zip code for elmwood park, illinois</td>\n",
       "      <td>[zip, code, elmwood, park, illinoi]</td>\n",
       "      <td>{'zip': 0.4452514615321625, 'code': 0.34106861...</td>\n",
       "      <td>[-0.0042338865, -0.005390686, -0.008355387, 0....</td>\n",
       "    </tr>\n",
       "    <tr>\n",
       "      <th>4</th>\n",
       "      <td>58842</td>\n",
       "      <td>california city &amp; county sales &amp; use tax</td>\n",
       "      <td>[california, citi, counti, sale, use, tax]</td>\n",
       "      <td>{'california': 0.4793795116319782, 'citi': 0.3...</td>\n",
       "      <td>[0.0008382122, -0.008468272, 0.01679516, 0.017...</td>\n",
       "    </tr>\n",
       "    <tr>\n",
       "      <th>...</th>\n",
       "      <td>...</td>\n",
       "      <td>...</td>\n",
       "      <td>...</td>\n",
       "      <td>...</td>\n",
       "      <td>...</td>\n",
       "    </tr>\n",
       "    <tr>\n",
       "      <th>100</th>\n",
       "      <td>799362</td>\n",
       "      <td>what is stamen from trees</td>\n",
       "      <td>[stamen, tree]</td>\n",
       "      <td>{'stamen': 0.8119852702200865, 'tree': 0.58367...</td>\n",
       "      <td>[-0.0063346475, 0.0019277262, 0.016911538, 0.0...</td>\n",
       "    </tr>\n",
       "    <tr>\n",
       "      <th>101</th>\n",
       "      <td>875055</td>\n",
       "      <td>what makes a novel a great classic novel</td>\n",
       "      <td>[make, novel, great, classic, novel]</td>\n",
       "      <td>{'make': 0.22235897737806454, 'novel': 0.84621...</td>\n",
       "      <td>[0.0052431794, 0.004375928, -0.008504376, 0.00...</td>\n",
       "    </tr>\n",
       "    <tr>\n",
       "      <th>102</th>\n",
       "      <td>541275</td>\n",
       "      <td>was winston churchill a hero</td>\n",
       "      <td>[winston, churchil, hero]</td>\n",
       "      <td>{'winston': 0.6071742577698767, 'churchil': 0....</td>\n",
       "      <td>[-0.0023662832, -0.0113825835, -0.0023272187, ...</td>\n",
       "    </tr>\n",
       "    <tr>\n",
       "      <th>103</th>\n",
       "      <td>470699</td>\n",
       "      <td>oval white pill h 115</td>\n",
       "      <td>[oval, white, pill, h, 115]</td>\n",
       "      <td>{'oval': 0.5249629104901368, 'white': 0.324246...</td>\n",
       "      <td>[-0.015594246, 0.005723628, 0.0017587673, -0.0...</td>\n",
       "    </tr>\n",
       "    <tr>\n",
       "      <th>104</th>\n",
       "      <td>141153</td>\n",
       "      <td>deolinda name meaning</td>\n",
       "      <td>[deolinda, name, mean]</td>\n",
       "      <td>{'deolinda': 0.8366671465738251, 'name': 0.380...</td>\n",
       "      <td>[-0.017838906, -0.011472711, -0.010892831, 0.0...</td>\n",
       "    </tr>\n",
       "  </tbody>\n",
       "</table>\n",
       "<p>105 rows × 5 columns</p>\n",
       "</div>"
      ],
      "text/plain": [
       "         qID                                              Query  \\\n",
       "0    1015828  which of the following terms refers to a graft...   \n",
       "1     766341                      what is literary tone brainly   \n",
       "2     472636                           peacetime activities are   \n",
       "3     854988    what is the zip code for elmwood park, illinois   \n",
       "4      58842           california city & county sales & use tax   \n",
       "..       ...                                                ...   \n",
       "100   799362                          what is stamen from trees   \n",
       "101   875055           what makes a novel a great classic novel   \n",
       "102   541275                       was winston churchill a hero   \n",
       "103   470699                              oval white pill h 115   \n",
       "104   141153                              deolinda name meaning   \n",
       "\n",
       "                                          preprocessed  \\\n",
       "0    [follow, term, refer, graft, deriv, one, part,...   \n",
       "1                            [literari, tone, brainli]   \n",
       "2                                    [peacetim, activ]   \n",
       "3                  [zip, code, elmwood, park, illinoi]   \n",
       "4           [california, citi, counti, sale, use, tax]   \n",
       "..                                                 ...   \n",
       "100                                     [stamen, tree]   \n",
       "101               [make, novel, great, classic, novel]   \n",
       "102                          [winston, churchil, hero]   \n",
       "103                        [oval, white, pill, h, 115]   \n",
       "104                             [deolinda, name, mean]   \n",
       "\n",
       "                                                 tfidf  \\\n",
       "0    {'follow': 0.2074882179437834, 'term': 0.21970...   \n",
       "1    {'literari': 0.7114408754447177, 'tone': 0.702...   \n",
       "2    {'peacetim': 0.8667387389364694, 'activ': 0.49...   \n",
       "3    {'zip': 0.4452514615321625, 'code': 0.34106861...   \n",
       "4    {'california': 0.4793795116319782, 'citi': 0.3...   \n",
       "..                                                 ...   \n",
       "100  {'stamen': 0.8119852702200865, 'tree': 0.58367...   \n",
       "101  {'make': 0.22235897737806454, 'novel': 0.84621...   \n",
       "102  {'winston': 0.6071742577698767, 'churchil': 0....   \n",
       "103  {'oval': 0.5249629104901368, 'white': 0.324246...   \n",
       "104  {'deolinda': 0.8366671465738251, 'name': 0.380...   \n",
       "\n",
       "                                              word2vec  \n",
       "0    [-0.012272989, -0.011836106, -0.04778048, 0.00...  \n",
       "1    [0.010140362, -0.019150048, -0.008985861, 0.02...  \n",
       "2    [-0.0059557436, 0.008197126, -0.016743273, -0....  \n",
       "3    [-0.0042338865, -0.005390686, -0.008355387, 0....  \n",
       "4    [0.0008382122, -0.008468272, 0.01679516, 0.017...  \n",
       "..                                                 ...  \n",
       "100  [-0.0063346475, 0.0019277262, 0.016911538, 0.0...  \n",
       "101  [0.0052431794, 0.004375928, -0.008504376, 0.00...  \n",
       "102  [-0.0023662832, -0.0113825835, -0.0023272187, ...  \n",
       "103  [-0.015594246, 0.005723628, 0.0017587673, -0.0...  \n",
       "104  [-0.017838906, -0.011472711, -0.010892831, 0.0...  \n",
       "\n",
       "[105 rows x 5 columns]"
      ]
     },
     "execution_count": 42,
     "metadata": {},
     "output_type": "execute_result"
    }
   ],
   "source": [
    "pipeline.queries"
   ]
  }
 ],
 "metadata": {
  "kernelspec": {
   "display_name": "InRe",
   "language": "python",
   "name": "inre"
  },
  "language_info": {
   "codemirror_mode": {
    "name": "ipython",
    "version": 3
   },
   "file_extension": ".py",
   "mimetype": "text/x-python",
   "name": "python",
   "nbconvert_exporter": "python",
   "pygments_lexer": "ipython3",
   "version": "3.10.0"
  }
 },
 "nbformat": 4,
 "nbformat_minor": 2
}
