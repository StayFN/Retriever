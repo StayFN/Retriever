{
 "cells": [
  {
   "cell_type": "markdown",
   "metadata": {},
   "source": [
    "# Pointwise Evaluation"
   ]
  },
  {
   "cell_type": "markdown",
   "metadata": {},
   "source": [
    "### Imports"
   ]
  },
  {
   "cell_type": "code",
   "execution_count": 1,
   "metadata": {},
   "outputs": [],
   "source": [
    "import os\n",
    "import sys\n",
    "from skopt.space import Integer\n",
    "from skopt.space import Real\n",
    "from skopt.space import Categorical\n",
    "sys.path.append(os.path.dirname((os.path.abspath(\"\"))))"
   ]
  },
  {
   "cell_type": "code",
   "execution_count": 2,
   "metadata": {},
   "outputs": [
    {
     "name": "stderr",
     "output_type": "stream",
     "text": [
      "[nltk_data] Downloading package punkt to /Users/tim/nltk_data...\n",
      "[nltk_data]   Package punkt is already up-to-date!\n",
      "[nltk_data] Downloading package stopwords to /Users/tim/nltk_data...\n",
      "[nltk_data]   Package stopwords is already up-to-date!\n",
      "[nltk_data] Downloading package wordnet to /Users/tim/nltk_data...\n",
      "[nltk_data]   Package wordnet is already up-to-date!\n",
      "[nltk_data] Downloading package averaged_perceptron_tagger to\n",
      "[nltk_data]     /Users/tim/nltk_data...\n",
      "[nltk_data]   Package averaged_perceptron_tagger is already up-to-\n",
      "[nltk_data]       date!\n"
     ]
    }
   ],
   "source": [
    "from src.pipeline import Pipeline"
   ]
  },
  {
   "cell_type": "code",
   "execution_count": 3,
   "metadata": {},
   "outputs": [],
   "source": [
    "pipeline = Pipeline(\n",
    "    collection='data/processed/30_5000_1000_collection.pkl',\n",
    "    queries='data/processed/30_5000_1000_queries.pkl',\n",
    "    queries_val='data/processed/30_5000_1000_queries_val.pkl',\n",
    "    queries_test='data/processed/30_5000_1000_queries_test.pkl',\n",
    "    features='data/processed/30_5000_1000_features.pkl',\n",
    "    qrels_val='data/processed/30_5000_1000_qrels_val.pkl',\n",
    "    qrels_test='data/processed/30_5000_1000_qrels_test.pkl',\n",
    "    features_test='data/processed/30_5000_1000_features_test.pkl',\n",
    "    features_val='data/processed/30_5000_1000_features_val.pkl',\n",
    ")"
   ]
  },
  {
   "cell_type": "code",
   "execution_count": 4,
   "metadata": {
    "scrolled": false
   },
   "outputs": [
    {
     "data": {
      "text/html": [
       "<div>\n",
       "<style scoped>\n",
       "    .dataframe tbody tr th:only-of-type {\n",
       "        vertical-align: middle;\n",
       "    }\n",
       "\n",
       "    .dataframe tbody tr th {\n",
       "        vertical-align: top;\n",
       "    }\n",
       "\n",
       "    .dataframe thead th {\n",
       "        text-align: right;\n",
       "    }\n",
       "</style>\n",
       "<table border=\"1\" class=\"dataframe\">\n",
       "  <thead>\n",
       "    <tr style=\"text-align: right;\">\n",
       "      <th></th>\n",
       "      <th>qID</th>\n",
       "      <th>pID</th>\n",
       "      <th>y</th>\n",
       "      <th>w2v_cosine</th>\n",
       "      <th>w2v_euclidean</th>\n",
       "      <th>w2v_manhattan</th>\n",
       "      <th>w2v_tfidf_cosine</th>\n",
       "      <th>w2v_tfidf_euclidean</th>\n",
       "      <th>w2v_tfidf_manhattan</th>\n",
       "      <th>tfidf_cosine</th>\n",
       "      <th>...</th>\n",
       "      <th>polarity_doc</th>\n",
       "      <th>subjectivity_query</th>\n",
       "      <th>polarity_query</th>\n",
       "      <th>bm25</th>\n",
       "      <th>doc_nouns</th>\n",
       "      <th>doc_adjectives</th>\n",
       "      <th>doc_verbs</th>\n",
       "      <th>query_nouns</th>\n",
       "      <th>query_adjectives</th>\n",
       "      <th>query_verbs</th>\n",
       "    </tr>\n",
       "  </thead>\n",
       "  <tbody>\n",
       "    <tr>\n",
       "      <th>0</th>\n",
       "      <td>603195</td>\n",
       "      <td>7050012</td>\n",
       "      <td>1</td>\n",
       "      <td>0.972107</td>\n",
       "      <td>144.641830</td>\n",
       "      <td>1124.871630</td>\n",
       "      <td>0.938781</td>\n",
       "      <td>2.765727</td>\n",
       "      <td>22.236694</td>\n",
       "      <td>0.537439</td>\n",
       "      <td>...</td>\n",
       "      <td>0.000000</td>\n",
       "      <td>0.00</td>\n",
       "      <td>0.00</td>\n",
       "      <td>-24.655536</td>\n",
       "      <td>23</td>\n",
       "      <td>6</td>\n",
       "      <td>4</td>\n",
       "      <td>3</td>\n",
       "      <td>1</td>\n",
       "      <td>1</td>\n",
       "    </tr>\n",
       "    <tr>\n",
       "      <th>1</th>\n",
       "      <td>474183</td>\n",
       "      <td>325505</td>\n",
       "      <td>1</td>\n",
       "      <td>0.971866</td>\n",
       "      <td>131.960266</td>\n",
       "      <td>1033.670312</td>\n",
       "      <td>0.985675</td>\n",
       "      <td>1.360485</td>\n",
       "      <td>11.347487</td>\n",
       "      <td>0.745907</td>\n",
       "      <td>...</td>\n",
       "      <td>0.450000</td>\n",
       "      <td>0.00</td>\n",
       "      <td>0.00</td>\n",
       "      <td>-33.129796</td>\n",
       "      <td>18</td>\n",
       "      <td>9</td>\n",
       "      <td>3</td>\n",
       "      <td>4</td>\n",
       "      <td>0</td>\n",
       "      <td>0</td>\n",
       "    </tr>\n",
       "    <tr>\n",
       "      <th>2</th>\n",
       "      <td>320545</td>\n",
       "      <td>1751825</td>\n",
       "      <td>1</td>\n",
       "      <td>0.947701</td>\n",
       "      <td>94.900002</td>\n",
       "      <td>756.378183</td>\n",
       "      <td>0.959522</td>\n",
       "      <td>2.236971</td>\n",
       "      <td>17.352688</td>\n",
       "      <td>0.409509</td>\n",
       "      <td>...</td>\n",
       "      <td>0.500000</td>\n",
       "      <td>0.20</td>\n",
       "      <td>0.20</td>\n",
       "      <td>-16.699603</td>\n",
       "      <td>20</td>\n",
       "      <td>2</td>\n",
       "      <td>14</td>\n",
       "      <td>2</td>\n",
       "      <td>1</td>\n",
       "      <td>1</td>\n",
       "    </tr>\n",
       "    <tr>\n",
       "      <th>3</th>\n",
       "      <td>89798</td>\n",
       "      <td>5069949</td>\n",
       "      <td>1</td>\n",
       "      <td>0.972710</td>\n",
       "      <td>161.470459</td>\n",
       "      <td>1273.643564</td>\n",
       "      <td>0.933304</td>\n",
       "      <td>1.714253</td>\n",
       "      <td>13.493497</td>\n",
       "      <td>0.541627</td>\n",
       "      <td>...</td>\n",
       "      <td>0.066667</td>\n",
       "      <td>0.25</td>\n",
       "      <td>0.00</td>\n",
       "      <td>-27.678576</td>\n",
       "      <td>25</td>\n",
       "      <td>10</td>\n",
       "      <td>5</td>\n",
       "      <td>3</td>\n",
       "      <td>1</td>\n",
       "      <td>0</td>\n",
       "    </tr>\n",
       "    <tr>\n",
       "      <th>4</th>\n",
       "      <td>1054603</td>\n",
       "      <td>2869106</td>\n",
       "      <td>1</td>\n",
       "      <td>0.965680</td>\n",
       "      <td>155.648453</td>\n",
       "      <td>1216.564726</td>\n",
       "      <td>0.941391</td>\n",
       "      <td>1.799412</td>\n",
       "      <td>14.369308</td>\n",
       "      <td>0.438115</td>\n",
       "      <td>...</td>\n",
       "      <td>0.000000</td>\n",
       "      <td>0.00</td>\n",
       "      <td>0.00</td>\n",
       "      <td>-28.497519</td>\n",
       "      <td>20</td>\n",
       "      <td>9</td>\n",
       "      <td>6</td>\n",
       "      <td>2</td>\n",
       "      <td>2</td>\n",
       "      <td>1</td>\n",
       "    </tr>\n",
       "    <tr>\n",
       "      <th>...</th>\n",
       "      <td>...</td>\n",
       "      <td>...</td>\n",
       "      <td>...</td>\n",
       "      <td>...</td>\n",
       "      <td>...</td>\n",
       "      <td>...</td>\n",
       "      <td>...</td>\n",
       "      <td>...</td>\n",
       "      <td>...</td>\n",
       "      <td>...</td>\n",
       "      <td>...</td>\n",
       "      <td>...</td>\n",
       "      <td>...</td>\n",
       "      <td>...</td>\n",
       "      <td>...</td>\n",
       "      <td>...</td>\n",
       "      <td>...</td>\n",
       "      <td>...</td>\n",
       "      <td>...</td>\n",
       "      <td>...</td>\n",
       "      <td>...</td>\n",
       "    </tr>\n",
       "    <tr>\n",
       "      <th>4995</th>\n",
       "      <td>128401</td>\n",
       "      <td>6127598</td>\n",
       "      <td>0</td>\n",
       "      <td>0.796978</td>\n",
       "      <td>85.670822</td>\n",
       "      <td>678.466760</td>\n",
       "      <td>0.555981</td>\n",
       "      <td>3.027138</td>\n",
       "      <td>24.841764</td>\n",
       "      <td>0.185056</td>\n",
       "      <td>...</td>\n",
       "      <td>-0.520833</td>\n",
       "      <td>0.00</td>\n",
       "      <td>0.00</td>\n",
       "      <td>-8.866170</td>\n",
       "      <td>16</td>\n",
       "      <td>6</td>\n",
       "      <td>13</td>\n",
       "      <td>2</td>\n",
       "      <td>1</td>\n",
       "      <td>0</td>\n",
       "    </tr>\n",
       "    <tr>\n",
       "      <th>4996</th>\n",
       "      <td>1044540</td>\n",
       "      <td>4616118</td>\n",
       "      <td>0</td>\n",
       "      <td>0.922095</td>\n",
       "      <td>157.044754</td>\n",
       "      <td>1238.354322</td>\n",
       "      <td>0.603788</td>\n",
       "      <td>2.167866</td>\n",
       "      <td>17.812756</td>\n",
       "      <td>0.140057</td>\n",
       "      <td>...</td>\n",
       "      <td>0.156250</td>\n",
       "      <td>0.00</td>\n",
       "      <td>0.00</td>\n",
       "      <td>-7.852468</td>\n",
       "      <td>25</td>\n",
       "      <td>9</td>\n",
       "      <td>16</td>\n",
       "      <td>0</td>\n",
       "      <td>0</td>\n",
       "      <td>1</td>\n",
       "    </tr>\n",
       "    <tr>\n",
       "      <th>4997</th>\n",
       "      <td>486146</td>\n",
       "      <td>1137390</td>\n",
       "      <td>0</td>\n",
       "      <td>0.946438</td>\n",
       "      <td>125.126984</td>\n",
       "      <td>972.330644</td>\n",
       "      <td>0.882998</td>\n",
       "      <td>4.161341</td>\n",
       "      <td>34.815641</td>\n",
       "      <td>0.314505</td>\n",
       "      <td>...</td>\n",
       "      <td>-0.100000</td>\n",
       "      <td>0.10</td>\n",
       "      <td>0.00</td>\n",
       "      <td>-15.909103</td>\n",
       "      <td>12</td>\n",
       "      <td>1</td>\n",
       "      <td>10</td>\n",
       "      <td>2</td>\n",
       "      <td>0</td>\n",
       "      <td>2</td>\n",
       "    </tr>\n",
       "    <tr>\n",
       "      <th>4998</th>\n",
       "      <td>532697</td>\n",
       "      <td>5161847</td>\n",
       "      <td>0</td>\n",
       "      <td>0.938939</td>\n",
       "      <td>99.808395</td>\n",
       "      <td>790.453814</td>\n",
       "      <td>0.893834</td>\n",
       "      <td>1.977307</td>\n",
       "      <td>16.122506</td>\n",
       "      <td>0.344173</td>\n",
       "      <td>...</td>\n",
       "      <td>0.284375</td>\n",
       "      <td>0.00</td>\n",
       "      <td>0.00</td>\n",
       "      <td>-16.617979</td>\n",
       "      <td>18</td>\n",
       "      <td>8</td>\n",
       "      <td>9</td>\n",
       "      <td>3</td>\n",
       "      <td>1</td>\n",
       "      <td>0</td>\n",
       "    </tr>\n",
       "    <tr>\n",
       "      <th>4999</th>\n",
       "      <td>763472</td>\n",
       "      <td>6447198</td>\n",
       "      <td>0</td>\n",
       "      <td>0.988622</td>\n",
       "      <td>134.510406</td>\n",
       "      <td>1094.769867</td>\n",
       "      <td>0.977100</td>\n",
       "      <td>1.039390</td>\n",
       "      <td>8.350440</td>\n",
       "      <td>0.290261</td>\n",
       "      <td>...</td>\n",
       "      <td>0.033333</td>\n",
       "      <td>0.05</td>\n",
       "      <td>0.15</td>\n",
       "      <td>-16.757101</td>\n",
       "      <td>12</td>\n",
       "      <td>16</td>\n",
       "      <td>4</td>\n",
       "      <td>1</td>\n",
       "      <td>3</td>\n",
       "      <td>1</td>\n",
       "    </tr>\n",
       "  </tbody>\n",
       "</table>\n",
       "<p>9977 rows × 38 columns</p>\n",
       "</div>"
      ],
      "text/plain": [
       "          qID      pID  y  w2v_cosine  w2v_euclidean  w2v_manhattan  \\\n",
       "0      603195  7050012  1    0.972107     144.641830    1124.871630   \n",
       "1      474183   325505  1    0.971866     131.960266    1033.670312   \n",
       "2      320545  1751825  1    0.947701      94.900002     756.378183   \n",
       "3       89798  5069949  1    0.972710     161.470459    1273.643564   \n",
       "4     1054603  2869106  1    0.965680     155.648453    1216.564726   \n",
       "...       ...      ... ..         ...            ...            ...   \n",
       "4995   128401  6127598  0    0.796978      85.670822     678.466760   \n",
       "4996  1044540  4616118  0    0.922095     157.044754    1238.354322   \n",
       "4997   486146  1137390  0    0.946438     125.126984     972.330644   \n",
       "4998   532697  5161847  0    0.938939      99.808395     790.453814   \n",
       "4999   763472  6447198  0    0.988622     134.510406    1094.769867   \n",
       "\n",
       "      w2v_tfidf_cosine  w2v_tfidf_euclidean  w2v_tfidf_manhattan  \\\n",
       "0             0.938781             2.765727            22.236694   \n",
       "1             0.985675             1.360485            11.347487   \n",
       "2             0.959522             2.236971            17.352688   \n",
       "3             0.933304             1.714253            13.493497   \n",
       "4             0.941391             1.799412            14.369308   \n",
       "...                ...                  ...                  ...   \n",
       "4995          0.555981             3.027138            24.841764   \n",
       "4996          0.603788             2.167866            17.812756   \n",
       "4997          0.882998             4.161341            34.815641   \n",
       "4998          0.893834             1.977307            16.122506   \n",
       "4999          0.977100             1.039390             8.350440   \n",
       "\n",
       "      tfidf_cosine  ...  polarity_doc  subjectivity_query  polarity_query  \\\n",
       "0         0.537439  ...      0.000000                0.00            0.00   \n",
       "1         0.745907  ...      0.450000                0.00            0.00   \n",
       "2         0.409509  ...      0.500000                0.20            0.20   \n",
       "3         0.541627  ...      0.066667                0.25            0.00   \n",
       "4         0.438115  ...      0.000000                0.00            0.00   \n",
       "...            ...  ...           ...                 ...             ...   \n",
       "4995      0.185056  ...     -0.520833                0.00            0.00   \n",
       "4996      0.140057  ...      0.156250                0.00            0.00   \n",
       "4997      0.314505  ...     -0.100000                0.10            0.00   \n",
       "4998      0.344173  ...      0.284375                0.00            0.00   \n",
       "4999      0.290261  ...      0.033333                0.05            0.15   \n",
       "\n",
       "           bm25  doc_nouns  doc_adjectives  doc_verbs  query_nouns  \\\n",
       "0    -24.655536         23               6          4            3   \n",
       "1    -33.129796         18               9          3            4   \n",
       "2    -16.699603         20               2         14            2   \n",
       "3    -27.678576         25              10          5            3   \n",
       "4    -28.497519         20               9          6            2   \n",
       "...         ...        ...             ...        ...          ...   \n",
       "4995  -8.866170         16               6         13            2   \n",
       "4996  -7.852468         25               9         16            0   \n",
       "4997 -15.909103         12               1         10            2   \n",
       "4998 -16.617979         18               8          9            3   \n",
       "4999 -16.757101         12              16          4            1   \n",
       "\n",
       "      query_adjectives  query_verbs  \n",
       "0                    1            1  \n",
       "1                    0            0  \n",
       "2                    1            1  \n",
       "3                    1            0  \n",
       "4                    2            1  \n",
       "...                ...          ...  \n",
       "4995                 1            0  \n",
       "4996                 0            1  \n",
       "4997                 0            2  \n",
       "4998                 1            0  \n",
       "4999                 3            1  \n",
       "\n",
       "[9977 rows x 38 columns]"
      ]
     },
     "execution_count": 4,
     "metadata": {},
     "output_type": "execute_result"
    }
   ],
   "source": [
    "pipeline.features"
   ]
  },
  {
   "cell_type": "markdown",
   "metadata": {},
   "source": [
    "### Logistic Regression"
   ]
  },
  {
   "cell_type": "markdown",
   "metadata": {},
   "source": [
    "##### Without Hyperparameter Optimization"
   ]
  },
  {
   "cell_type": "code",
   "execution_count": 5,
   "metadata": {
    "scrolled": false
   },
   "outputs": [
    {
     "name": "stderr",
     "output_type": "stream",
     "text": [
      "/Users/tim/opt/anaconda3/envs/inforetrieval/lib/python3.9/site-packages/sklearn/linear_model/_logistic.py:814: ConvergenceWarning: lbfgs failed to converge (status=1):\n",
      "STOP: TOTAL NO. of ITERATIONS REACHED LIMIT.\n",
      "\n",
      "Increase the number of iterations (max_iter) or scale the data as shown in:\n",
      "    https://scikit-learn.org/stable/modules/preprocessing.html\n",
      "Please also refer to the documentation for alternative solver options:\n",
      "    https://scikit-learn.org/stable/modules/linear_model.html#logistic-regression\n",
      "  n_iter_i = _check_optimize_result(\n"
     ]
    },
    {
     "name": "stdout",
     "output_type": "stream",
     "text": [
      "MRR: 0.03805952869994696\n"
     ]
    }
   ],
   "source": [
    "pipeline.evaluate(\n",
    "    name='default',\n",
    "    model='lr', \n",
    "    pca=0\n",
    ")"
   ]
  },
  {
   "cell_type": "markdown",
   "metadata": {},
   "source": [
    "##### With Hyperparameter Optimization"
   ]
  },
  {
   "cell_type": "code",
   "execution_count": 5,
   "metadata": {},
   "outputs": [],
   "source": [
    "logistic_regression_search_space: list = []\n",
    "logistic_regression_search_space.append(Categorical(['l2', 'none'], name='penalty'))\n",
    "logistic_regression_search_space.append(Real(0.1, 100.0, name='C'))\n",
    "logistic_regression_search_space.append(Real(1e-6, 0.1, name='tol'))"
   ]
  },
  {
   "cell_type": "code",
   "execution_count": 6,
   "metadata": {
    "scrolled": true
   },
   "outputs": [
    {
     "name": "stderr",
     "output_type": "stream",
     "text": [
      "/Users/tim/opt/anaconda3/envs/inforetrieval/lib/python3.9/site-packages/sklearn/linear_model/_logistic.py:1483: UserWarning: Setting penalty='none' will ignore the C and l1_ratio parameters\n",
      "  warnings.warn(\n",
      "/Users/tim/opt/anaconda3/envs/inforetrieval/lib/python3.9/site-packages/sklearn/linear_model/_logistic.py:1483: UserWarning: Setting penalty='none' will ignore the C and l1_ratio parameters\n",
      "  warnings.warn(\n",
      "/Users/tim/opt/anaconda3/envs/inforetrieval/lib/python3.9/site-packages/sklearn/linear_model/_logistic.py:1483: UserWarning: Setting penalty='none' will ignore the C and l1_ratio parameters\n",
      "  warnings.warn(\n",
      "/Users/tim/opt/anaconda3/envs/inforetrieval/lib/python3.9/site-packages/sklearn/linear_model/_logistic.py:1483: UserWarning: Setting penalty='none' will ignore the C and l1_ratio parameters\n",
      "  warnings.warn(\n",
      "/Users/tim/opt/anaconda3/envs/inforetrieval/lib/python3.9/site-packages/sklearn/linear_model/_logistic.py:1483: UserWarning: Setting penalty='none' will ignore the C and l1_ratio parameters\n",
      "  warnings.warn(\n",
      "/Users/tim/opt/anaconda3/envs/inforetrieval/lib/python3.9/site-packages/sklearn/linear_model/_logistic.py:1483: UserWarning: Setting penalty='none' will ignore the C and l1_ratio parameters\n",
      "  warnings.warn(\n"
     ]
    },
    {
     "name": "stdout",
     "output_type": "stream",
     "text": [
      "Best MRR: -0.020961472527053267\n",
      "Best Hyperparameters: ['l2', 5.6980759407867705, 0.002508188700257655]\n",
      "MRR on test set: 0.037126943017010396\n"
     ]
    }
   ],
   "source": [
    "pipeline.evaluate(\n",
    "    name='hpo',\n",
    "    model='lr', \n",
    "    pca=5, \n",
    "    search_space=logistic_regression_search_space,\n",
    "    trials=20\n",
    ")"
   ]
  },
  {
   "cell_type": "markdown",
   "metadata": {},
   "source": [
    "### Naive Bayes"
   ]
  },
  {
   "cell_type": "code",
   "execution_count": 6,
   "metadata": {},
   "outputs": [
    {
     "name": "stdout",
     "output_type": "stream",
     "text": [
      "MRR: 0.03607157243379598\n"
     ]
    }
   ],
   "source": [
    "pipeline.evaluate(\n",
    "    name='default',\n",
    "    model='nb', \n",
    "    pca=0\n",
    ")"
   ]
  },
  {
   "cell_type": "markdown",
   "metadata": {},
   "source": [
    "### Multi-layer Perceptron"
   ]
  },
  {
   "cell_type": "markdown",
   "metadata": {},
   "source": [
    "##### Without Hyperparameter Optimization"
   ]
  },
  {
   "cell_type": "code",
   "execution_count": 16,
   "metadata": {},
   "outputs": [
    {
     "name": "stderr",
     "output_type": "stream",
     "text": [
      "/Users/tim/opt/anaconda3/envs/inforetrieval/lib/python3.9/site-packages/sklearn/neural_network/_multilayer_perceptron.py:692: ConvergenceWarning: Stochastic Optimizer: Maximum iterations (200) reached and the optimization hasn't converged yet.\n",
      "  warnings.warn(\n"
     ]
    },
    {
     "name": "stdout",
     "output_type": "stream",
     "text": [
      "MRR: 0.021087456150293574\n"
     ]
    }
   ],
   "source": [
    "pipeline.evaluate(\n",
    "    name='default',\n",
    "    model='mlp', \n",
    "    pca=0\n",
    ")"
   ]
  },
  {
   "cell_type": "markdown",
   "metadata": {},
   "source": [
    "##### With Hyperparameter Optimization"
   ]
  },
  {
   "cell_type": "code",
   "execution_count": 13,
   "metadata": {},
   "outputs": [],
   "source": [
    "mlp_search_space: list = []\n",
    "mlp_search_space.append(Categorical(['identity', 'logistic', 'tanh', 'relu'], name='activation'))\n",
    "mlp_search_space.append(Real(1e-6, 0.1, name='alpha'))\n",
    "mlp_search_space.append(Real(1e-6, 0.1, name='learning_rate_init'))"
   ]
  },
  {
   "cell_type": "code",
   "execution_count": 17,
   "metadata": {
    "scrolled": true
   },
   "outputs": [
    {
     "name": "stdout",
     "output_type": "stream",
     "text": [
      "Best MRR: 0.008856659110087957\n",
      "Best Hyperparameters: ['relu', 0.0057874644134355835, 0.0478341107632347]\n",
      "MRR on test set: 0.029243423005499914\n"
     ]
    }
   ],
   "source": [
    "pipeline.evaluate(\n",
    "    name='hpo',\n",
    "    model='mlp', \n",
    "    pca=0,\n",
    "    search_space=mlp_search_space,\n",
    "    trials=10\n",
    ")"
   ]
  },
  {
   "cell_type": "markdown",
   "metadata": {},
   "source": [
    "### Support Vector Machine"
   ]
  },
  {
   "cell_type": "markdown",
   "metadata": {},
   "source": [
    "##### Without Hyperparameter Optimization"
   ]
  },
  {
   "cell_type": "code",
   "execution_count": 8,
   "metadata": {},
   "outputs": [
    {
     "name": "stdout",
     "output_type": "stream",
     "text": [
      "MRR: 0.0319047903484395\n"
     ]
    }
   ],
   "source": [
    "pipeline.evaluate(\n",
    "    name='default',\n",
    "    model='svm', \n",
    "    pca=0\n",
    ")"
   ]
  },
  {
   "cell_type": "markdown",
   "metadata": {},
   "source": [
    "##### With Hyperparameter Optimization"
   ]
  },
  {
   "cell_type": "code",
   "execution_count": 18,
   "metadata": {},
   "outputs": [],
   "source": [
    "svm_search_space: list = []\n",
    "svm_search_space.append(Categorical(['poly', 'rbf', 'sigmoid'], name='kernel'))\n",
    "svm_search_space.append(Real(0.1, 100.0, name='C'))"
   ]
  },
  {
   "cell_type": "code",
   "execution_count": 19,
   "metadata": {},
   "outputs": [
    {
     "name": "stdout",
     "output_type": "stream",
     "text": [
      "Best MRR: 0.006591189472904975\n",
      "Best Hyperparameters: ['poly', 96.43409248718199]\n",
      "MRR on test set: 0.02065391377002617\n"
     ]
    }
   ],
   "source": [
    "pipeline.evaluate(\n",
    "    model='svm', \n",
    "    pca=0,\n",
    "    search_space=svm_search_space,\n",
    "    trials=10\n",
    ")"
   ]
  },
  {
   "cell_type": "markdown",
   "metadata": {},
   "source": [
    "### Decision Tree"
   ]
  },
  {
   "cell_type": "code",
   "execution_count": 16,
   "metadata": {},
   "outputs": [
    {
     "data": {
      "text/plain": [
       "\"{'ccp_alpha': 0.0, 'class_weight': None, 'criterion': 'gini', 'max_depth': None, 'max_features': None, 'max_leaf_nodes': None, 'min_impurity_decrease': 0.0, 'min_samples_leaf': 1, 'min_samples_split': 2, 'min_weight_fraction_leaf': 0.0, 'random_state': None, 'splitter': 'best'}\""
      ]
     },
     "execution_count": 16,
     "metadata": {},
     "output_type": "execute_result"
    }
   ],
   "source": [
    "from sklearn.tree import DecisionTreeClassifier\n",
    "import json\n",
    "\n",
    "dt = DecisionTreeClassifier()\n",
    "str(dt.get_params())"
   ]
  },
  {
   "cell_type": "markdown",
   "metadata": {},
   "source": [
    "##### Without Hyperparameter Optimization"
   ]
  },
  {
   "cell_type": "code",
   "execution_count": 7,
   "metadata": {},
   "outputs": [
    {
     "name": "stdout",
     "output_type": "stream",
     "text": [
      "MRR: 0.00562915260933\n"
     ]
    }
   ],
   "source": [
    "pipeline.evaluate(\n",
    "    name='default',\n",
    "    model='dt', \n",
    "    pca=0\n",
    ")"
   ]
  },
  {
   "cell_type": "markdown",
   "metadata": {},
   "source": [
    "##### With Hyperparameter Optimization"
   ]
  },
  {
   "cell_type": "code",
   "execution_count": 6,
   "metadata": {},
   "outputs": [],
   "source": [
    "decision_tree_search_space: list = []\n",
    "decision_tree_search_space.append(Categorical(['gini', 'entropy'], name='criterion'))\n",
    "decision_tree_search_space.append(Integer(2, 15, name='min_samples_split'))\n",
    "decision_tree_search_space.append(Integer(1, 10, name='min_samples_leaf'))\n",
    "decision_tree_search_space.append(Integer(5, 100, name='max_leaf_nodes'))\n",
    "decision_tree_search_space.append(Integer(10, 50, name='max_depth'))\n",
    "decision_tree_search_space.append(Real(0.0, 0.2, name='min_weight_fraction_leaf'))"
   ]
  },
  {
   "cell_type": "code",
   "execution_count": 7,
   "metadata": {},
   "outputs": [
    {
     "name": "stdout",
     "output_type": "stream",
     "text": [
      "Best MRR: -0.013578619748480097\n",
      "Best Hyperparameters: ['entropy', 8, 10, 46, 48, 0.190366916117415]\n",
      "MRR on test set: 0.02660054996605312\n"
     ]
    }
   ],
   "source": [
    "pipeline.evaluate(\n",
    "    model='dt', \n",
    "    pca=0,\n",
    "    search_space=decision_tree_search_space\n",
    ")"
   ]
  },
  {
   "cell_type": "markdown",
   "metadata": {},
   "source": [
    "### Random Forest"
   ]
  },
  {
   "cell_type": "markdown",
   "metadata": {},
   "source": [
    "##### Without Hyperparameter Optimization"
   ]
  },
  {
   "cell_type": "code",
   "execution_count": 10,
   "metadata": {},
   "outputs": [
    {
     "name": "stdout",
     "output_type": "stream",
     "text": [
      "MRR: 0.01832565851787843\n"
     ]
    }
   ],
   "source": [
    "pipeline.evaluate(\n",
    "    name='default',\n",
    "    model='rf', \n",
    "    pca=0\n",
    ")"
   ]
  },
  {
   "cell_type": "markdown",
   "metadata": {},
   "source": [
    "### Adaptive Boosting"
   ]
  },
  {
   "cell_type": "markdown",
   "metadata": {},
   "source": [
    "##### Without Hyperparameter Optimization"
   ]
  },
  {
   "cell_type": "code",
   "execution_count": 11,
   "metadata": {},
   "outputs": [
    {
     "name": "stdout",
     "output_type": "stream",
     "text": [
      "MRR: 0.03265656237712727\n"
     ]
    }
   ],
   "source": [
    "pipeline.evaluate(\n",
    "    name='default',\n",
    "    model='ada', \n",
    "    pca=0\n",
    ")"
   ]
  },
  {
   "cell_type": "markdown",
   "metadata": {},
   "source": [
    "### Gradient Boosting"
   ]
  },
  {
   "cell_type": "markdown",
   "metadata": {},
   "source": [
    "##### Without Hyperparameter Optimization"
   ]
  },
  {
   "cell_type": "code",
   "execution_count": 8,
   "metadata": {},
   "outputs": [
    {
     "name": "stdout",
     "output_type": "stream",
     "text": [
      "MRR: 0.024049391304517796\n"
     ]
    }
   ],
   "source": [
    "pipeline.evaluate(\n",
    "    name='default',\n",
    "    model='gb', \n",
    "    pca=0\n",
    ")"
   ]
  },
  {
   "cell_type": "code",
   "execution_count": 10,
   "metadata": {},
   "outputs": [],
   "source": [
    "import pandas as pd\n",
    "from src.utils.utils import load\n",
    "\n",
    "results = load('data/results/results.pkl')"
   ]
  },
  {
   "cell_type": "markdown",
   "metadata": {},
   "source": [
    "### Default Results"
   ]
  },
  {
   "cell_type": "code",
   "execution_count": 14,
   "metadata": {},
   "outputs": [
    {
     "data": {
      "text/html": [
       "<div>\n",
       "<style scoped>\n",
       "    .dataframe tbody tr th:only-of-type {\n",
       "        vertical-align: middle;\n",
       "    }\n",
       "\n",
       "    .dataframe tbody tr th {\n",
       "        vertical-align: top;\n",
       "    }\n",
       "\n",
       "    .dataframe thead th {\n",
       "        text-align: right;\n",
       "    }\n",
       "</style>\n",
       "<table border=\"1\" class=\"dataframe\">\n",
       "  <thead>\n",
       "    <tr style=\"text-align: right;\">\n",
       "      <th></th>\n",
       "      <th>name</th>\n",
       "      <th>model</th>\n",
       "      <th>hyperparameters</th>\n",
       "      <th>pairwise_model</th>\n",
       "      <th>pairwise_k</th>\n",
       "      <th>features</th>\n",
       "      <th>sampling_training</th>\n",
       "      <th>sampling_test</th>\n",
       "      <th>pca</th>\n",
       "      <th>MRR</th>\n",
       "      <th>MAP</th>\n",
       "      <th>nDCG</th>\n",
       "      <th>accuracy</th>\n",
       "      <th>precision</th>\n",
       "      <th>recall</th>\n",
       "      <th>f1</th>\n",
       "      <th>accuracy@50</th>\n",
       "      <th>precision@50</th>\n",
       "      <th>recall@50</th>\n",
       "      <th>f1@50</th>\n",
       "    </tr>\n",
       "  </thead>\n",
       "  <tbody>\n",
       "    <tr>\n",
       "      <th>17</th>\n",
       "      <td>default</td>\n",
       "      <td>LogisticRegression()</td>\n",
       "      <td>{\"C\": 1.0, \"class_weight\": null, \"dual\": false...</td>\n",
       "      <td>None</td>\n",
       "      <td>None</td>\n",
       "      <td>[\"w2v_cosine\", \"w2v_euclidean\", \"w2v_manhattan...</td>\n",
       "      <td>9977</td>\n",
       "      <td>451680</td>\n",
       "      <td>0</td>\n",
       "      <td>0.038060</td>\n",
       "      <td>0.865090</td>\n",
       "      <td>0.859446</td>\n",
       "      <td>0.997135</td>\n",
       "      <td>0.993724</td>\n",
       "      <td>0.268969</td>\n",
       "      <td>0.423351</td>\n",
       "      <td>0.690667</td>\n",
       "      <td>0.993289</td>\n",
       "      <td>0.490608</td>\n",
       "      <td>0.656805</td>\n",
       "    </tr>\n",
       "    <tr>\n",
       "      <th>18</th>\n",
       "      <td>default</td>\n",
       "      <td>GaussianNB()</td>\n",
       "      <td>{\"priors\": null, \"var_smoothing\": 1e-09}</td>\n",
       "      <td>None</td>\n",
       "      <td>None</td>\n",
       "      <td>[\"w2v_cosine\", \"w2v_euclidean\", \"w2v_manhattan...</td>\n",
       "      <td>9977</td>\n",
       "      <td>451680</td>\n",
       "      <td>0</td>\n",
       "      <td>0.036072</td>\n",
       "      <td>0.874882</td>\n",
       "      <td>0.875631</td>\n",
       "      <td>0.997173</td>\n",
       "      <td>0.995943</td>\n",
       "      <td>0.278029</td>\n",
       "      <td>0.434706</td>\n",
       "      <td>0.718000</td>\n",
       "      <td>0.995851</td>\n",
       "      <td>0.532741</td>\n",
       "      <td>0.694143</td>\n",
       "    </tr>\n",
       "    <tr>\n",
       "      <th>19</th>\n",
       "      <td>default</td>\n",
       "      <td>MLPClassifier()</td>\n",
       "      <td>{\"activation\": \"relu\", \"alpha\": 0.0001, \"batch...</td>\n",
       "      <td>None</td>\n",
       "      <td>None</td>\n",
       "      <td>[\"w2v_cosine\", \"w2v_euclidean\", \"w2v_manhattan...</td>\n",
       "      <td>9977</td>\n",
       "      <td>451680</td>\n",
       "      <td>0</td>\n",
       "      <td>0.013483</td>\n",
       "      <td>0.440844</td>\n",
       "      <td>0.638569</td>\n",
       "      <td>0.995590</td>\n",
       "      <td>0.399823</td>\n",
       "      <td>0.255379</td>\n",
       "      <td>0.311679</td>\n",
       "      <td>0.623333</td>\n",
       "      <td>0.480047</td>\n",
       "      <td>0.770245</td>\n",
       "      <td>0.591468</td>\n",
       "    </tr>\n",
       "    <tr>\n",
       "      <th>20</th>\n",
       "      <td>default</td>\n",
       "      <td>SVC(probability=True)</td>\n",
       "      <td>{\"C\": 1.0, \"break_ties\": false, \"cache_size\": ...</td>\n",
       "      <td>None</td>\n",
       "      <td>None</td>\n",
       "      <td>[\"w2v_cosine\", \"w2v_euclidean\", \"w2v_manhattan...</td>\n",
       "      <td>9977</td>\n",
       "      <td>451680</td>\n",
       "      <td>0</td>\n",
       "      <td>0.031905</td>\n",
       "      <td>0.775297</td>\n",
       "      <td>0.826087</td>\n",
       "      <td>0.997208</td>\n",
       "      <td>0.994129</td>\n",
       "      <td>0.287656</td>\n",
       "      <td>0.446201</td>\n",
       "      <td>0.748667</td>\n",
       "      <td>0.993776</td>\n",
       "      <td>0.561547</td>\n",
       "      <td>0.717603</td>\n",
       "    </tr>\n",
       "    <tr>\n",
       "      <th>21</th>\n",
       "      <td>default</td>\n",
       "      <td>DecisionTreeClassifier()</td>\n",
       "      <td>{\"ccp_alpha\": 0.0, \"class_weight\": null, \"crit...</td>\n",
       "      <td>None</td>\n",
       "      <td>None</td>\n",
       "      <td>[\"w2v_cosine\", \"w2v_euclidean\", \"w2v_manhattan...</td>\n",
       "      <td>9977</td>\n",
       "      <td>451680</td>\n",
       "      <td>0</td>\n",
       "      <td>0.008408</td>\n",
       "      <td>0.308170</td>\n",
       "      <td>0.576857</td>\n",
       "      <td>0.996393</td>\n",
       "      <td>0.560889</td>\n",
       "      <td>0.357305</td>\n",
       "      <td>0.436527</td>\n",
       "      <td>0.716000</td>\n",
       "      <td>0.555556</td>\n",
       "      <td>0.996241</td>\n",
       "      <td>0.713324</td>\n",
       "    </tr>\n",
       "    <tr>\n",
       "      <th>22</th>\n",
       "      <td>default</td>\n",
       "      <td>RandomForestClassifier()</td>\n",
       "      <td>{\"bootstrap\": true, \"ccp_alpha\": 0.0, \"class_w...</td>\n",
       "      <td>None</td>\n",
       "      <td>None</td>\n",
       "      <td>[\"w2v_cosine\", \"w2v_euclidean\", \"w2v_manhattan...</td>\n",
       "      <td>9977</td>\n",
       "      <td>451680</td>\n",
       "      <td>0</td>\n",
       "      <td>0.018326</td>\n",
       "      <td>0.677792</td>\n",
       "      <td>0.820648</td>\n",
       "      <td>0.997430</td>\n",
       "      <td>0.993475</td>\n",
       "      <td>0.344847</td>\n",
       "      <td>0.511980</td>\n",
       "      <td>0.850667</td>\n",
       "      <td>0.992920</td>\n",
       "      <td>0.718310</td>\n",
       "      <td>0.833581</td>\n",
       "    </tr>\n",
       "    <tr>\n",
       "      <th>23</th>\n",
       "      <td>default</td>\n",
       "      <td>AdaBoostClassifier()</td>\n",
       "      <td>{\"algorithm\": \"SAMME.R\", \"base_estimator\": nul...</td>\n",
       "      <td>None</td>\n",
       "      <td>None</td>\n",
       "      <td>[\"w2v_cosine\", \"w2v_euclidean\", \"w2v_manhattan...</td>\n",
       "      <td>9977</td>\n",
       "      <td>451680</td>\n",
       "      <td>0</td>\n",
       "      <td>0.032657</td>\n",
       "      <td>0.827516</td>\n",
       "      <td>0.854278</td>\n",
       "      <td>0.997219</td>\n",
       "      <td>0.992278</td>\n",
       "      <td>0.291053</td>\n",
       "      <td>0.450088</td>\n",
       "      <td>0.718667</td>\n",
       "      <td>0.991667</td>\n",
       "      <td>0.532438</td>\n",
       "      <td>0.692868</td>\n",
       "    </tr>\n",
       "    <tr>\n",
       "      <th>24</th>\n",
       "      <td>default</td>\n",
       "      <td>GradientBoostingClassifier()</td>\n",
       "      <td>{\"ccp_alpha\": 0.0, \"criterion\": \"friedman_mse\"...</td>\n",
       "      <td>None</td>\n",
       "      <td>None</td>\n",
       "      <td>[\"w2v_cosine\", \"w2v_euclidean\", \"w2v_manhattan...</td>\n",
       "      <td>9977</td>\n",
       "      <td>451680</td>\n",
       "      <td>0</td>\n",
       "      <td>0.024211</td>\n",
       "      <td>0.728175</td>\n",
       "      <td>0.827123</td>\n",
       "      <td>0.997250</td>\n",
       "      <td>0.992481</td>\n",
       "      <td>0.298981</td>\n",
       "      <td>0.459530</td>\n",
       "      <td>0.771333</td>\n",
       "      <td>0.991903</td>\n",
       "      <td>0.591074</td>\n",
       "      <td>0.740741</td>\n",
       "    </tr>\n",
       "  </tbody>\n",
       "</table>\n",
       "</div>"
      ],
      "text/plain": [
       "       name                         model  \\\n",
       "17  default          LogisticRegression()   \n",
       "18  default                  GaussianNB()   \n",
       "19  default               MLPClassifier()   \n",
       "20  default         SVC(probability=True)   \n",
       "21  default      DecisionTreeClassifier()   \n",
       "22  default      RandomForestClassifier()   \n",
       "23  default          AdaBoostClassifier()   \n",
       "24  default  GradientBoostingClassifier()   \n",
       "\n",
       "                                      hyperparameters pairwise_model  \\\n",
       "17  {\"C\": 1.0, \"class_weight\": null, \"dual\": false...           None   \n",
       "18           {\"priors\": null, \"var_smoothing\": 1e-09}           None   \n",
       "19  {\"activation\": \"relu\", \"alpha\": 0.0001, \"batch...           None   \n",
       "20  {\"C\": 1.0, \"break_ties\": false, \"cache_size\": ...           None   \n",
       "21  {\"ccp_alpha\": 0.0, \"class_weight\": null, \"crit...           None   \n",
       "22  {\"bootstrap\": true, \"ccp_alpha\": 0.0, \"class_w...           None   \n",
       "23  {\"algorithm\": \"SAMME.R\", \"base_estimator\": nul...           None   \n",
       "24  {\"ccp_alpha\": 0.0, \"criterion\": \"friedman_mse\"...           None   \n",
       "\n",
       "   pairwise_k                                           features  \\\n",
       "17       None  [\"w2v_cosine\", \"w2v_euclidean\", \"w2v_manhattan...   \n",
       "18       None  [\"w2v_cosine\", \"w2v_euclidean\", \"w2v_manhattan...   \n",
       "19       None  [\"w2v_cosine\", \"w2v_euclidean\", \"w2v_manhattan...   \n",
       "20       None  [\"w2v_cosine\", \"w2v_euclidean\", \"w2v_manhattan...   \n",
       "21       None  [\"w2v_cosine\", \"w2v_euclidean\", \"w2v_manhattan...   \n",
       "22       None  [\"w2v_cosine\", \"w2v_euclidean\", \"w2v_manhattan...   \n",
       "23       None  [\"w2v_cosine\", \"w2v_euclidean\", \"w2v_manhattan...   \n",
       "24       None  [\"w2v_cosine\", \"w2v_euclidean\", \"w2v_manhattan...   \n",
       "\n",
       "    sampling_training  sampling_test  pca       MRR       MAP      nDCG  \\\n",
       "17               9977         451680    0  0.038060  0.865090  0.859446   \n",
       "18               9977         451680    0  0.036072  0.874882  0.875631   \n",
       "19               9977         451680    0  0.013483  0.440844  0.638569   \n",
       "20               9977         451680    0  0.031905  0.775297  0.826087   \n",
       "21               9977         451680    0  0.008408  0.308170  0.576857   \n",
       "22               9977         451680    0  0.018326  0.677792  0.820648   \n",
       "23               9977         451680    0  0.032657  0.827516  0.854278   \n",
       "24               9977         451680    0  0.024211  0.728175  0.827123   \n",
       "\n",
       "    accuracy  precision    recall        f1  accuracy@50  precision@50  \\\n",
       "17  0.997135   0.993724  0.268969  0.423351     0.690667      0.993289   \n",
       "18  0.997173   0.995943  0.278029  0.434706     0.718000      0.995851   \n",
       "19  0.995590   0.399823  0.255379  0.311679     0.623333      0.480047   \n",
       "20  0.997208   0.994129  0.287656  0.446201     0.748667      0.993776   \n",
       "21  0.996393   0.560889  0.357305  0.436527     0.716000      0.555556   \n",
       "22  0.997430   0.993475  0.344847  0.511980     0.850667      0.992920   \n",
       "23  0.997219   0.992278  0.291053  0.450088     0.718667      0.991667   \n",
       "24  0.997250   0.992481  0.298981  0.459530     0.771333      0.991903   \n",
       "\n",
       "    recall@50     f1@50  \n",
       "17   0.490608  0.656805  \n",
       "18   0.532741  0.694143  \n",
       "19   0.770245  0.591468  \n",
       "20   0.561547  0.717603  \n",
       "21   0.996241  0.713324  \n",
       "22   0.718310  0.833581  \n",
       "23   0.532438  0.692868  \n",
       "24   0.591074  0.740741  "
      ]
     },
     "execution_count": 14,
     "metadata": {},
     "output_type": "execute_result"
    }
   ],
   "source": [
    "results[results['name'] == 'default']"
   ]
  },
  {
   "cell_type": "markdown",
   "metadata": {},
   "source": [
    "### Hyperparameter Optimization"
   ]
  },
  {
   "cell_type": "code",
   "execution_count": 11,
   "metadata": {},
   "outputs": [
    {
     "data": {
      "text/html": [
       "<div>\n",
       "<style scoped>\n",
       "    .dataframe tbody tr th:only-of-type {\n",
       "        vertical-align: middle;\n",
       "    }\n",
       "\n",
       "    .dataframe tbody tr th {\n",
       "        vertical-align: top;\n",
       "    }\n",
       "\n",
       "    .dataframe thead th {\n",
       "        text-align: right;\n",
       "    }\n",
       "</style>\n",
       "<table border=\"1\" class=\"dataframe\">\n",
       "  <thead>\n",
       "    <tr style=\"text-align: right;\">\n",
       "      <th></th>\n",
       "      <th>name</th>\n",
       "      <th>model</th>\n",
       "      <th>hyperparameters</th>\n",
       "      <th>pairwise_model</th>\n",
       "      <th>pairwise_k</th>\n",
       "      <th>features</th>\n",
       "      <th>sampling_training</th>\n",
       "      <th>sampling_test</th>\n",
       "      <th>pca</th>\n",
       "      <th>MRR</th>\n",
       "      <th>MAP</th>\n",
       "      <th>nDCG</th>\n",
       "      <th>accuracy</th>\n",
       "      <th>precision</th>\n",
       "      <th>recall</th>\n",
       "      <th>f1</th>\n",
       "      <th>accuracy@50</th>\n",
       "      <th>precision@50</th>\n",
       "      <th>recall@50</th>\n",
       "      <th>f1@50</th>\n",
       "    </tr>\n",
       "  </thead>\n",
       "  <tbody>\n",
       "    <tr>\n",
       "      <th>25</th>\n",
       "      <td>hpo</td>\n",
       "      <td>LogisticRegression(C=0.10099145980936619, tol=...</td>\n",
       "      <td>{\"C\": 0.10099145980936619, \"class_weight\": nul...</td>\n",
       "      <td>None</td>\n",
       "      <td>None</td>\n",
       "      <td>[\"pca_comp_0\", \"pca_comp_1\", \"pca_comp_2\", \"pc...</td>\n",
       "      <td>9977</td>\n",
       "      <td>451680</td>\n",
       "      <td>5</td>\n",
       "      <td>0.037135</td>\n",
       "      <td>0.882746</td>\n",
       "      <td>0.871568</td>\n",
       "      <td>0.996918</td>\n",
       "      <td>0.994709</td>\n",
       "      <td>0.212911</td>\n",
       "      <td>0.350746</td>\n",
       "      <td>0.642</td>\n",
       "      <td>0.994709</td>\n",
       "      <td>0.412733</td>\n",
       "      <td>0.583398</td>\n",
       "    </tr>\n",
       "  </tbody>\n",
       "</table>\n",
       "</div>"
      ],
      "text/plain": [
       "   name                                              model  \\\n",
       "25  hpo  LogisticRegression(C=0.10099145980936619, tol=...   \n",
       "\n",
       "                                      hyperparameters pairwise_model  \\\n",
       "25  {\"C\": 0.10099145980936619, \"class_weight\": nul...           None   \n",
       "\n",
       "   pairwise_k                                           features  \\\n",
       "25       None  [\"pca_comp_0\", \"pca_comp_1\", \"pca_comp_2\", \"pc...   \n",
       "\n",
       "    sampling_training  sampling_test  pca       MRR       MAP      nDCG  \\\n",
       "25               9977         451680    5  0.037135  0.882746  0.871568   \n",
       "\n",
       "    accuracy  precision    recall        f1  accuracy@50  precision@50  \\\n",
       "25  0.996918   0.994709  0.212911  0.350746        0.642      0.994709   \n",
       "\n",
       "    recall@50     f1@50  \n",
       "25   0.412733  0.583398  "
      ]
     },
     "execution_count": 11,
     "metadata": {},
     "output_type": "execute_result"
    }
   ],
   "source": [
    "results[results['name'] == 'hpo']"
   ]
  }
 ],
 "metadata": {
  "interpreter": {
   "hash": "15e7f6431c3efcc25ffb982d882caeeee1a07ee55caab724c679dfe0992cca8b"
  },
  "kernelspec": {
   "display_name": "Python 3 (ipykernel)",
   "language": "python",
   "name": "python3"
  },
  "language_info": {
   "codemirror_mode": {
    "name": "ipython",
    "version": 3
   },
   "file_extension": ".py",
   "mimetype": "text/x-python",
   "name": "python",
   "nbconvert_exporter": "python",
   "pygments_lexer": "ipython3",
   "version": "3.9.11"
  }
 },
 "nbformat": 4,
 "nbformat_minor": 1
}
