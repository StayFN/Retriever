{
 "cells": [
  {
   "cell_type": "markdown",
   "metadata": {},
   "source": [
    "# Pointwise Evaluation"
   ]
  },
  {
   "cell_type": "markdown",
   "metadata": {},
   "source": [
    "In this notebook, pointwise algorithms can be evaluated.\n",
    "To start an experiment, define it using the following parameters:\n",
    "\n",
    "<b>name</b>: Name of the experiment <br>\n",
    "<b>model</b>: The model to use (Possible choices are nbg, lr, svm, dt, rf, ada, gb) <br>\n",
    "<b>pca</b>: PCA components for dimensionality reduction (None with 0) <br>\n",
    "<b>search_space</b>: Values to use in bayesian optimization (Optional) <br>\n",
    "<b>trials</b>: Number of hyperparameter optimization trials (Optional)"
   ]
  },
  {
   "cell_type": "markdown",
   "metadata": {},
   "source": [
    "### Imports"
   ]
  },
  {
   "cell_type": "code",
   "execution_count": 23,
   "metadata": {},
   "outputs": [],
   "source": [
    "import os\n",
    "import sys\n",
    "from skopt.space import Integer\n",
    "from skopt.space import Real\n",
    "from skopt.space import Categorical\n",
    "sys.path.append(os.path.dirname((os.path.abspath(\"\"))))"
   ]
  },
  {
   "cell_type": "code",
   "execution_count": 24,
   "metadata": {},
   "outputs": [],
   "source": [
    "from src.pipeline import Pipeline"
   ]
  },
  {
   "cell_type": "code",
   "execution_count": 25,
   "metadata": {},
   "outputs": [],
   "source": [
    "pipeline = Pipeline(\n",
    "    collection='data/processed/30_5000_1000_collection.pkl',\n",
    "    queries='data/processed/30_5000_1000_queries.pkl',\n",
    "    queries_val='data/processed/30_5000_1000_queries_val.pkl',\n",
    "    queries_test='data/processed/30_5000_1000_queries_test.pkl',\n",
    "    features='data/processed/30_5000_1000_features.pkl',\n",
    "    qrels_val='data/processed/30_5000_1000_qrels_val.pkl',\n",
    "    qrels_test='data/processed/30_5000_1000_qrels_test.pkl',\n",
    "    features_test='data/processed/30_5000_1000_features_test.pkl',\n",
    "    features_val='data/processed/30_5000_1000_features_val.pkl',\n",
    ")"
   ]
  },
  {
   "cell_type": "markdown",
   "metadata": {},
   "source": [
    "<b>!</b> Run the next line only for feature selection"
   ]
  },
  {
   "cell_type": "code",
   "execution_count": 26,
   "metadata": {},
   "outputs": [],
   "source": [
    "feature_selection_result = ['bert_cosine', 'bm25', 'char_rel_difference', 'bert_euclidean', 'w2v_cosine', 'w2v_tfidf_euclidean', 'polarity_doc', 'glove_cosine', 'query_verbs', 'doc_nouns']\n",
    "pipeline.features = pipeline.features[['qID', 'pID', 'y'] + feature_selection_result]\n",
    "pipeline.features_test = pipeline.features_test[['qID', 'pID'] + feature_selection_result]\n",
    "pipeline.features_val = pipeline.features_val[['qID', 'pID'] + feature_selection_result]"
   ]
  },
  {
   "cell_type": "code",
   "execution_count": 27,
   "metadata": {
    "scrolled": false
   },
   "outputs": [
    {
     "data": {
      "text/html": [
       "<div>\n",
       "<style scoped>\n",
       "    .dataframe tbody tr th:only-of-type {\n",
       "        vertical-align: middle;\n",
       "    }\n",
       "\n",
       "    .dataframe tbody tr th {\n",
       "        vertical-align: top;\n",
       "    }\n",
       "\n",
       "    .dataframe thead th {\n",
       "        text-align: right;\n",
       "    }\n",
       "</style>\n",
       "<table border=\"1\" class=\"dataframe\">\n",
       "  <thead>\n",
       "    <tr style=\"text-align: right;\">\n",
       "      <th></th>\n",
       "      <th>qID</th>\n",
       "      <th>pID</th>\n",
       "      <th>y</th>\n",
       "      <th>bert_cosine</th>\n",
       "      <th>bm25</th>\n",
       "      <th>char_rel_difference</th>\n",
       "      <th>bert_euclidean</th>\n",
       "      <th>w2v_cosine</th>\n",
       "      <th>w2v_tfidf_euclidean</th>\n",
       "      <th>polarity_doc</th>\n",
       "      <th>glove_cosine</th>\n",
       "      <th>query_verbs</th>\n",
       "      <th>doc_nouns</th>\n",
       "    </tr>\n",
       "  </thead>\n",
       "  <tbody>\n",
       "    <tr>\n",
       "      <th>0</th>\n",
       "      <td>603195</td>\n",
       "      <td>7050012</td>\n",
       "      <td>1</td>\n",
       "      <td>0.899372</td>\n",
       "      <td>-24.655536</td>\n",
       "      <td>10.269231</td>\n",
       "      <td>0.448616</td>\n",
       "      <td>0.972107</td>\n",
       "      <td>2.765727</td>\n",
       "      <td>0.000000</td>\n",
       "      <td>0.730834</td>\n",
       "      <td>1</td>\n",
       "      <td>23</td>\n",
       "    </tr>\n",
       "    <tr>\n",
       "      <th>1</th>\n",
       "      <td>474183</td>\n",
       "      <td>325505</td>\n",
       "      <td>1</td>\n",
       "      <td>0.880772</td>\n",
       "      <td>-33.129796</td>\n",
       "      <td>8.333333</td>\n",
       "      <td>0.488321</td>\n",
       "      <td>0.971866</td>\n",
       "      <td>1.360485</td>\n",
       "      <td>0.450000</td>\n",
       "      <td>0.864263</td>\n",
       "      <td>0</td>\n",
       "      <td>18</td>\n",
       "    </tr>\n",
       "    <tr>\n",
       "      <th>2</th>\n",
       "      <td>320545</td>\n",
       "      <td>1751825</td>\n",
       "      <td>1</td>\n",
       "      <td>0.582573</td>\n",
       "      <td>-16.699603</td>\n",
       "      <td>12.611111</td>\n",
       "      <td>0.913703</td>\n",
       "      <td>0.947701</td>\n",
       "      <td>2.236971</td>\n",
       "      <td>0.500000</td>\n",
       "      <td>0.858117</td>\n",
       "      <td>1</td>\n",
       "      <td>20</td>\n",
       "    </tr>\n",
       "    <tr>\n",
       "      <th>3</th>\n",
       "      <td>89798</td>\n",
       "      <td>5069949</td>\n",
       "      <td>1</td>\n",
       "      <td>0.731121</td>\n",
       "      <td>-27.678576</td>\n",
       "      <td>11.771429</td>\n",
       "      <td>0.733320</td>\n",
       "      <td>0.972710</td>\n",
       "      <td>1.714253</td>\n",
       "      <td>0.066667</td>\n",
       "      <td>0.645860</td>\n",
       "      <td>0</td>\n",
       "      <td>25</td>\n",
       "    </tr>\n",
       "    <tr>\n",
       "      <th>4</th>\n",
       "      <td>1054603</td>\n",
       "      <td>2869106</td>\n",
       "      <td>1</td>\n",
       "      <td>0.774794</td>\n",
       "      <td>-28.497519</td>\n",
       "      <td>10.928571</td>\n",
       "      <td>0.671127</td>\n",
       "      <td>0.965680</td>\n",
       "      <td>1.799412</td>\n",
       "      <td>0.000000</td>\n",
       "      <td>0.673893</td>\n",
       "      <td>1</td>\n",
       "      <td>20</td>\n",
       "    </tr>\n",
       "    <tr>\n",
       "      <th>...</th>\n",
       "      <td>...</td>\n",
       "      <td>...</td>\n",
       "      <td>...</td>\n",
       "      <td>...</td>\n",
       "      <td>...</td>\n",
       "      <td>...</td>\n",
       "      <td>...</td>\n",
       "      <td>...</td>\n",
       "      <td>...</td>\n",
       "      <td>...</td>\n",
       "      <td>...</td>\n",
       "      <td>...</td>\n",
       "      <td>...</td>\n",
       "    </tr>\n",
       "    <tr>\n",
       "      <th>4995</th>\n",
       "      <td>128401</td>\n",
       "      <td>6127598</td>\n",
       "      <td>0</td>\n",
       "      <td>0.100652</td>\n",
       "      <td>-8.866170</td>\n",
       "      <td>13.666667</td>\n",
       "      <td>1.341154</td>\n",
       "      <td>0.796978</td>\n",
       "      <td>3.027138</td>\n",
       "      <td>-0.520833</td>\n",
       "      <td>0.051945</td>\n",
       "      <td>0</td>\n",
       "      <td>16</td>\n",
       "    </tr>\n",
       "    <tr>\n",
       "      <th>4996</th>\n",
       "      <td>1044540</td>\n",
       "      <td>4616118</td>\n",
       "      <td>0</td>\n",
       "      <td>0.476531</td>\n",
       "      <td>-7.852468</td>\n",
       "      <td>23.000000</td>\n",
       "      <td>1.023200</td>\n",
       "      <td>0.922095</td>\n",
       "      <td>2.167866</td>\n",
       "      <td>0.156250</td>\n",
       "      <td>0.003794</td>\n",
       "      <td>1</td>\n",
       "      <td>25</td>\n",
       "    </tr>\n",
       "    <tr>\n",
       "      <th>4997</th>\n",
       "      <td>486146</td>\n",
       "      <td>1137390</td>\n",
       "      <td>0</td>\n",
       "      <td>0.457971</td>\n",
       "      <td>-15.909103</td>\n",
       "      <td>5.875000</td>\n",
       "      <td>1.041181</td>\n",
       "      <td>0.946438</td>\n",
       "      <td>4.161341</td>\n",
       "      <td>-0.100000</td>\n",
       "      <td>0.787475</td>\n",
       "      <td>2</td>\n",
       "      <td>12</td>\n",
       "    </tr>\n",
       "    <tr>\n",
       "      <th>4998</th>\n",
       "      <td>532697</td>\n",
       "      <td>5161847</td>\n",
       "      <td>0</td>\n",
       "      <td>0.374877</td>\n",
       "      <td>-16.617979</td>\n",
       "      <td>9.250000</td>\n",
       "      <td>1.118144</td>\n",
       "      <td>0.938939</td>\n",
       "      <td>1.977307</td>\n",
       "      <td>0.284375</td>\n",
       "      <td>0.038626</td>\n",
       "      <td>0</td>\n",
       "      <td>18</td>\n",
       "    </tr>\n",
       "    <tr>\n",
       "      <th>4999</th>\n",
       "      <td>763472</td>\n",
       "      <td>6447198</td>\n",
       "      <td>0</td>\n",
       "      <td>0.352209</td>\n",
       "      <td>-16.757101</td>\n",
       "      <td>8.782609</td>\n",
       "      <td>1.138236</td>\n",
       "      <td>0.988622</td>\n",
       "      <td>1.039390</td>\n",
       "      <td>0.033333</td>\n",
       "      <td>0.818213</td>\n",
       "      <td>1</td>\n",
       "      <td>12</td>\n",
       "    </tr>\n",
       "  </tbody>\n",
       "</table>\n",
       "<p>9977 rows × 13 columns</p>\n",
       "</div>"
      ],
      "text/plain": [
       "          qID      pID  y  bert_cosine       bm25  char_rel_difference  \\\n",
       "0      603195  7050012  1     0.899372 -24.655536            10.269231   \n",
       "1      474183   325505  1     0.880772 -33.129796             8.333333   \n",
       "2      320545  1751825  1     0.582573 -16.699603            12.611111   \n",
       "3       89798  5069949  1     0.731121 -27.678576            11.771429   \n",
       "4     1054603  2869106  1     0.774794 -28.497519            10.928571   \n",
       "...       ...      ... ..          ...        ...                  ...   \n",
       "4995   128401  6127598  0     0.100652  -8.866170            13.666667   \n",
       "4996  1044540  4616118  0     0.476531  -7.852468            23.000000   \n",
       "4997   486146  1137390  0     0.457971 -15.909103             5.875000   \n",
       "4998   532697  5161847  0     0.374877 -16.617979             9.250000   \n",
       "4999   763472  6447198  0     0.352209 -16.757101             8.782609   \n",
       "\n",
       "      bert_euclidean  w2v_cosine  w2v_tfidf_euclidean  polarity_doc  \\\n",
       "0           0.448616    0.972107             2.765727      0.000000   \n",
       "1           0.488321    0.971866             1.360485      0.450000   \n",
       "2           0.913703    0.947701             2.236971      0.500000   \n",
       "3           0.733320    0.972710             1.714253      0.066667   \n",
       "4           0.671127    0.965680             1.799412      0.000000   \n",
       "...              ...         ...                  ...           ...   \n",
       "4995        1.341154    0.796978             3.027138     -0.520833   \n",
       "4996        1.023200    0.922095             2.167866      0.156250   \n",
       "4997        1.041181    0.946438             4.161341     -0.100000   \n",
       "4998        1.118144    0.938939             1.977307      0.284375   \n",
       "4999        1.138236    0.988622             1.039390      0.033333   \n",
       "\n",
       "      glove_cosine  query_verbs  doc_nouns  \n",
       "0         0.730834            1         23  \n",
       "1         0.864263            0         18  \n",
       "2         0.858117            1         20  \n",
       "3         0.645860            0         25  \n",
       "4         0.673893            1         20  \n",
       "...            ...          ...        ...  \n",
       "4995      0.051945            0         16  \n",
       "4996      0.003794            1         25  \n",
       "4997      0.787475            2         12  \n",
       "4998      0.038626            0         18  \n",
       "4999      0.818213            1         12  \n",
       "\n",
       "[9977 rows x 13 columns]"
      ]
     },
     "execution_count": 27,
     "metadata": {},
     "output_type": "execute_result"
    }
   ],
   "source": [
    "pipeline.features"
   ]
  },
  {
   "cell_type": "markdown",
   "metadata": {},
   "source": [
    "## Random Baseline"
   ]
  },
  {
   "cell_type": "code",
   "execution_count": 5,
   "metadata": {},
   "outputs": [
    {
     "name": "stdout",
     "output_type": "stream",
     "text": [
      "MRR: 0.0019611375892770065\n",
      "nDCG: 0.2380095700050317\n"
     ]
    }
   ],
   "source": [
    "pipeline.evaluate(\n",
    "    name='default',\n",
    "    model='baseline', \n",
    "    pca=0\n",
    ")"
   ]
  },
  {
   "cell_type": "markdown",
   "metadata": {},
   "source": [
    "## Logistic Regression"
   ]
  },
  {
   "cell_type": "code",
   "execution_count": 28,
   "metadata": {
    "scrolled": false
   },
   "outputs": [
    {
     "name": "stdout",
     "output_type": "stream",
     "text": [
      "MRR: 0.81875\n",
      "nDCG: 0.8823923863263119\n"
     ]
    }
   ],
   "source": [
    "pipeline.evaluate(\n",
    "    name='default_fs',\n",
    "    model='lr', \n",
    "    pca=0\n",
    ")"
   ]
  },
  {
   "cell_type": "markdown",
   "metadata": {},
   "source": [
    "##### Hyperparameter Optimization"
   ]
  },
  {
   "cell_type": "code",
   "execution_count": 8,
   "metadata": {},
   "outputs": [],
   "source": [
    "logistic_regression_search_space: list = []\n",
    "logistic_regression_search_space.append(Categorical(['l2', 'none'], name='penalty'))\n",
    "logistic_regression_search_space.append(Real(0.1, 100.0, 'log-uniform', name='C'))\n",
    "logistic_regression_search_space.append(Real(1e-6, 0.1, name='tol'))"
   ]
  },
  {
   "cell_type": "code",
   "execution_count": 9,
   "metadata": {
    "scrolled": false
   },
   "outputs": [
    {
     "name": "stderr",
     "output_type": "stream",
     "text": [
      "/Users/tim/opt/anaconda3/envs/inforetrieval/lib/python3.9/site-packages/sklearn/linear_model/_logistic.py:1483: UserWarning: Setting penalty='none' will ignore the C and l1_ratio parameters\n",
      "  warnings.warn(\n",
      "/Users/tim/opt/anaconda3/envs/inforetrieval/lib/python3.9/site-packages/sklearn/linear_model/_logistic.py:1483: UserWarning: Setting penalty='none' will ignore the C and l1_ratio parameters\n",
      "  warnings.warn(\n",
      "/Users/tim/opt/anaconda3/envs/inforetrieval/lib/python3.9/site-packages/sklearn/linear_model/_logistic.py:1483: UserWarning: Setting penalty='none' will ignore the C and l1_ratio parameters\n",
      "  warnings.warn(\n",
      "/Users/tim/opt/anaconda3/envs/inforetrieval/lib/python3.9/site-packages/sklearn/linear_model/_logistic.py:1483: UserWarning: Setting penalty='none' will ignore the C and l1_ratio parameters\n",
      "  warnings.warn(\n",
      "/Users/tim/opt/anaconda3/envs/inforetrieval/lib/python3.9/site-packages/sklearn/linear_model/_logistic.py:1483: UserWarning: Setting penalty='none' will ignore the C and l1_ratio parameters\n",
      "  warnings.warn(\n",
      "/Users/tim/opt/anaconda3/envs/inforetrieval/lib/python3.9/site-packages/sklearn/linear_model/_logistic.py:1483: UserWarning: Setting penalty='none' will ignore the C and l1_ratio parameters\n",
      "  warnings.warn(\n",
      "/Users/tim/opt/anaconda3/envs/inforetrieval/lib/python3.9/site-packages/sklearn/linear_model/_logistic.py:1483: UserWarning: Setting penalty='none' will ignore the C and l1_ratio parameters\n",
      "  warnings.warn(\n",
      "/Users/tim/opt/anaconda3/envs/inforetrieval/lib/python3.9/site-packages/sklearn/linear_model/_logistic.py:1483: UserWarning: Setting penalty='none' will ignore the C and l1_ratio parameters\n",
      "  warnings.warn(\n",
      "/Users/tim/opt/anaconda3/envs/inforetrieval/lib/python3.9/site-packages/sklearn/linear_model/_logistic.py:1483: UserWarning: Setting penalty='none' will ignore the C and l1_ratio parameters\n",
      "  warnings.warn(\n",
      "/Users/tim/opt/anaconda3/envs/inforetrieval/lib/python3.9/site-packages/sklearn/linear_model/_logistic.py:1483: UserWarning: Setting penalty='none' will ignore the C and l1_ratio parameters\n",
      "  warnings.warn(\n",
      "/Users/tim/opt/anaconda3/envs/inforetrieval/lib/python3.9/site-packages/sklearn/linear_model/_logistic.py:1483: UserWarning: Setting penalty='none' will ignore the C and l1_ratio parameters\n",
      "  warnings.warn(\n",
      "/Users/tim/opt/anaconda3/envs/inforetrieval/lib/python3.9/site-packages/sklearn/linear_model/_logistic.py:1483: UserWarning: Setting penalty='none' will ignore the C and l1_ratio parameters\n",
      "  warnings.warn(\n",
      "/Users/tim/opt/anaconda3/envs/inforetrieval/lib/python3.9/site-packages/sklearn/linear_model/_logistic.py:1483: UserWarning: Setting penalty='none' will ignore the C and l1_ratio parameters\n",
      "  warnings.warn(\n",
      "/Users/tim/opt/anaconda3/envs/inforetrieval/lib/python3.9/site-packages/sklearn/linear_model/_logistic.py:1483: UserWarning: Setting penalty='none' will ignore the C and l1_ratio parameters\n",
      "  warnings.warn(\n",
      "/Users/tim/opt/anaconda3/envs/inforetrieval/lib/python3.9/site-packages/sklearn/linear_model/_logistic.py:1483: UserWarning: Setting penalty='none' will ignore the C and l1_ratio parameters\n",
      "  warnings.warn(\n",
      "/Users/tim/opt/anaconda3/envs/inforetrieval/lib/python3.9/site-packages/sklearn/linear_model/_logistic.py:1483: UserWarning: Setting penalty='none' will ignore the C and l1_ratio parameters\n",
      "  warnings.warn(\n",
      "/Users/tim/opt/anaconda3/envs/inforetrieval/lib/python3.9/site-packages/sklearn/linear_model/_logistic.py:1483: UserWarning: Setting penalty='none' will ignore the C and l1_ratio parameters\n",
      "  warnings.warn(\n",
      "/Users/tim/opt/anaconda3/envs/inforetrieval/lib/python3.9/site-packages/sklearn/linear_model/_logistic.py:1483: UserWarning: Setting penalty='none' will ignore the C and l1_ratio parameters\n",
      "  warnings.warn(\n",
      "/Users/tim/opt/anaconda3/envs/inforetrieval/lib/python3.9/site-packages/sklearn/linear_model/_logistic.py:1483: UserWarning: Setting penalty='none' will ignore the C and l1_ratio parameters\n",
      "  warnings.warn(\n",
      "/Users/tim/opt/anaconda3/envs/inforetrieval/lib/python3.9/site-packages/sklearn/linear_model/_logistic.py:1483: UserWarning: Setting penalty='none' will ignore the C and l1_ratio parameters\n",
      "  warnings.warn(\n",
      "/Users/tim/opt/anaconda3/envs/inforetrieval/lib/python3.9/site-packages/sklearn/linear_model/_logistic.py:1483: UserWarning: Setting penalty='none' will ignore the C and l1_ratio parameters\n",
      "  warnings.warn(\n",
      "/Users/tim/opt/anaconda3/envs/inforetrieval/lib/python3.9/site-packages/sklearn/linear_model/_logistic.py:1483: UserWarning: Setting penalty='none' will ignore the C and l1_ratio parameters\n",
      "  warnings.warn(\n",
      "/Users/tim/opt/anaconda3/envs/inforetrieval/lib/python3.9/site-packages/sklearn/linear_model/_logistic.py:1483: UserWarning: Setting penalty='none' will ignore the C and l1_ratio parameters\n",
      "  warnings.warn(\n",
      "/Users/tim/opt/anaconda3/envs/inforetrieval/lib/python3.9/site-packages/sklearn/linear_model/_logistic.py:1483: UserWarning: Setting penalty='none' will ignore the C and l1_ratio parameters\n",
      "  warnings.warn(\n",
      "/Users/tim/opt/anaconda3/envs/inforetrieval/lib/python3.9/site-packages/sklearn/linear_model/_logistic.py:1483: UserWarning: Setting penalty='none' will ignore the C and l1_ratio parameters\n",
      "  warnings.warn(\n",
      "/Users/tim/opt/anaconda3/envs/inforetrieval/lib/python3.9/site-packages/sklearn/linear_model/_logistic.py:1483: UserWarning: Setting penalty='none' will ignore the C and l1_ratio parameters\n",
      "  warnings.warn(\n",
      "/Users/tim/opt/anaconda3/envs/inforetrieval/lib/python3.9/site-packages/sklearn/linear_model/_logistic.py:1483: UserWarning: Setting penalty='none' will ignore the C and l1_ratio parameters\n",
      "  warnings.warn(\n",
      "/Users/tim/opt/anaconda3/envs/inforetrieval/lib/python3.9/site-packages/sklearn/linear_model/_logistic.py:1483: UserWarning: Setting penalty='none' will ignore the C and l1_ratio parameters\n",
      "  warnings.warn(\n",
      "/Users/tim/opt/anaconda3/envs/inforetrieval/lib/python3.9/site-packages/sklearn/linear_model/_logistic.py:1483: UserWarning: Setting penalty='none' will ignore the C and l1_ratio parameters\n",
      "  warnings.warn(\n",
      "/Users/tim/opt/anaconda3/envs/inforetrieval/lib/python3.9/site-packages/sklearn/linear_model/_logistic.py:814: ConvergenceWarning: lbfgs failed to converge (status=1):\n",
      "STOP: TOTAL NO. of ITERATIONS REACHED LIMIT.\n",
      "\n",
      "Increase the number of iterations (max_iter) or scale the data as shown in:\n",
      "    https://scikit-learn.org/stable/modules/preprocessing.html\n",
      "Please also refer to the documentation for alternative solver options:\n",
      "    https://scikit-learn.org/stable/modules/linear_model.html#logistic-regression\n",
      "  n_iter_i = _check_optimize_result(\n",
      "/Users/tim/opt/anaconda3/envs/inforetrieval/lib/python3.9/site-packages/sklearn/linear_model/_logistic.py:1483: UserWarning: Setting penalty='none' will ignore the C and l1_ratio parameters\n",
      "  warnings.warn(\n",
      "/Users/tim/opt/anaconda3/envs/inforetrieval/lib/python3.9/site-packages/sklearn/linear_model/_logistic.py:1483: UserWarning: Setting penalty='none' will ignore the C and l1_ratio parameters\n",
      "  warnings.warn(\n",
      "/Users/tim/opt/anaconda3/envs/inforetrieval/lib/python3.9/site-packages/sklearn/linear_model/_logistic.py:1483: UserWarning: Setting penalty='none' will ignore the C and l1_ratio parameters\n",
      "  warnings.warn(\n",
      "/Users/tim/opt/anaconda3/envs/inforetrieval/lib/python3.9/site-packages/sklearn/linear_model/_logistic.py:1483: UserWarning: Setting penalty='none' will ignore the C and l1_ratio parameters\n",
      "  warnings.warn(\n",
      "/Users/tim/opt/anaconda3/envs/inforetrieval/lib/python3.9/site-packages/sklearn/linear_model/_logistic.py:1483: UserWarning: Setting penalty='none' will ignore the C and l1_ratio parameters\n",
      "  warnings.warn(\n",
      "/Users/tim/opt/anaconda3/envs/inforetrieval/lib/python3.9/site-packages/sklearn/linear_model/_logistic.py:814: ConvergenceWarning: lbfgs failed to converge (status=1):\n",
      "STOP: TOTAL NO. of ITERATIONS REACHED LIMIT.\n",
      "\n",
      "Increase the number of iterations (max_iter) or scale the data as shown in:\n",
      "    https://scikit-learn.org/stable/modules/preprocessing.html\n",
      "Please also refer to the documentation for alternative solver options:\n",
      "    https://scikit-learn.org/stable/modules/linear_model.html#logistic-regression\n",
      "  n_iter_i = _check_optimize_result(\n",
      "/Users/tim/opt/anaconda3/envs/inforetrieval/lib/python3.9/site-packages/sklearn/linear_model/_logistic.py:1483: UserWarning: Setting penalty='none' will ignore the C and l1_ratio parameters\n",
      "  warnings.warn(\n"
     ]
    },
    {
     "name": "stderr",
     "output_type": "stream",
     "text": [
      "/Users/tim/opt/anaconda3/envs/inforetrieval/lib/python3.9/site-packages/sklearn/linear_model/_logistic.py:1483: UserWarning: Setting penalty='none' will ignore the C and l1_ratio parameters\n",
      "  warnings.warn(\n",
      "/Users/tim/opt/anaconda3/envs/inforetrieval/lib/python3.9/site-packages/sklearn/linear_model/_logistic.py:814: ConvergenceWarning: lbfgs failed to converge (status=1):\n",
      "STOP: TOTAL NO. of ITERATIONS REACHED LIMIT.\n",
      "\n",
      "Increase the number of iterations (max_iter) or scale the data as shown in:\n",
      "    https://scikit-learn.org/stable/modules/preprocessing.html\n",
      "Please also refer to the documentation for alternative solver options:\n",
      "    https://scikit-learn.org/stable/modules/linear_model.html#logistic-regression\n",
      "  n_iter_i = _check_optimize_result(\n",
      "/Users/tim/opt/anaconda3/envs/inforetrieval/lib/python3.9/site-packages/sklearn/linear_model/_logistic.py:1483: UserWarning: Setting penalty='none' will ignore the C and l1_ratio parameters\n",
      "  warnings.warn(\n",
      "/Users/tim/opt/anaconda3/envs/inforetrieval/lib/python3.9/site-packages/sklearn/linear_model/_logistic.py:1483: UserWarning: Setting penalty='none' will ignore the C and l1_ratio parameters\n",
      "  warnings.warn(\n",
      "/Users/tim/opt/anaconda3/envs/inforetrieval/lib/python3.9/site-packages/sklearn/linear_model/_logistic.py:1483: UserWarning: Setting penalty='none' will ignore the C and l1_ratio parameters\n",
      "  warnings.warn(\n",
      "/Users/tim/opt/anaconda3/envs/inforetrieval/lib/python3.9/site-packages/sklearn/linear_model/_logistic.py:1483: UserWarning: Setting penalty='none' will ignore the C and l1_ratio parameters\n",
      "  warnings.warn(\n",
      "/Users/tim/opt/anaconda3/envs/inforetrieval/lib/python3.9/site-packages/sklearn/linear_model/_logistic.py:1483: UserWarning: Setting penalty='none' will ignore the C and l1_ratio parameters\n",
      "  warnings.warn(\n",
      "/Users/tim/opt/anaconda3/envs/inforetrieval/lib/python3.9/site-packages/sklearn/linear_model/_logistic.py:1483: UserWarning: Setting penalty='none' will ignore the C and l1_ratio parameters\n",
      "  warnings.warn(\n",
      "/Users/tim/opt/anaconda3/envs/inforetrieval/lib/python3.9/site-packages/sklearn/linear_model/_logistic.py:1483: UserWarning: Setting penalty='none' will ignore the C and l1_ratio parameters\n",
      "  warnings.warn(\n",
      "/Users/tim/opt/anaconda3/envs/inforetrieval/lib/python3.9/site-packages/sklearn/linear_model/_logistic.py:814: ConvergenceWarning: lbfgs failed to converge (status=1):\n",
      "STOP: TOTAL NO. of ITERATIONS REACHED LIMIT.\n",
      "\n",
      "Increase the number of iterations (max_iter) or scale the data as shown in:\n",
      "    https://scikit-learn.org/stable/modules/preprocessing.html\n",
      "Please also refer to the documentation for alternative solver options:\n",
      "    https://scikit-learn.org/stable/modules/linear_model.html#logistic-regression\n",
      "  n_iter_i = _check_optimize_result(\n",
      "/Users/tim/opt/anaconda3/envs/inforetrieval/lib/python3.9/site-packages/sklearn/linear_model/_logistic.py:1483: UserWarning: Setting penalty='none' will ignore the C and l1_ratio parameters\n",
      "  warnings.warn(\n",
      "/Users/tim/opt/anaconda3/envs/inforetrieval/lib/python3.9/site-packages/sklearn/linear_model/_logistic.py:1483: UserWarning: Setting penalty='none' will ignore the C and l1_ratio parameters\n",
      "  warnings.warn(\n",
      "/Users/tim/opt/anaconda3/envs/inforetrieval/lib/python3.9/site-packages/sklearn/linear_model/_logistic.py:1483: UserWarning: Setting penalty='none' will ignore the C and l1_ratio parameters\n",
      "  warnings.warn(\n",
      "/Users/tim/opt/anaconda3/envs/inforetrieval/lib/python3.9/site-packages/sklearn/linear_model/_logistic.py:1483: UserWarning: Setting penalty='none' will ignore the C and l1_ratio parameters\n",
      "  warnings.warn(\n"
     ]
    },
    {
     "name": "stdout",
     "output_type": "stream",
     "text": [
      "Best MRR: 0.7119841269841269\n",
      "Best Hyperparameters: ['l2', 18.183153916405647, 0.06072346299946403]\n",
      "MRR on test set: 0.81875\n",
      "nDCG on test set: 0.8825771016778642\n"
     ]
    }
   ],
   "source": [
    "pipeline.evaluate(\n",
    "    name='hpo_fs',\n",
    "    model='lr', \n",
    "    pca=0, \n",
    "    search_space=logistic_regression_search_space,\n",
    "    trials=80\n",
    ")"
   ]
  },
  {
   "cell_type": "markdown",
   "metadata": {},
   "source": [
    "##### PCA"
   ]
  },
  {
   "cell_type": "code",
   "execution_count": 17,
   "metadata": {},
   "outputs": [
    {
     "name": "stdout",
     "output_type": "stream",
     "text": [
      "MRR: 0.813421052631579\n",
      "nDCG: 0.875380396548771\n",
      "MRR: 0.816031746031746\n",
      "nDCG: 0.8755223303437085\n",
      "MRR: 0.816031746031746\n",
      "nDCG: 0.8750046056822695\n",
      "MRR: 0.816031746031746\n",
      "nDCG: 0.8750884632570748\n",
      "MRR: 0.815959595959596\n",
      "nDCG: 0.8742662851688928\n",
      "MRR: 0.8128129117259552\n",
      "nDCG: 0.8739625009578208\n",
      "MRR: 0.7477777777777779\n",
      "nDCG: 0.8714715055789896\n",
      "MRR: 0.7281196581196581\n",
      "nDCG: 0.8695445794650032\n",
      "MRR: 0.7440476190476191\n",
      "nDCG: 0.8733379176318246\n",
      "MRR: 0.7440476190476191\n",
      "nDCG: 0.8733525898681468\n",
      "MRR: 0.7440476190476191\n",
      "nDCG: 0.8731938825606123\n",
      "MRR: 0.7523809523809525\n",
      "nDCG: 0.872082723509282\n",
      "MRR: 0.7451587301587301\n",
      "nDCG: 0.8711989041377475\n",
      "MRR: 0.7451587301587301\n",
      "nDCG: 0.8704416069939522\n",
      "MRR: 0.7432539682539683\n",
      "nDCG: 0.8707415848153173\n",
      "MRR: 0.7452777777777777\n",
      "nDCG: 0.8698594842774735\n",
      "MRR: 0.7436111111111111\n",
      "nDCG: 0.8700395120080298\n",
      "MRR: 0.7781944444444444\n",
      "nDCG: 0.8689749517819728\n",
      "MRR: 0.7727777777777778\n",
      "nDCG: 0.8670595433111249\n",
      "MRR: 0.7727777777777778\n",
      "nDCG: 0.8671854379256733\n",
      "MRR: 0.7522222222222222\n",
      "nDCG: 0.8637433260935609\n",
      "MRR: 0.7533333333333333\n",
      "nDCG: 0.8642742080539391\n",
      "MRR: 0.7394444444444445\n",
      "nDCG: 0.8623616166532231\n",
      "MRR: 0.7692307692307693\n",
      "nDCG: 0.866984526817926\n",
      "MRR: 0.7703418803418802\n",
      "nDCG: 0.8661835976189759\n"
     ]
    }
   ],
   "source": [
    "for i in range(2,27):\n",
    "    pipeline.evaluate(\n",
    "        name='pca_values_lr',\n",
    "        model='lr', \n",
    "        pca=i\n",
    "    )"
   ]
  },
  {
   "cell_type": "markdown",
   "metadata": {},
   "source": [
    "## Naive Bayes"
   ]
  },
  {
   "cell_type": "code",
   "execution_count": 10,
   "metadata": {},
   "outputs": [
    {
     "name": "stdout",
     "output_type": "stream",
     "text": [
      "MRR: 0.7511111111111112\n",
      "nDCG: 0.8686838174311546\n"
     ]
    }
   ],
   "source": [
    "pipeline.evaluate(\n",
    "    name='default_fs',\n",
    "    model='nbg', \n",
    "    pca=0\n",
    ")"
   ]
  },
  {
   "cell_type": "markdown",
   "metadata": {},
   "source": [
    "##### PCA"
   ]
  },
  {
   "cell_type": "code",
   "execution_count": 18,
   "metadata": {},
   "outputs": [
    {
     "name": "stdout",
     "output_type": "stream",
     "text": [
      "MRR: 0.8240123456790123\n",
      "nDCG: 0.8719453663932762\n",
      "MRR: 0.825952380952381\n",
      "nDCG: 0.86914284033675\n",
      "MRR: 0.8144971886351197\n",
      "nDCG: 0.8366365854398193\n",
      "MRR: 0.8144588744588745\n",
      "nDCG: 0.8345095287486778\n",
      "MRR: 0.8172749664128974\n",
      "nDCG: 0.8345296498980742\n",
      "MRR: 0.8172366522366522\n",
      "nDCG: 0.8337468937626193\n",
      "MRR: 0.7944832944832945\n",
      "nDCG: 0.8493316687048718\n",
      "MRR: 0.8047863247863247\n",
      "nDCG: 0.8430748997242468\n",
      "MRR: 0.7992063492063491\n",
      "nDCG: 0.8357836673722847\n",
      "MRR: 0.816056166056166\n",
      "nDCG: 0.808070735018471\n",
      "MRR: 0.8166666666666667\n",
      "nDCG: 0.8056379404546669\n",
      "MRR: 0.7806644880174292\n",
      "nDCG: 0.804458273227931\n",
      "MRR: 0.8037312360841773\n",
      "nDCG: 0.8048786174465444\n",
      "MRR: 0.8033496732026144\n",
      "nDCG: 0.80289162422156\n",
      "MRR: 0.7973972922502334\n",
      "nDCG: 0.8013277995244635\n",
      "MRR: 0.7814484126984127\n",
      "nDCG: 0.8046023337560513\n",
      "MRR: 0.7825641025641026\n",
      "nDCG: 0.7993950328958814\n",
      "MRR: 0.7993055555555556\n",
      "nDCG: 0.8022305720578612\n",
      "MRR: 0.7824252136752138\n",
      "nDCG: 0.8009622236961355\n",
      "MRR: 0.7588141025641025\n",
      "nDCG: 0.8022485315039002\n",
      "MRR: 0.7588141025641025\n",
      "nDCG: 0.8024479907365939\n",
      "MRR: 0.7588141025641025\n",
      "nDCG: 0.8014241816100962\n",
      "MRR: 0.7748952572481984\n",
      "nDCG: 0.8042909939169608\n",
      "MRR: 0.8402222222222222\n",
      "nDCG: 0.8184975135152132\n",
      "MRR: 0.8402222222222222\n",
      "nDCG: 0.8192190129339078\n"
     ]
    }
   ],
   "source": [
    "for i in range(2,27):\n",
    "    pipeline.evaluate(\n",
    "        name='pca_values_nbg',\n",
    "        model='nbg', \n",
    "        pca=i\n",
    "    )"
   ]
  },
  {
   "cell_type": "markdown",
   "metadata": {},
   "source": [
    "## Multi-layer Perceptron"
   ]
  },
  {
   "cell_type": "code",
   "execution_count": 11,
   "metadata": {},
   "outputs": [
    {
     "name": "stdout",
     "output_type": "stream",
     "text": [
      "MRR: 0.7409722222222223\n",
      "nDCG: 0.8440657384344709\n"
     ]
    }
   ],
   "source": [
    "pipeline.evaluate(\n",
    "    name='default_fs',\n",
    "    model='mlp', \n",
    "    pca=0\n",
    ")"
   ]
  },
  {
   "cell_type": "markdown",
   "metadata": {},
   "source": [
    "##### Hyperparameter Optimization"
   ]
  },
  {
   "cell_type": "code",
   "execution_count": 12,
   "metadata": {},
   "outputs": [],
   "source": [
    "mlp_search_space: list = []\n",
    "mlp_search_space.append(Categorical(['identity', 'logistic', 'tanh', 'relu'], name='activation'))\n",
    "mlp_search_space.append(Real(1e-6, 0.1, name='alpha'))\n",
    "mlp_search_space.append(Real(1e-6, 0.1, name='learning_rate_init'))"
   ]
  },
  {
   "cell_type": "code",
   "execution_count": 13,
   "metadata": {
    "scrolled": false
   },
   "outputs": [
    {
     "name": "stderr",
     "output_type": "stream",
     "text": [
      "/Users/tim/opt/anaconda3/envs/inforetrieval/lib/python3.9/site-packages/sklearn/neural_network/_multilayer_perceptron.py:692: ConvergenceWarning: Stochastic Optimizer: Maximum iterations (200) reached and the optimization hasn't converged yet.\n",
      "  warnings.warn(\n",
      "/Users/tim/opt/anaconda3/envs/inforetrieval/lib/python3.9/site-packages/sklearn/neural_network/_multilayer_perceptron.py:692: ConvergenceWarning: Stochastic Optimizer: Maximum iterations (200) reached and the optimization hasn't converged yet.\n",
      "  warnings.warn(\n",
      "/Users/tim/opt/anaconda3/envs/inforetrieval/lib/python3.9/site-packages/sklearn/neural_network/_multilayer_perceptron.py:692: ConvergenceWarning: Stochastic Optimizer: Maximum iterations (200) reached and the optimization hasn't converged yet.\n",
      "  warnings.warn(\n",
      "/Users/tim/opt/anaconda3/envs/inforetrieval/lib/python3.9/site-packages/sklearn/neural_network/_multilayer_perceptron.py:692: ConvergenceWarning: Stochastic Optimizer: Maximum iterations (200) reached and the optimization hasn't converged yet.\n",
      "  warnings.warn(\n",
      "/Users/tim/opt/anaconda3/envs/inforetrieval/lib/python3.9/site-packages/sklearn/neural_network/_multilayer_perceptron.py:692: ConvergenceWarning: Stochastic Optimizer: Maximum iterations (200) reached and the optimization hasn't converged yet.\n",
      "  warnings.warn(\n",
      "/Users/tim/opt/anaconda3/envs/inforetrieval/lib/python3.9/site-packages/sklearn/neural_network/_multilayer_perceptron.py:692: ConvergenceWarning: Stochastic Optimizer: Maximum iterations (200) reached and the optimization hasn't converged yet.\n",
      "  warnings.warn(\n",
      "/Users/tim/opt/anaconda3/envs/inforetrieval/lib/python3.9/site-packages/sklearn/neural_network/_multilayer_perceptron.py:692: ConvergenceWarning: Stochastic Optimizer: Maximum iterations (200) reached and the optimization hasn't converged yet.\n",
      "  warnings.warn(\n"
     ]
    },
    {
     "name": "stdout",
     "output_type": "stream",
     "text": [
      "Best MRR: 0.7562698412698411\n",
      "Best Hyperparameters: ['tanh', 0.0064010012631932, 0.02845405860279831]\n",
      "MRR on test set: 0.810103785103785\n",
      "nDCG on test set: 0.8644829960193103\n"
     ]
    }
   ],
   "source": [
    "pipeline.evaluate(\n",
    "    name='hpo_fs',\n",
    "    model='mlp', \n",
    "    pca=0,\n",
    "    search_space=mlp_search_space,\n",
    "    trials=80\n",
    ")"
   ]
  },
  {
   "cell_type": "markdown",
   "metadata": {},
   "source": [
    "##### PCA"
   ]
  },
  {
   "cell_type": "code",
   "execution_count": 19,
   "metadata": {
    "scrolled": false
   },
   "outputs": [
    {
     "name": "stdout",
     "output_type": "stream",
     "text": [
      "MRR: 0.8019444444444445\n",
      "nDCG: 0.8688720234348098\n",
      "MRR: 0.812948717948718\n",
      "nDCG: 0.8705786176321586\n",
      "MRR: 0.8166666666666667\n",
      "nDCG: 0.8684854136912821\n",
      "MRR: 0.8190740740740741\n",
      "nDCG: 0.8689959937205161\n",
      "MRR: 0.8138888888888889\n",
      "nDCG: 0.8513793614866301\n",
      "MRR: 0.8186111111111111\n",
      "nDCG: 0.8686583417791207\n",
      "MRR: 0.7731196581196581\n",
      "nDCG: 0.8601207149101547\n"
     ]
    },
    {
     "name": "stderr",
     "output_type": "stream",
     "text": [
      "/Users/tim/opt/anaconda3/envs/inforetrieval/lib/python3.9/site-packages/sklearn/neural_network/_multilayer_perceptron.py:692: ConvergenceWarning: Stochastic Optimizer: Maximum iterations (200) reached and the optimization hasn't converged yet.\n",
      "  warnings.warn(\n"
     ]
    },
    {
     "name": "stdout",
     "output_type": "stream",
     "text": [
      "MRR: 0.7233333333333333\n",
      "nDCG: 0.8433781492010882\n"
     ]
    },
    {
     "name": "stderr",
     "output_type": "stream",
     "text": [
      "/Users/tim/opt/anaconda3/envs/inforetrieval/lib/python3.9/site-packages/sklearn/neural_network/_multilayer_perceptron.py:692: ConvergenceWarning: Stochastic Optimizer: Maximum iterations (200) reached and the optimization hasn't converged yet.\n",
      "  warnings.warn(\n"
     ]
    },
    {
     "name": "stdout",
     "output_type": "stream",
     "text": [
      "MRR: 0.704398148148148\n",
      "nDCG: 0.8112909735335854\n",
      "MRR: 0.7394444444444445\n",
      "nDCG: 0.8497904675704727\n",
      "MRR: 0.7265567765567765\n",
      "nDCG: 0.8293091395014778\n",
      "MRR: 0.7327777777777779\n",
      "nDCG: 0.8343520763777875\n",
      "MRR: 0.7219444444444444\n",
      "nDCG: 0.8382131192246394\n"
     ]
    },
    {
     "name": "stderr",
     "output_type": "stream",
     "text": [
      "/Users/tim/opt/anaconda3/envs/inforetrieval/lib/python3.9/site-packages/sklearn/neural_network/_multilayer_perceptron.py:692: ConvergenceWarning: Stochastic Optimizer: Maximum iterations (200) reached and the optimization hasn't converged yet.\n",
      "  warnings.warn(\n"
     ]
    },
    {
     "name": "stdout",
     "output_type": "stream",
     "text": [
      "MRR: 0.7169179894179895\n",
      "nDCG: 0.8248787494430367\n",
      "MRR: 0.6809290382819795\n",
      "nDCG: 0.8240173790976417\n"
     ]
    },
    {
     "name": "stderr",
     "output_type": "stream",
     "text": [
      "/Users/tim/opt/anaconda3/envs/inforetrieval/lib/python3.9/site-packages/sklearn/neural_network/_multilayer_perceptron.py:692: ConvergenceWarning: Stochastic Optimizer: Maximum iterations (200) reached and the optimization hasn't converged yet.\n",
      "  warnings.warn(\n"
     ]
    },
    {
     "name": "stdout",
     "output_type": "stream",
     "text": [
      "MRR: 0.6684589947089947\n",
      "nDCG: 0.7931872455328046\n"
     ]
    },
    {
     "name": "stderr",
     "output_type": "stream",
     "text": [
      "/Users/tim/opt/anaconda3/envs/inforetrieval/lib/python3.9/site-packages/sklearn/neural_network/_multilayer_perceptron.py:692: ConvergenceWarning: Stochastic Optimizer: Maximum iterations (200) reached and the optimization hasn't converged yet.\n",
      "  warnings.warn(\n"
     ]
    },
    {
     "name": "stdout",
     "output_type": "stream",
     "text": [
      "MRR: 0.711111111111111\n",
      "nDCG: 0.8357464067858074\n"
     ]
    },
    {
     "name": "stderr",
     "output_type": "stream",
     "text": [
      "/Users/tim/opt/anaconda3/envs/inforetrieval/lib/python3.9/site-packages/sklearn/neural_network/_multilayer_perceptron.py:692: ConvergenceWarning: Stochastic Optimizer: Maximum iterations (200) reached and the optimization hasn't converged yet.\n",
      "  warnings.warn(\n"
     ]
    },
    {
     "name": "stdout",
     "output_type": "stream",
     "text": [
      "MRR: 0.6215375038904452\n",
      "nDCG: 0.7744560977646481\n"
     ]
    },
    {
     "name": "stderr",
     "output_type": "stream",
     "text": [
      "/Users/tim/opt/anaconda3/envs/inforetrieval/lib/python3.9/site-packages/sklearn/neural_network/_multilayer_perceptron.py:692: ConvergenceWarning: Stochastic Optimizer: Maximum iterations (200) reached and the optimization hasn't converged yet.\n",
      "  warnings.warn(\n"
     ]
    },
    {
     "name": "stdout",
     "output_type": "stream",
     "text": [
      "MRR: 0.5749350649350649\n",
      "nDCG: 0.7598515851994303\n"
     ]
    },
    {
     "name": "stderr",
     "output_type": "stream",
     "text": [
      "/Users/tim/opt/anaconda3/envs/inforetrieval/lib/python3.9/site-packages/sklearn/neural_network/_multilayer_perceptron.py:692: ConvergenceWarning: Stochastic Optimizer: Maximum iterations (200) reached and the optimization hasn't converged yet.\n",
      "  warnings.warn(\n"
     ]
    },
    {
     "name": "stdout",
     "output_type": "stream",
     "text": [
      "MRR: 0.682022977022977\n",
      "nDCG: 0.8206791580567113\n",
      "MRR: 0.644973544973545\n",
      "nDCG: 0.814526688154592\n"
     ]
    },
    {
     "name": "stderr",
     "output_type": "stream",
     "text": [
      "/Users/tim/opt/anaconda3/envs/inforetrieval/lib/python3.9/site-packages/sklearn/neural_network/_multilayer_perceptron.py:692: ConvergenceWarning: Stochastic Optimizer: Maximum iterations (200) reached and the optimization hasn't converged yet.\n",
      "  warnings.warn(\n"
     ]
    },
    {
     "name": "stdout",
     "output_type": "stream",
     "text": [
      "MRR: 0.622278543896191\n",
      "nDCG: 0.7406236525559249\n"
     ]
    },
    {
     "name": "stderr",
     "output_type": "stream",
     "text": [
      "/Users/tim/opt/anaconda3/envs/inforetrieval/lib/python3.9/site-packages/sklearn/neural_network/_multilayer_perceptron.py:692: ConvergenceWarning: Stochastic Optimizer: Maximum iterations (200) reached and the optimization hasn't converged yet.\n",
      "  warnings.warn(\n"
     ]
    },
    {
     "name": "stdout",
     "output_type": "stream",
     "text": [
      "MRR: 0.6789285714285714\n",
      "nDCG: 0.8024423242512796\n"
     ]
    },
    {
     "name": "stderr",
     "output_type": "stream",
     "text": [
      "/Users/tim/opt/anaconda3/envs/inforetrieval/lib/python3.9/site-packages/sklearn/neural_network/_multilayer_perceptron.py:692: ConvergenceWarning: Stochastic Optimizer: Maximum iterations (200) reached and the optimization hasn't converged yet.\n",
      "  warnings.warn(\n"
     ]
    },
    {
     "name": "stdout",
     "output_type": "stream",
     "text": [
      "MRR: 0.7061507936507937\n",
      "nDCG: 0.7978066049033303\n"
     ]
    },
    {
     "name": "stderr",
     "output_type": "stream",
     "text": [
      "/Users/tim/opt/anaconda3/envs/inforetrieval/lib/python3.9/site-packages/sklearn/neural_network/_multilayer_perceptron.py:692: ConvergenceWarning: Stochastic Optimizer: Maximum iterations (200) reached and the optimization hasn't converged yet.\n",
      "  warnings.warn(\n"
     ]
    },
    {
     "name": "stdout",
     "output_type": "stream",
     "text": [
      "MRR: 0.5223450080515297\n",
      "nDCG: 0.6571591256961091\n"
     ]
    }
   ],
   "source": [
    "for i in range(2,27):\n",
    "    pipeline.evaluate(\n",
    "        name='pca_values_mlp',\n",
    "        model='mlp', \n",
    "        pca=i\n",
    "    )"
   ]
  },
  {
   "cell_type": "markdown",
   "metadata": {},
   "source": [
    "## Support Vector Machine"
   ]
  },
  {
   "cell_type": "code",
   "execution_count": 18,
   "metadata": {},
   "outputs": [
    {
     "name": "stdout",
     "output_type": "stream",
     "text": [
      "MRR: 0.7314529914529916\n",
      "nDCG: 0.8562510087514688\n"
     ]
    }
   ],
   "source": [
    "pipeline.evaluate(\n",
    "    name='default_fs',\n",
    "    model='svm', \n",
    "    pca=0\n",
    ")"
   ]
  },
  {
   "cell_type": "markdown",
   "metadata": {},
   "source": [
    "##### Hyperparameter Optimization"
   ]
  },
  {
   "cell_type": "code",
   "execution_count": 17,
   "metadata": {},
   "outputs": [],
   "source": [
    "svm_search_space: list = []\n",
    "svm_search_space.append(Categorical(['poly', 'rbf', 'sigmoid'], name='kernel'))\n",
    "svm_search_space.append(Real(0.1, 100.0, name='C'))"
   ]
  },
  {
   "cell_type": "code",
   "execution_count": 18,
   "metadata": {},
   "outputs": [
    {
     "name": "stderr",
     "output_type": "stream",
     "text": [
      "/Users/tim/opt/anaconda3/envs/inforetrieval/lib/python3.9/site-packages/skopt/optimizer/optimizer.py:449: UserWarning: The objective has been evaluated at this point before.\n",
      "  warnings.warn(\"The objective has been evaluated \"\n"
     ]
    },
    {
     "name": "stdout",
     "output_type": "stream",
     "text": [
      "Best MRR: 0.7601037851037851\n",
      "Best Hyperparameters: ['rbf', 5.670025851035235]\n",
      "MRR on test set: 0.6783730158730158\n",
      "nDCG on test set: 0.8503540104234879\n"
     ]
    }
   ],
   "source": [
    "pipeline.evaluate(\n",
    "    name='hpo_fs',\n",
    "    model='svm', \n",
    "    pca=0,\n",
    "    search_space=svm_search_space,\n",
    "    trials=80\n",
    ")"
   ]
  },
  {
   "cell_type": "markdown",
   "metadata": {},
   "source": [
    "##### PCA"
   ]
  },
  {
   "cell_type": "code",
   "execution_count": 20,
   "metadata": {
    "scrolled": false
   },
   "outputs": [
    {
     "name": "stdout",
     "output_type": "stream",
     "text": [
      "MRR: 0.6433774250440917\n",
      "nDCG: 0.7034037574857117\n",
      "MRR: 0.6813139329805995\n",
      "nDCG: 0.8089191590307245\n",
      "MRR: 0.6634126984126983\n",
      "nDCG: 0.7941898231002916\n",
      "MRR: 0.6571075837742504\n",
      "nDCG: 0.7972789412459317\n",
      "MRR: 0.6614668856048167\n",
      "nDCG: 0.8056809993783278\n",
      "MRR: 0.6674641577060931\n",
      "nDCG: 0.8080562059222445\n",
      "MRR: 0.6056878306878307\n",
      "nDCG: 0.8265873560062279\n",
      "MRR: 0.6268518518518518\n",
      "nDCG: 0.8255668285367399\n",
      "MRR: 0.6293101343101344\n",
      "nDCG: 0.831613397116967\n",
      "MRR: 0.6556481481481481\n",
      "nDCG: 0.8361573487842157\n",
      "MRR: 0.6428703703703704\n",
      "nDCG: 0.8349455867597315\n",
      "MRR: 0.6178703703703704\n",
      "nDCG: 0.8302699490871212\n",
      "MRR: 0.6545370370370371\n",
      "nDCG: 0.8330371510335718\n",
      "MRR: 0.6457407407407406\n",
      "nDCG: 0.8319489994037904\n",
      "MRR: 0.6366137566137566\n",
      "nDCG: 0.8306893379094372\n",
      "MRR: 0.6268518518518519\n",
      "nDCG: 0.829880292580937\n",
      "MRR: 0.6223544973544972\n",
      "nDCG: 0.8302003883607547\n",
      "MRR: 0.6383974358974359\n",
      "nDCG: 0.8297041028663922\n",
      "MRR: 0.6383974358974359\n",
      "nDCG: 0.8287793485206806\n",
      "MRR: 0.6400641025641025\n",
      "nDCG: 0.8286834844705233\n",
      "MRR: 0.6367307692307693\n",
      "nDCG: 0.8260721174616473\n",
      "MRR: 0.6533974358974359\n",
      "nDCG: 0.8290620027404153\n",
      "MRR: 0.6570085470085469\n",
      "nDCG: 0.8300806871870193\n",
      "MRR: 0.6691666666666667\n",
      "nDCG: 0.8243767564960447\n",
      "MRR: 0.6675\n",
      "nDCG: 0.8251048184580806\n"
     ]
    }
   ],
   "source": [
    "for i in range(2,27):\n",
    "    pipeline.evaluate(\n",
    "        name='pca_values_svm',\n",
    "        model='svm', \n",
    "        pca=i\n",
    "    )"
   ]
  },
  {
   "cell_type": "markdown",
   "metadata": {},
   "source": [
    "## Decision Tree"
   ]
  },
  {
   "cell_type": "code",
   "execution_count": 19,
   "metadata": {},
   "outputs": [
    {
     "name": "stdout",
     "output_type": "stream",
     "text": [
      "MRR: 0.5223240416386495\n",
      "nDCG: 0.6197150517436344\n"
     ]
    }
   ],
   "source": [
    "pipeline.evaluate(\n",
    "    name='default_fs',\n",
    "    model='dt', \n",
    "    pca=0\n",
    ")"
   ]
  },
  {
   "cell_type": "markdown",
   "metadata": {},
   "source": [
    "##### Hyperparameter Optimization"
   ]
  },
  {
   "cell_type": "code",
   "execution_count": 19,
   "metadata": {},
   "outputs": [],
   "source": [
    "decision_tree_search_space: list = []\n",
    "decision_tree_search_space.append(Categorical(['gini', 'entropy'], name='criterion'))\n",
    "decision_tree_search_space.append(Integer(2, 15, name='min_samples_split'))\n",
    "decision_tree_search_space.append(Integer(1, 10, name='min_samples_leaf'))\n",
    "decision_tree_search_space.append(Integer(5, 100, name='max_leaf_nodes'))\n",
    "decision_tree_search_space.append(Integer(10, 50, name='max_depth'))\n",
    "decision_tree_search_space.append(Real(0.0, 0.2, name='min_weight_fraction_leaf'))"
   ]
  },
  {
   "cell_type": "code",
   "execution_count": 20,
   "metadata": {},
   "outputs": [
    {
     "name": "stdout",
     "output_type": "stream",
     "text": [
      "Best MRR: 0.7442201779701779\n",
      "Best Hyperparameters: ['entropy', 15, 1, 93, 27, 0.0077977848774843485]\n",
      "MRR on test set: 0.7425925925925925\n",
      "nDCG on test set: 0.8160804156201119\n"
     ]
    }
   ],
   "source": [
    "pipeline.evaluate(\n",
    "    name='hpo_fs',\n",
    "    model='dt', \n",
    "    pca=0,\n",
    "    search_space=decision_tree_search_space,\n",
    "    trials=80\n",
    ")"
   ]
  },
  {
   "cell_type": "markdown",
   "metadata": {},
   "source": [
    "##### PCA"
   ]
  },
  {
   "cell_type": "code",
   "execution_count": 21,
   "metadata": {},
   "outputs": [
    {
     "name": "stdout",
     "output_type": "stream",
     "text": [
      "MRR: 0.5389500836694846\n",
      "nDCG: 0.619691445293976\n",
      "MRR: 0.6239763701925863\n",
      "nDCG: 0.617882335316302\n",
      "MRR: 0.2886995227292688\n",
      "nDCG: 0.4368404167922325\n",
      "MRR: 0.30206514089618486\n",
      "nDCG: 0.45475554243758753\n",
      "MRR: 0.2969875369431856\n",
      "nDCG: 0.4486513690572141\n",
      "MRR: 0.2101728069871374\n",
      "nDCG: 0.42896945676825815\n",
      "MRR: 0.10422464629855445\n",
      "nDCG: 0.38229872044646634\n",
      "MRR: 0.07047486706460022\n",
      "nDCG: 0.3600218304063183\n",
      "MRR: 0.08898674483080327\n",
      "nDCG: 0.369263767097871\n",
      "MRR: 0.13872500294806642\n",
      "nDCG: 0.378788636055906\n",
      "MRR: 0.07584884703057743\n",
      "nDCG: 0.37606749868300476\n",
      "MRR: 0.07073249770597348\n",
      "nDCG: 0.37760938834292546\n",
      "MRR: 0.06445534234454815\n",
      "nDCG: 0.3929215469079622\n",
      "MRR: 0.06050407746975946\n",
      "nDCG: 0.36588702313757737\n",
      "MRR: 0.10552820415358097\n",
      "nDCG: 0.3780082854106514\n",
      "MRR: 0.05635410937777335\n",
      "nDCG: 0.3690665969034469\n",
      "MRR: 0.049967708765519495\n",
      "nDCG: 0.3645722961134934\n",
      "MRR: 0.08639846622609643\n",
      "nDCG: 0.3746560916119273\n",
      "MRR: 0.07021487839793869\n",
      "nDCG: 0.372036138201669\n",
      "MRR: 0.18823376641655784\n",
      "nDCG: 0.40372931649978355\n",
      "MRR: 0.09821561296073186\n",
      "nDCG: 0.3794395393051256\n",
      "MRR: 0.07150989133786881\n",
      "nDCG: 0.3719334349515198\n",
      "MRR: 0.05213819540543683\n",
      "nDCG: 0.37073124349179004\n",
      "MRR: 0.11953163673742485\n",
      "nDCG: 0.3949410882067621\n",
      "MRR: 0.07948582246260107\n",
      "nDCG: 0.3718083260263072\n"
     ]
    }
   ],
   "source": [
    "for i in range(2,27):\n",
    "    pipeline.evaluate(\n",
    "        name='pca_values_dt',\n",
    "        model='dt', \n",
    "        pca=i\n",
    "    )"
   ]
  },
  {
   "cell_type": "markdown",
   "metadata": {},
   "source": [
    "## Random Forest"
   ]
  },
  {
   "cell_type": "code",
   "execution_count": 20,
   "metadata": {},
   "outputs": [
    {
     "name": "stdout",
     "output_type": "stream",
     "text": [
      "MRR: 0.6753174603174603\n",
      "nDCG: 0.8062385343678714\n"
     ]
    }
   ],
   "source": [
    "pipeline.evaluate(\n",
    "    name='default_fs',\n",
    "    model='rf', \n",
    "    pca=0\n",
    ")"
   ]
  },
  {
   "cell_type": "markdown",
   "metadata": {},
   "source": [
    "##### Hyperparameter Optimization"
   ]
  },
  {
   "cell_type": "code",
   "execution_count": 22,
   "metadata": {},
   "outputs": [],
   "source": [
    "random_forest_search_space: list = []\n",
    "random_forest_search_space.append(Integer(20, 200, name='n_estimators'))\n",
    "random_forest_search_space.append(Categorical(['gini', 'entropy'], name='criterion'))\n",
    "random_forest_search_space.append(Integer(2, 15, name='min_samples_split'))\n",
    "random_forest_search_space.append(Integer(1, 10, name='min_samples_leaf'))\n",
    "random_forest_search_space.append(Integer(5, 100, name='max_leaf_nodes'))\n",
    "random_forest_search_space.append(Integer(10, 50, name='max_depth'))\n",
    "random_forest_search_space.append(Real(0.0, 0.2, name='min_weight_fraction_leaf'))"
   ]
  },
  {
   "cell_type": "code",
   "execution_count": 23,
   "metadata": {},
   "outputs": [
    {
     "name": "stdout",
     "output_type": "stream",
     "text": [
      "Best MRR: 0.80140522875817\n",
      "Best Hyperparameters: [94, 'entropy', 15, 2, 40, 33, 0.19949999886994965]\n",
      "MRR on test set: 0.6867307692307693\n",
      "nDCG on test set: 0.8373044508822045\n"
     ]
    }
   ],
   "source": [
    "pipeline.evaluate(\n",
    "    name='hpo_fs',\n",
    "    model='rf', \n",
    "    pca=0,\n",
    "    search_space=random_forest_search_space,\n",
    "    trials=80\n",
    ")"
   ]
  },
  {
   "cell_type": "markdown",
   "metadata": {},
   "source": [
    "##### PCA"
   ]
  },
  {
   "cell_type": "code",
   "execution_count": 22,
   "metadata": {},
   "outputs": [
    {
     "name": "stdout",
     "output_type": "stream",
     "text": [
      "MRR: 0.7096590708355415\n",
      "nDCG: 0.7385102104159841\n",
      "MRR: 0.7190291620524178\n",
      "nDCG: 0.7494594608606863\n",
      "MRR: 0.6788168724279835\n",
      "nDCG: 0.7378862037038021\n",
      "MRR: 0.6653968253968255\n",
      "nDCG: 0.7401299725431201\n",
      "MRR: 0.6718949771689499\n",
      "nDCG: 0.7428420876063935\n",
      "MRR: 0.7859977324263039\n",
      "nDCG: 0.750654937893532\n",
      "MRR: 0.6972222222222223\n",
      "nDCG: 0.7928258993314393\n",
      "MRR: 0.7430555555555557\n",
      "nDCG: 0.7869403209831035\n",
      "MRR: 0.6749206349206349\n",
      "nDCG: 0.780668165338073\n",
      "MRR: 0.7248821548821548\n",
      "nDCG: 0.7805781514834106\n",
      "MRR: 0.7102777777777778\n",
      "nDCG: 0.7883097225981518\n",
      "MRR: 0.6905303030303032\n",
      "nDCG: 0.7745890690562053\n",
      "MRR: 0.7251089324618737\n",
      "nDCG: 0.7785301054021366\n",
      "MRR: 0.6331878306878307\n",
      "nDCG: 0.7682678501747221\n",
      "MRR: 0.6073015873015872\n",
      "nDCG: 0.7612619966886485\n",
      "MRR: 0.642952847805789\n",
      "nDCG: 0.7701403776985004\n",
      "MRR: 0.7260042735042734\n",
      "nDCG: 0.78042275673895\n",
      "MRR: 0.6364285714285713\n",
      "nDCG: 0.7713464231245808\n",
      "MRR: 0.7022895622895623\n",
      "nDCG: 0.7770028115071369\n",
      "MRR: 0.7073648573648573\n",
      "nDCG: 0.7787323352992446\n",
      "MRR: 0.6128338001867414\n",
      "nDCG: 0.7609932252220367\n",
      "MRR: 0.6836752136752137\n",
      "nDCG: 0.7691363777879155\n",
      "MRR: 0.6864529914529914\n",
      "nDCG: 0.7646511567853878\n",
      "MRR: 0.6799045072574484\n",
      "nDCG: 0.7673299612376303\n",
      "MRR: 0.6974074074074074\n",
      "nDCG: 0.771621933669946\n"
     ]
    }
   ],
   "source": [
    "for i in range(2,27):\n",
    "    pipeline.evaluate(\n",
    "        name='pca_values_rf',\n",
    "        model='rf', \n",
    "        pca=i\n",
    "    )"
   ]
  },
  {
   "cell_type": "markdown",
   "metadata": {},
   "source": [
    "## Adaptive Boosting"
   ]
  },
  {
   "cell_type": "code",
   "execution_count": 21,
   "metadata": {},
   "outputs": [
    {
     "name": "stdout",
     "output_type": "stream",
     "text": [
      "MRR: 0.8146031746031746\n",
      "nDCG: 0.8598276886566136\n"
     ]
    }
   ],
   "source": [
    "pipeline.evaluate(\n",
    "    name='default_fs',\n",
    "    model='ada', \n",
    "    pca=0\n",
    ")"
   ]
  },
  {
   "cell_type": "markdown",
   "metadata": {},
   "source": [
    "##### Hyperparameter Optimization"
   ]
  },
  {
   "cell_type": "code",
   "execution_count": 9,
   "metadata": {},
   "outputs": [],
   "source": [
    "ada_boost_search_space: list = []\n",
    "ada_boost_search_space.append(Integer(20, 200, name='n_estimators'))\n",
    "ada_boost_search_space.append(Real(1e-2, 2.0, name='learning_rate'))"
   ]
  },
  {
   "cell_type": "code",
   "execution_count": 11,
   "metadata": {},
   "outputs": [
    {
     "name": "stderr",
     "output_type": "stream",
     "text": [
      "/Users/tim/opt/anaconda3/envs/inforetrieval/lib/python3.9/site-packages/skopt/optimizer/optimizer.py:449: UserWarning: The objective has been evaluated at this point before.\n",
      "  warnings.warn(\"The objective has been evaluated \"\n",
      "/Users/tim/opt/anaconda3/envs/inforetrieval/lib/python3.9/site-packages/skopt/optimizer/optimizer.py:449: UserWarning: The objective has been evaluated at this point before.\n",
      "  warnings.warn(\"The objective has been evaluated \"\n",
      "/Users/tim/opt/anaconda3/envs/inforetrieval/lib/python3.9/site-packages/skopt/optimizer/optimizer.py:449: UserWarning: The objective has been evaluated at this point before.\n",
      "  warnings.warn(\"The objective has been evaluated \"\n",
      "/Users/tim/opt/anaconda3/envs/inforetrieval/lib/python3.9/site-packages/skopt/optimizer/optimizer.py:449: UserWarning: The objective has been evaluated at this point before.\n",
      "  warnings.warn(\"The objective has been evaluated \"\n",
      "/Users/tim/opt/anaconda3/envs/inforetrieval/lib/python3.9/site-packages/skopt/optimizer/optimizer.py:449: UserWarning: The objective has been evaluated at this point before.\n",
      "  warnings.warn(\"The objective has been evaluated \"\n",
      "/Users/tim/opt/anaconda3/envs/inforetrieval/lib/python3.9/site-packages/skopt/optimizer/optimizer.py:449: UserWarning: The objective has been evaluated at this point before.\n",
      "  warnings.warn(\"The objective has been evaluated \"\n",
      "/Users/tim/opt/anaconda3/envs/inforetrieval/lib/python3.9/site-packages/skopt/optimizer/optimizer.py:449: UserWarning: The objective has been evaluated at this point before.\n",
      "  warnings.warn(\"The objective has been evaluated \"\n",
      "/Users/tim/opt/anaconda3/envs/inforetrieval/lib/python3.9/site-packages/skopt/optimizer/optimizer.py:449: UserWarning: The objective has been evaluated at this point before.\n",
      "  warnings.warn(\"The objective has been evaluated \"\n",
      "/Users/tim/opt/anaconda3/envs/inforetrieval/lib/python3.9/site-packages/skopt/optimizer/optimizer.py:449: UserWarning: The objective has been evaluated at this point before.\n",
      "  warnings.warn(\"The objective has been evaluated \"\n",
      "/Users/tim/opt/anaconda3/envs/inforetrieval/lib/python3.9/site-packages/skopt/optimizer/optimizer.py:449: UserWarning: The objective has been evaluated at this point before.\n",
      "  warnings.warn(\"The objective has been evaluated \"\n",
      "/Users/tim/opt/anaconda3/envs/inforetrieval/lib/python3.9/site-packages/skopt/optimizer/optimizer.py:449: UserWarning: The objective has been evaluated at this point before.\n",
      "  warnings.warn(\"The objective has been evaluated \"\n",
      "/Users/tim/opt/anaconda3/envs/inforetrieval/lib/python3.9/site-packages/skopt/optimizer/optimizer.py:449: UserWarning: The objective has been evaluated at this point before.\n",
      "  warnings.warn(\"The objective has been evaluated \"\n",
      "/Users/tim/opt/anaconda3/envs/inforetrieval/lib/python3.9/site-packages/skopt/optimizer/optimizer.py:449: UserWarning: The objective has been evaluated at this point before.\n",
      "  warnings.warn(\"The objective has been evaluated \"\n",
      "/Users/tim/opt/anaconda3/envs/inforetrieval/lib/python3.9/site-packages/skopt/optimizer/optimizer.py:449: UserWarning: The objective has been evaluated at this point before.\n",
      "  warnings.warn(\"The objective has been evaluated \"\n",
      "/Users/tim/opt/anaconda3/envs/inforetrieval/lib/python3.9/site-packages/skopt/optimizer/optimizer.py:449: UserWarning: The objective has been evaluated at this point before.\n",
      "  warnings.warn(\"The objective has been evaluated \"\n"
     ]
    },
    {
     "name": "stdout",
     "output_type": "stream",
     "text": [
      "Best MRR: 0.7508080808080808\n",
      "Best Hyperparameters: [167, 0.01]\n",
      "MRR on test set: 0.6775396825396826\n",
      "nDCG on test set: 0.8332631471987071\n"
     ]
    }
   ],
   "source": [
    "pipeline.evaluate(\n",
    "    name='hpo_fs',\n",
    "    model='ada', \n",
    "    pca=0,\n",
    "    search_space=ada_boost_search_space,\n",
    "    trials=80\n",
    ")"
   ]
  },
  {
   "cell_type": "markdown",
   "metadata": {},
   "source": [
    "##### PCA"
   ]
  },
  {
   "cell_type": "code",
   "execution_count": null,
   "metadata": {},
   "outputs": [
    {
     "name": "stdout",
     "output_type": "stream",
     "text": [
      "MRR: 0.767070707070707\n",
      "nDCG: 0.8505790620936556\n",
      "MRR: 0.7209595959595961\n",
      "nDCG: 0.8465075653552494\n",
      "MRR: 0.7870370370370371\n",
      "nDCG: 0.8533416829303844\n",
      "MRR: 0.7623456790123456\n",
      "nDCG: 0.8525416614984044\n",
      "MRR: 0.7367543859649123\n",
      "nDCG: 0.8471600834550975\n",
      "MRR: 0.7947846889952153\n",
      "nDCG: 0.8591390617858541\n",
      "MRR: 0.6580952380952382\n",
      "nDCG: 0.8465280527965331\n",
      "MRR: 0.7604166666666665\n",
      "nDCG: 0.8602537461789603\n",
      "MRR: 0.7464052287581701\n",
      "nDCG: 0.8579250527493678\n",
      "MRR: 0.65515522875817\n",
      "nDCG: 0.8513746659725856\n",
      "MRR: 0.7991830065359476\n",
      "nDCG: 0.8626374942665815\n",
      "MRR: 0.729861111111111\n",
      "nDCG: 0.8541247827167482\n",
      "MRR: 0.7433333333333331\n",
      "nDCG: 0.8530896976079126\n",
      "MRR: 0.7283333333333332\n",
      "nDCG: 0.8518228766280074\n",
      "MRR: 0.7283333333333332\n",
      "nDCG: 0.8518621693033482\n",
      "MRR: 0.6588888888888889\n",
      "nDCG: 0.8010308778709107\n",
      "MRR: 0.6588888888888889\n",
      "nDCG: 0.8010308778709107\n",
      "MRR: 0.7053174603174602\n",
      "nDCG: 0.8447397820293783\n",
      "MRR: 0.7053174603174602\n",
      "nDCG: 0.8447397820293783\n",
      "MRR: 0.72375\n",
      "nDCG: 0.8490602069350033\n"
     ]
    }
   ],
   "source": [
    "for i in range(2,27):\n",
    "    pipeline.evaluate(\n",
    "        name='pca_values_ada',\n",
    "        model='ada', \n",
    "        pca=i\n",
    "    )"
   ]
  },
  {
   "cell_type": "markdown",
   "metadata": {},
   "source": [
    "## Gradient Boosting"
   ]
  },
  {
   "cell_type": "code",
   "execution_count": 22,
   "metadata": {},
   "outputs": [
    {
     "name": "stdout",
     "output_type": "stream",
     "text": [
      "MRR: 0.7280440685045948\n",
      "nDCG: 0.8254641892372658\n"
     ]
    }
   ],
   "source": [
    "pipeline.evaluate(\n",
    "    name='default_fs',\n",
    "    model='gb', \n",
    "    pca=0\n",
    ")"
   ]
  },
  {
   "cell_type": "markdown",
   "metadata": {},
   "source": [
    "##### Hyperparameter Optimization"
   ]
  },
  {
   "cell_type": "code",
   "execution_count": 15,
   "metadata": {},
   "outputs": [],
   "source": [
    "gradient_boosting_search_space: list = []\n",
    "gradient_boosting_search_space.append(Integer(20, 200, name='n_estimators'))\n",
    "gradient_boosting_search_space.append(Categorical(['friedman_mse', 'squared_error'], name='criterion'))\n",
    "gradient_boosting_search_space.append(Integer(2, 15, name='min_samples_split'))\n",
    "gradient_boosting_search_space.append(Integer(1, 10, name='min_samples_leaf'))\n",
    "gradient_boosting_search_space.append(Integer(5, 100, name='max_leaf_nodes'))\n",
    "gradient_boosting_search_space.append(Integer(10, 50, name='max_depth'))\n",
    "gradient_boosting_search_space.append(Real(0.0, 0.2, name='min_weight_fraction_leaf'))"
   ]
  },
  {
   "cell_type": "code",
   "execution_count": 16,
   "metadata": {
    "scrolled": true
   },
   "outputs": [
    {
     "name": "stdout",
     "output_type": "stream",
     "text": [
      "Best MRR: 0.7750348092453355\n",
      "Best Hyperparameters: [143, 'friedman_mse', 2, 7, 90, 29, 0.029847021027296184]\n",
      "MRR on test set: 0.6677777777777777\n",
      "nDCG on test set: 0.8274833154070339\n"
     ]
    }
   ],
   "source": [
    "pipeline.evaluate(\n",
    "    name='hpo_fs',\n",
    "    model='gb', \n",
    "    pca=0,\n",
    "    search_space=gradient_boosting_search_space,\n",
    "    trials=80\n",
    ")"
   ]
  },
  {
   "cell_type": "markdown",
   "metadata": {},
   "source": [
    "##### PCA"
   ]
  },
  {
   "cell_type": "code",
   "execution_count": 5,
   "metadata": {},
   "outputs": [
    {
     "name": "stdout",
     "output_type": "stream",
     "text": [
      "MRR: 0.5547981779217477\n",
      "nDCG: 0.6998194679721532\n",
      "MRR: 0.8112820512820512\n",
      "nDCG: 0.816040309597916\n",
      "MRR: 0.742008547008547\n",
      "nDCG: 0.7697241792167222\n",
      "MRR: 0.7588888888888888\n",
      "nDCG: 0.790320690472736\n",
      "MRR: 0.7758080808080808\n",
      "nDCG: 0.7895205117698157\n",
      "MRR: 0.7198148148148148\n",
      "nDCG: 0.7638664399158597\n",
      "MRR: 0.6901785714285714\n",
      "nDCG: 0.7895532277520101\n",
      "MRR: 0.7647619047619048\n",
      "nDCG: 0.7969533530775652\n",
      "MRR: 0.7196230158730159\n",
      "nDCG: 0.7786377256900336\n",
      "MRR: 0.7252645502645502\n",
      "nDCG: 0.7755667753017924\n",
      "MRR: 0.7627492877492876\n",
      "nDCG: 0.7680283861601982\n",
      "MRR: 0.7342261904761905\n",
      "nDCG: 0.7780718301887978\n",
      "MRR: 0.7276750700280111\n",
      "nDCG: 0.7808640260868638\n",
      "MRR: 0.7134920634920635\n",
      "nDCG: 0.7739940260306952\n",
      "MRR: 0.693949275362319\n",
      "nDCG: 0.769446357682961\n",
      "MRR: 0.6918452380952381\n",
      "nDCG: 0.7778657054503009\n",
      "MRR: 0.7047817460317459\n",
      "nDCG: 0.7697177293293085\n",
      "MRR: 0.6676851851851853\n",
      "nDCG: 0.7482967623233314\n",
      "MRR: 0.6951851851851851\n",
      "nDCG: 0.7531432839604523\n",
      "MRR: 0.6697121070650482\n",
      "nDCG: 0.7498673056395885\n",
      "MRR: 0.6943184885290149\n",
      "nDCG: 0.7549032996197786\n",
      "MRR: 0.678422040922041\n",
      "nDCG: 0.7341225835497144\n",
      "MRR: 0.6755679505679506\n",
      "nDCG: 0.7551235760160679\n",
      "MRR: 0.7063026155131418\n",
      "nDCG: 0.7790198016899639\n",
      "MRR: 0.6352777777777777\n",
      "nDCG: 0.7777265815635629\n"
     ]
    }
   ],
   "source": [
    "for i in range(2,27):\n",
    "    pipeline.evaluate(\n",
    "        name='pca_values_gb',\n",
    "        model='gb', \n",
    "        pca=i\n",
    "    )"
   ]
  }
 ],
 "metadata": {
  "interpreter": {
   "hash": "15e7f6431c3efcc25ffb982d882caeeee1a07ee55caab724c679dfe0992cca8b"
  },
  "kernelspec": {
   "display_name": "Python 3 (ipykernel)",
   "language": "python",
   "name": "python3"
  },
  "language_info": {
   "codemirror_mode": {
    "name": "ipython",
    "version": 3
   },
   "file_extension": ".py",
   "mimetype": "text/x-python",
   "name": "python",
   "nbconvert_exporter": "python",
   "pygments_lexer": "ipython3",
   "version": "3.9.11"
  }
 },
 "nbformat": 4,
 "nbformat_minor": 1
}
