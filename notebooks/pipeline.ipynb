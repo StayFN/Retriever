{
 "cells": [
  {
   "cell_type": "code",
   "execution_count": 1,
   "metadata": {},
   "outputs": [
    {
     "name": "stderr",
     "output_type": "stream",
     "text": [
      "[nltk_data] Downloading package punkt to /Users/tim/nltk_data...\n",
      "[nltk_data]   Package punkt is already up-to-date!\n",
      "[nltk_data] Downloading package stopwords to /Users/tim/nltk_data...\n",
      "[nltk_data]   Package stopwords is already up-to-date!\n",
      "[nltk_data] Downloading package wordnet to /Users/tim/nltk_data...\n",
      "[nltk_data]   Package wordnet is already up-to-date!\n"
     ]
    }
   ],
   "source": [
    "import os\n",
    "import sys\n",
    "sys.path.append(os.path.dirname((os.path.abspath(''))))\n",
    "\n",
    "from src.pipeline import Pipeline\n",
    "from src.preprocessing.preprocessing import removal, tokenization, stemming"
   ]
  },
  {
   "cell_type": "code",
   "execution_count": 2,
   "metadata": {},
   "outputs": [],
   "source": [
    "pipeline = Pipeline()"
   ]
  },
  {
   "cell_type": "code",
   "execution_count": 3,
   "metadata": {},
   "outputs": [],
   "source": [
    "pipeline.setup()"
   ]
  },
  {
   "cell_type": "code",
   "execution_count": 4,
   "metadata": {},
   "outputs": [
    {
     "name": "stderr",
     "output_type": "stream",
     "text": [
      "100%|████████████████████████████████████████████████████████████████████████████████████████████████████████████████████████████████| 25000/25000 [01:00<00:00, 412.69it/s]\n",
      "100%|██████████████████████████████████████████████████████████████████████████████████████████████████████████████████████████████████| 1500/1500 [00:01<00:00, 843.92it/s]\n"
     ]
    }
   ],
   "source": [
    "pipeline.preprocess()"
   ]
  },
  {
   "cell_type": "code",
   "execution_count": 5,
   "metadata": {},
   "outputs": [
    {
     "name": "stderr",
     "output_type": "stream",
     "text": [
      "/Users/tim/opt/anaconda3/envs/inforetrieval/lib/python3.9/site-packages/sklearn/feature_extraction/text.py:516: UserWarning: The parameter 'token_pattern' will not be used since 'tokenizer' is not None'\n",
      "  warnings.warn(\n",
      "100%|███████████████████████████████████████████████████████████████████████████████████████████████████████████████████████████████| 25000/25000 [00:22<00:00, 1095.74it/s]\n",
      "100%|█████████████████████████████████████████████████████████████████████████████████████████████████████████████████████████████████| 1500/1500 [00:00<00:00, 9380.74it/s]\n"
     ]
    }
   ],
   "source": [
    "pipeline.create_tfidf_embeddings()"
   ]
  },
  {
   "cell_type": "code",
   "execution_count": 6,
   "metadata": {},
   "outputs": [
    {
     "name": "stderr",
     "output_type": "stream",
     "text": [
      "100%|██████████████████████████████████████████████████████████████████████████████████████████████████████████████████████████████████| 1500/1500 [00:02<00:00, 650.78it/s]\n",
      "100%|██████████████████████████████████████████████████████████████████████████████████████████████████████████████████████████████████| 1500/1500 [00:01<00:00, 757.45it/s]\n",
      "100%|██████████████████████████████████████████████████████████████████████████████████████████████████████████████████████████████████| 1500/1500 [00:01<00:00, 775.80it/s]\n"
     ]
    }
   ],
   "source": [
    "pipeline.create_tfidf_feature()"
   ]
  },
  {
   "cell_type": "code",
   "execution_count": 7,
   "metadata": {},
   "outputs": [
    {
     "name": "stderr",
     "output_type": "stream",
     "text": [
      "100%|█████████████████████████████████████████████████████████████████████████████████████████████████████████████████████████████████| 1500/1500 [00:00<00:00, 1626.54it/s]\n"
     ]
    }
   ],
   "source": [
    "pipeline.create_jaccard_feature()"
   ]
  },
  {
   "cell_type": "code",
   "execution_count": 9,
   "metadata": {},
   "outputs": [
    {
     "data": {
      "text/html": [
       "<div>\n",
       "<style scoped>\n",
       "    .dataframe tbody tr th:only-of-type {\n",
       "        vertical-align: middle;\n",
       "    }\n",
       "\n",
       "    .dataframe tbody tr th {\n",
       "        vertical-align: top;\n",
       "    }\n",
       "\n",
       "    .dataframe thead th {\n",
       "        text-align: right;\n",
       "    }\n",
       "</style>\n",
       "<table border=\"1\" class=\"dataframe\">\n",
       "  <thead>\n",
       "    <tr style=\"text-align: right;\">\n",
       "      <th></th>\n",
       "      <th>qID</th>\n",
       "      <th>pID</th>\n",
       "      <th>tfidf_cosine</th>\n",
       "      <th>tfidf_euclidean</th>\n",
       "      <th>tfidf_manhattan</th>\n",
       "      <th>jaccard</th>\n",
       "    </tr>\n",
       "  </thead>\n",
       "  <tbody>\n",
       "    <tr>\n",
       "      <th>0</th>\n",
       "      <td>651052</td>\n",
       "      <td>121251</td>\n",
       "      <td>0.852590</td>\n",
       "      <td>0.542973</td>\n",
       "      <td>1.896362</td>\n",
       "      <td>0.200000</td>\n",
       "    </tr>\n",
       "    <tr>\n",
       "      <th>1</th>\n",
       "      <td>485808</td>\n",
       "      <td>136865</td>\n",
       "      <td>0.481687</td>\n",
       "      <td>1.018148</td>\n",
       "      <td>5.600224</td>\n",
       "      <td>0.102564</td>\n",
       "    </tr>\n",
       "    <tr>\n",
       "      <th>2</th>\n",
       "      <td>550996</td>\n",
       "      <td>149222</td>\n",
       "      <td>0.455940</td>\n",
       "      <td>1.043130</td>\n",
       "      <td>4.301138</td>\n",
       "      <td>0.130435</td>\n",
       "    </tr>\n",
       "    <tr>\n",
       "      <th>3</th>\n",
       "      <td>632071</td>\n",
       "      <td>154108</td>\n",
       "      <td>0.000000</td>\n",
       "      <td>1.000000</td>\n",
       "      <td>6.205483</td>\n",
       "      <td>0.000000</td>\n",
       "    </tr>\n",
       "    <tr>\n",
       "      <th>4</th>\n",
       "      <td>726432</td>\n",
       "      <td>159582</td>\n",
       "      <td>0.562177</td>\n",
       "      <td>0.935760</td>\n",
       "      <td>4.339546</td>\n",
       "      <td>0.120000</td>\n",
       "    </tr>\n",
       "    <tr>\n",
       "      <th>...</th>\n",
       "      <td>...</td>\n",
       "      <td>...</td>\n",
       "      <td>...</td>\n",
       "      <td>...</td>\n",
       "      <td>...</td>\n",
       "      <td>...</td>\n",
       "    </tr>\n",
       "    <tr>\n",
       "      <th>1495</th>\n",
       "      <td>595630</td>\n",
       "      <td>8570301</td>\n",
       "      <td>0.260758</td>\n",
       "      <td>1.215929</td>\n",
       "      <td>4.647269</td>\n",
       "      <td>0.095238</td>\n",
       "    </tr>\n",
       "    <tr>\n",
       "      <th>1496</th>\n",
       "      <td>678422</td>\n",
       "      <td>881900</td>\n",
       "      <td>0.634672</td>\n",
       "      <td>0.854784</td>\n",
       "      <td>3.813911</td>\n",
       "      <td>0.041667</td>\n",
       "    </tr>\n",
       "    <tr>\n",
       "      <th>1497</th>\n",
       "      <td>1164923</td>\n",
       "      <td>3705384</td>\n",
       "      <td>0.386200</td>\n",
       "      <td>1.107971</td>\n",
       "      <td>5.632179</td>\n",
       "      <td>0.093750</td>\n",
       "    </tr>\n",
       "    <tr>\n",
       "      <th>1498</th>\n",
       "      <td>662044</td>\n",
       "      <td>1740760</td>\n",
       "      <td>0.458970</td>\n",
       "      <td>1.040221</td>\n",
       "      <td>4.665828</td>\n",
       "      <td>0.086957</td>\n",
       "    </tr>\n",
       "    <tr>\n",
       "      <th>1499</th>\n",
       "      <td>550950</td>\n",
       "      <td>3170239</td>\n",
       "      <td>0.261243</td>\n",
       "      <td>1.215530</td>\n",
       "      <td>4.701847</td>\n",
       "      <td>0.095238</td>\n",
       "    </tr>\n",
       "  </tbody>\n",
       "</table>\n",
       "<p>1500 rows × 6 columns</p>\n",
       "</div>"
      ],
      "text/plain": [
       "          qID      pID  tfidf_cosine  tfidf_euclidean  tfidf_manhattan  \\\n",
       "0      651052   121251      0.852590         0.542973         1.896362   \n",
       "1      485808   136865      0.481687         1.018148         5.600224   \n",
       "2      550996   149222      0.455940         1.043130         4.301138   \n",
       "3      632071   154108      0.000000         1.000000         6.205483   \n",
       "4      726432   159582      0.562177         0.935760         4.339546   \n",
       "...       ...      ...           ...              ...              ...   \n",
       "1495   595630  8570301      0.260758         1.215929         4.647269   \n",
       "1496   678422   881900      0.634672         0.854784         3.813911   \n",
       "1497  1164923  3705384      0.386200         1.107971         5.632179   \n",
       "1498   662044  1740760      0.458970         1.040221         4.665828   \n",
       "1499   550950  3170239      0.261243         1.215530         4.701847   \n",
       "\n",
       "       jaccard  \n",
       "0     0.200000  \n",
       "1     0.102564  \n",
       "2     0.130435  \n",
       "3     0.000000  \n",
       "4     0.120000  \n",
       "...        ...  \n",
       "1495  0.095238  \n",
       "1496  0.041667  \n",
       "1497  0.093750  \n",
       "1498  0.086957  \n",
       "1499  0.095238  \n",
       "\n",
       "[1500 rows x 6 columns]"
      ]
     },
     "execution_count": 9,
     "metadata": {},
     "output_type": "execute_result"
    }
   ],
   "source": [
    "pipeline.features"
   ]
  }
 ],
 "metadata": {
  "kernelspec": {
   "display_name": "Python 3 (ipykernel)",
   "language": "python",
   "name": "python3"
  },
  "language_info": {
   "codemirror_mode": {
    "name": "ipython",
    "version": 3
   },
   "file_extension": ".py",
   "mimetype": "text/x-python",
   "name": "python",
   "nbconvert_exporter": "python",
   "pygments_lexer": "ipython3",
   "version": "3.9.11"
  }
 },
 "nbformat": 4,
 "nbformat_minor": 1
}
