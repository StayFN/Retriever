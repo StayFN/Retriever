{
 "cells": [
  {
   "cell_type": "code",
   "execution_count": 1,
   "metadata": {},
   "outputs": [
    {
     "name": "stderr",
     "output_type": "stream",
     "text": [
      "[nltk_data] Downloading package punkt to\n",
      "[nltk_data]     C:\\Users\\jonas\\AppData\\Roaming\\nltk_data...\n",
      "[nltk_data]   Package punkt is already up-to-date!\n",
      "[nltk_data] Downloading package stopwords to\n",
      "[nltk_data]     C:\\Users\\jonas\\AppData\\Roaming\\nltk_data...\n",
      "[nltk_data]   Package stopwords is already up-to-date!\n",
      "[nltk_data] Downloading package wordnet to\n",
      "[nltk_data]     C:\\Users\\jonas\\AppData\\Roaming\\nltk_data...\n",
      "[nltk_data]   Package wordnet is already up-to-date!\n"
     ]
    }
   ],
   "source": [
    "import os\n",
    "import sys\n",
    "sys.path.append(os.path.dirname((os.path.abspath(''))))\n",
    "\n",
    "from src.pipeline import Pipeline\n",
    "from src.data.preprocessing import removal, tokenization, stemming"
   ]
  },
  {
   "cell_type": "code",
   "execution_count": 2,
   "metadata": {},
   "outputs": [],
   "source": [
    "pipeline = Pipeline()"
   ]
  },
  {
   "cell_type": "code",
   "execution_count": 3,
   "metadata": {},
   "outputs": [
    {
     "data": {
      "text/plain": [
       "<src.pipeline.Pipeline at 0x18daeae4f40>"
      ]
     },
     "execution_count": 3,
     "metadata": {},
     "output_type": "execute_result"
    }
   ],
   "source": [
    "pipeline.setup()"
   ]
  },
  {
   "cell_type": "code",
   "execution_count": 4,
   "metadata": {},
   "outputs": [
    {
     "name": "stderr",
     "output_type": "stream",
     "text": [
      "100%|██████████| 1000000/1000000 [59:04<00:00, 282.09it/s]  \n",
      "100%|██████████| 46983/46983 [00:52<00:00, 888.57it/s]\n",
      "100%|██████████| 200/200 [00:00<00:00, 849.77it/s]\n"
     ]
    },
    {
     "data": {
      "text/plain": [
       "<src.pipeline.Pipeline at 0x18daeae4f40>"
      ]
     },
     "execution_count": 4,
     "metadata": {},
     "output_type": "execute_result"
    }
   ],
   "source": [
    "pipeline.preprocess()"
   ]
  },
  {
   "cell_type": "code",
   "execution_count": 5,
   "metadata": {},
   "outputs": [
    {
     "name": "stdout",
     "output_type": "stream",
     "text": [
      "0 Unknown words replaced with zero vecs\n",
      "\n",
      "329 Unknown words replaced with zero vecs\n",
      "\n",
      "5 Unknown words replaced with zero vecs\n",
      "\n"
     ]
    },
    {
     "data": {
      "text/plain": [
       "<src.pipeline.Pipeline at 0x18daeae4f40>"
      ]
     },
     "execution_count": 5,
     "metadata": {},
     "output_type": "execute_result"
    }
   ],
   "source": [
    "pipeline.create_w2v_embeddings()"
   ]
  },
  {
   "cell_type": "code",
   "execution_count": 6,
   "metadata": {},
   "outputs": [
    {
     "name": "stderr",
     "output_type": "stream",
     "text": [
      " 76%|███████▋  | 3910714/5128266 [8:28:18<2:38:15, 128.23it/s]    \n"
     ]
    },
    {
     "ename": "KeyboardInterrupt",
     "evalue": "",
     "output_type": "error",
     "traceback": [
      "\u001b[1;31m---------------------------------------------------------------------------\u001b[0m",
      "\u001b[1;31mKeyboardInterrupt\u001b[0m                         Traceback (most recent call last)",
      "\u001b[1;32mc:\\Users\\jonas\\OneDrive - bwedu\\Studium_Master\\1_FSS_2022\\Information Retrieval [IE 663]\\Projekt\\Code\\Retriever\\notebooks\\pipeline.ipynb Cell 6'\u001b[0m in \u001b[0;36m<cell line: 1>\u001b[1;34m()\u001b[0m\n\u001b[1;32m----> <a href='vscode-notebook-cell:/c%3A/Users/jonas/OneDrive%20-%20bwedu/Studium_Master/1_FSS_2022/Information%20Retrieval%20%5BIE%20663%5D/Projekt/Code/Retriever/notebooks/pipeline.ipynb#ch0000031?line=0'>1</a>\u001b[0m pipeline\u001b[39m.\u001b[39;49mcreate_w2v_feature()\n",
      "File \u001b[1;32mc:\\Users\\jonas\\OneDrive - bwedu\\Studium_Master\\1_FSS_2022\\Information Retrieval [IE 663]\\Projekt\\Code\\Retriever\\src\\pipeline.py:87\u001b[0m, in \u001b[0;36mPipeline.create_w2v_feature\u001b[1;34m(self, path_collection, path_query)\u001b[0m\n\u001b[0;32m     <a href='file:///c%3A/Users/jonas/OneDrive%20-%20bwedu/Studium_Master/1_FSS_2022/Information%20Retrieval%20%5BIE%20663%5D/Projekt/Code/Retriever/src/pipeline.py?line=84'>85</a>\u001b[0m \u001b[39mdef\u001b[39;00m \u001b[39mcreate_w2v_feature\u001b[39m(\u001b[39mself\u001b[39m, path_collection: \u001b[39mstr\u001b[39m \u001b[39m=\u001b[39m \u001b[39m'\u001b[39m\u001b[39mdata/embeddings/w2v_collection_embeddings.pkl\u001b[39m\u001b[39m'\u001b[39m,\n\u001b[0;32m     <a href='file:///c%3A/Users/jonas/OneDrive%20-%20bwedu/Studium_Master/1_FSS_2022/Information%20Retrieval%20%5BIE%20663%5D/Projekt/Code/Retriever/src/pipeline.py?line=85'>86</a>\u001b[0m                          path_query: \u001b[39mstr\u001b[39m \u001b[39m=\u001b[39m \u001b[39m'\u001b[39m\u001b[39mdata/embeddings/w2v_query_embeddings.pkl\u001b[39m\u001b[39m'\u001b[39m):\n\u001b[1;32m---> <a href='file:///c%3A/Users/jonas/OneDrive%20-%20bwedu/Studium_Master/1_FSS_2022/Information%20Retrieval%20%5BIE%20663%5D/Projekt/Code/Retriever/src/pipeline.py?line=86'>87</a>\u001b[0m     \u001b[39mself\u001b[39m\u001b[39m.\u001b[39mfeatures \u001b[39m=\u001b[39m create_w2v_feature(\u001b[39mself\u001b[39;49m\u001b[39m.\u001b[39;49mfeatures, \u001b[39mself\u001b[39;49m\u001b[39m.\u001b[39;49mcollection, \u001b[39mself\u001b[39;49m\u001b[39m.\u001b[39;49mqueries, path_collection, path_query)\n\u001b[0;32m     <a href='file:///c%3A/Users/jonas/OneDrive%20-%20bwedu/Studium_Master/1_FSS_2022/Information%20Retrieval%20%5BIE%20663%5D/Projekt/Code/Retriever/src/pipeline.py?line=88'>89</a>\u001b[0m     \u001b[39mreturn\u001b[39;00m \u001b[39mself\u001b[39m\u001b[39m.\u001b[39msave()\n",
      "File \u001b[1;32mc:\\Users\\jonas\\OneDrive - bwedu\\Studium_Master\\1_FSS_2022\\Information Retrieval [IE 663]\\Projekt\\Code\\Retriever\\src\\features\\generator.py:42\u001b[0m, in \u001b[0;36mcreate_w2v_feature\u001b[1;34m(features, collection, queries, path_collection, path_query)\u001b[0m\n\u001b[0;32m     <a href='file:///c%3A/Users/jonas/OneDrive%20-%20bwedu/Studium_Master/1_FSS_2022/Information%20Retrieval%20%5BIE%20663%5D/Projekt/Code/Retriever/src/features/generator.py?line=38'>39</a>\u001b[0m embeddings \u001b[39m=\u001b[39m np\u001b[39m.\u001b[39marray(load(path_collection))\n\u001b[0;32m     <a href='file:///c%3A/Users/jonas/OneDrive%20-%20bwedu/Studium_Master/1_FSS_2022/Information%20Retrieval%20%5BIE%20663%5D/Projekt/Code/Retriever/src/features/generator.py?line=39'>40</a>\u001b[0m embeddings_queries \u001b[39m=\u001b[39m np\u001b[39m.\u001b[39marray(load(path_query))\n\u001b[1;32m---> <a href='file:///c%3A/Users/jonas/OneDrive%20-%20bwedu/Studium_Master/1_FSS_2022/Information%20Retrieval%20%5BIE%20663%5D/Projekt/Code/Retriever/src/features/generator.py?line=41'>42</a>\u001b[0m features[\u001b[39m'\u001b[39m\u001b[39mw2v_cosine\u001b[39m\u001b[39m'\u001b[39m] \u001b[39m=\u001b[39m features\u001b[39m.\u001b[39;49mprogress_apply(\u001b[39mlambda\u001b[39;49;00m qrel:\n\u001b[0;32m     <a href='file:///c%3A/Users/jonas/OneDrive%20-%20bwedu/Studium_Master/1_FSS_2022/Information%20Retrieval%20%5BIE%20663%5D/Projekt/Code/Retriever/src/features/generator.py?line=42'>43</a>\u001b[0m                                                    cosine_similarity_score(embeddings_queries[\n\u001b[0;32m     <a href='file:///c%3A/Users/jonas/OneDrive%20-%20bwedu/Studium_Master/1_FSS_2022/Information%20Retrieval%20%5BIE%20663%5D/Projekt/Code/Retriever/src/features/generator.py?line=43'>44</a>\u001b[0m                                                                                queries[\n\u001b[0;32m     <a href='file:///c%3A/Users/jonas/OneDrive%20-%20bwedu/Studium_Master/1_FSS_2022/Information%20Retrieval%20%5BIE%20663%5D/Projekt/Code/Retriever/src/features/generator.py?line=44'>45</a>\u001b[0m                                                                                    queries[\n\u001b[0;32m     <a href='file:///c%3A/Users/jonas/OneDrive%20-%20bwedu/Studium_Master/1_FSS_2022/Information%20Retrieval%20%5BIE%20663%5D/Projekt/Code/Retriever/src/features/generator.py?line=45'>46</a>\u001b[0m                                                                                        \u001b[39m'\u001b[39;49m\u001b[39mqID\u001b[39;49m\u001b[39m'\u001b[39;49m] \u001b[39m==\u001b[39;49m qrel\u001b[39m.\u001b[39;49mqID]\u001b[39m.\u001b[39;49mindex],\n\u001b[0;32m     <a href='file:///c%3A/Users/jonas/OneDrive%20-%20bwedu/Studium_Master/1_FSS_2022/Information%20Retrieval%20%5BIE%20663%5D/Projekt/Code/Retriever/src/features/generator.py?line=46'>47</a>\u001b[0m                                                                            embeddings[collection[\n\u001b[0;32m     <a href='file:///c%3A/Users/jonas/OneDrive%20-%20bwedu/Studium_Master/1_FSS_2022/Information%20Retrieval%20%5BIE%20663%5D/Projekt/Code/Retriever/src/features/generator.py?line=47'>48</a>\u001b[0m                                                                                collection[\n\u001b[0;32m     <a href='file:///c%3A/Users/jonas/OneDrive%20-%20bwedu/Studium_Master/1_FSS_2022/Information%20Retrieval%20%5BIE%20663%5D/Projekt/Code/Retriever/src/features/generator.py?line=48'>49</a>\u001b[0m                                                                                    \u001b[39m'\u001b[39;49m\u001b[39mpID\u001b[39;49m\u001b[39m'\u001b[39;49m] \u001b[39m==\u001b[39;49m qrel\u001b[39m.\u001b[39;49mpID]\u001b[39m.\u001b[39;49mindex]),\n\u001b[0;32m     <a href='file:///c%3A/Users/jonas/OneDrive%20-%20bwedu/Studium_Master/1_FSS_2022/Information%20Retrieval%20%5BIE%20663%5D/Projekt/Code/Retriever/src/features/generator.py?line=49'>50</a>\u001b[0m                                                    axis\u001b[39m=\u001b[39;49m\u001b[39m1\u001b[39;49m)\n\u001b[0;32m     <a href='file:///c%3A/Users/jonas/OneDrive%20-%20bwedu/Studium_Master/1_FSS_2022/Information%20Retrieval%20%5BIE%20663%5D/Projekt/Code/Retriever/src/features/generator.py?line=50'>51</a>\u001b[0m features[\u001b[39m'\u001b[39m\u001b[39mw2v_euclidean\u001b[39m\u001b[39m'\u001b[39m] \u001b[39m=\u001b[39m features\u001b[39m.\u001b[39mprogress_apply(\u001b[39mlambda\u001b[39;00m qrel:\n\u001b[0;32m     <a href='file:///c%3A/Users/jonas/OneDrive%20-%20bwedu/Studium_Master/1_FSS_2022/Information%20Retrieval%20%5BIE%20663%5D/Projekt/Code/Retriever/src/features/generator.py?line=51'>52</a>\u001b[0m                                                       euclidean_distance_score(embeddings_queries[\n\u001b[0;32m     <a href='file:///c%3A/Users/jonas/OneDrive%20-%20bwedu/Studium_Master/1_FSS_2022/Information%20Retrieval%20%5BIE%20663%5D/Projekt/Code/Retriever/src/features/generator.py?line=52'>53</a>\u001b[0m                                                                                    queries[\n\u001b[1;32m   (...)\u001b[0m\n\u001b[0;32m     <a href='file:///c%3A/Users/jonas/OneDrive%20-%20bwedu/Studium_Master/1_FSS_2022/Information%20Retrieval%20%5BIE%20663%5D/Projekt/Code/Retriever/src/features/generator.py?line=58'>59</a>\u001b[0m                                                                                            \u001b[39m'\u001b[39m\u001b[39mpID\u001b[39m\u001b[39m'\u001b[39m] \u001b[39m==\u001b[39m qrel\u001b[39m.\u001b[39mpID]\u001b[39m.\u001b[39mindex]),\n\u001b[0;32m     <a href='file:///c%3A/Users/jonas/OneDrive%20-%20bwedu/Studium_Master/1_FSS_2022/Information%20Retrieval%20%5BIE%20663%5D/Projekt/Code/Retriever/src/features/generator.py?line=59'>60</a>\u001b[0m                                                       axis\u001b[39m=\u001b[39m\u001b[39m1\u001b[39m)\n\u001b[0;32m     <a href='file:///c%3A/Users/jonas/OneDrive%20-%20bwedu/Studium_Master/1_FSS_2022/Information%20Retrieval%20%5BIE%20663%5D/Projekt/Code/Retriever/src/features/generator.py?line=60'>61</a>\u001b[0m features[\u001b[39m'\u001b[39m\u001b[39mw2v_manhattan\u001b[39m\u001b[39m'\u001b[39m] \u001b[39m=\u001b[39m features\u001b[39m.\u001b[39mprogress_apply(\u001b[39mlambda\u001b[39;00m qrel:\n\u001b[0;32m     <a href='file:///c%3A/Users/jonas/OneDrive%20-%20bwedu/Studium_Master/1_FSS_2022/Information%20Retrieval%20%5BIE%20663%5D/Projekt/Code/Retriever/src/features/generator.py?line=61'>62</a>\u001b[0m                                                       manhattan_distance_score(embeddings_queries[\n\u001b[0;32m     <a href='file:///c%3A/Users/jonas/OneDrive%20-%20bwedu/Studium_Master/1_FSS_2022/Information%20Retrieval%20%5BIE%20663%5D/Projekt/Code/Retriever/src/features/generator.py?line=62'>63</a>\u001b[0m                                                                                    queries[\n\u001b[1;32m   (...)\u001b[0m\n\u001b[0;32m     <a href='file:///c%3A/Users/jonas/OneDrive%20-%20bwedu/Studium_Master/1_FSS_2022/Information%20Retrieval%20%5BIE%20663%5D/Projekt/Code/Retriever/src/features/generator.py?line=68'>69</a>\u001b[0m                                                                                            \u001b[39m'\u001b[39m\u001b[39mpID\u001b[39m\u001b[39m'\u001b[39m] \u001b[39m==\u001b[39m qrel\u001b[39m.\u001b[39mpID]\u001b[39m.\u001b[39mindex]),\n\u001b[0;32m     <a href='file:///c%3A/Users/jonas/OneDrive%20-%20bwedu/Studium_Master/1_FSS_2022/Information%20Retrieval%20%5BIE%20663%5D/Projekt/Code/Retriever/src/features/generator.py?line=69'>70</a>\u001b[0m                                                       axis\u001b[39m=\u001b[39m\u001b[39m1\u001b[39m)\n",
      "File \u001b[1;32me:\\Programme\\Miniconda\\envs\\InRe\\lib\\site-packages\\tqdm\\std.py:814\u001b[0m, in \u001b[0;36mtqdm.pandas.<locals>.inner_generator.<locals>.inner\u001b[1;34m(df, func, *args, **kwargs)\u001b[0m\n\u001b[0;32m    <a href='file:///e%3A/Programme/Miniconda/envs/InRe/lib/site-packages/tqdm/std.py?line=810'>811</a>\u001b[0m \u001b[39m# Apply the provided function (in **kwargs)\u001b[39;00m\n\u001b[0;32m    <a href='file:///e%3A/Programme/Miniconda/envs/InRe/lib/site-packages/tqdm/std.py?line=811'>812</a>\u001b[0m \u001b[39m# on the df using our wrapper (which provides bar updating)\u001b[39;00m\n\u001b[0;32m    <a href='file:///e%3A/Programme/Miniconda/envs/InRe/lib/site-packages/tqdm/std.py?line=812'>813</a>\u001b[0m \u001b[39mtry\u001b[39;00m:\n\u001b[1;32m--> <a href='file:///e%3A/Programme/Miniconda/envs/InRe/lib/site-packages/tqdm/std.py?line=813'>814</a>\u001b[0m     \u001b[39mreturn\u001b[39;00m \u001b[39mgetattr\u001b[39m(df, df_function)(wrapper, \u001b[39m*\u001b[39m\u001b[39m*\u001b[39mkwargs)\n\u001b[0;32m    <a href='file:///e%3A/Programme/Miniconda/envs/InRe/lib/site-packages/tqdm/std.py?line=814'>815</a>\u001b[0m \u001b[39mfinally\u001b[39;00m:\n\u001b[0;32m    <a href='file:///e%3A/Programme/Miniconda/envs/InRe/lib/site-packages/tqdm/std.py?line=815'>816</a>\u001b[0m     t\u001b[39m.\u001b[39mclose()\n",
      "File \u001b[1;32me:\\Programme\\Miniconda\\envs\\InRe\\lib\\site-packages\\pandas\\core\\frame.py:8833\u001b[0m, in \u001b[0;36mDataFrame.apply\u001b[1;34m(self, func, axis, raw, result_type, args, **kwargs)\u001b[0m\n\u001b[0;32m   <a href='file:///e%3A/Programme/Miniconda/envs/InRe/lib/site-packages/pandas/core/frame.py?line=8821'>8822</a>\u001b[0m \u001b[39mfrom\u001b[39;00m \u001b[39mpandas\u001b[39;00m\u001b[39m.\u001b[39;00m\u001b[39mcore\u001b[39;00m\u001b[39m.\u001b[39;00m\u001b[39mapply\u001b[39;00m \u001b[39mimport\u001b[39;00m frame_apply\n\u001b[0;32m   <a href='file:///e%3A/Programme/Miniconda/envs/InRe/lib/site-packages/pandas/core/frame.py?line=8823'>8824</a>\u001b[0m op \u001b[39m=\u001b[39m frame_apply(\n\u001b[0;32m   <a href='file:///e%3A/Programme/Miniconda/envs/InRe/lib/site-packages/pandas/core/frame.py?line=8824'>8825</a>\u001b[0m     \u001b[39mself\u001b[39m,\n\u001b[0;32m   <a href='file:///e%3A/Programme/Miniconda/envs/InRe/lib/site-packages/pandas/core/frame.py?line=8825'>8826</a>\u001b[0m     func\u001b[39m=\u001b[39mfunc,\n\u001b[1;32m   (...)\u001b[0m\n\u001b[0;32m   <a href='file:///e%3A/Programme/Miniconda/envs/InRe/lib/site-packages/pandas/core/frame.py?line=8830'>8831</a>\u001b[0m     kwargs\u001b[39m=\u001b[39mkwargs,\n\u001b[0;32m   <a href='file:///e%3A/Programme/Miniconda/envs/InRe/lib/site-packages/pandas/core/frame.py?line=8831'>8832</a>\u001b[0m )\n\u001b[1;32m-> <a href='file:///e%3A/Programme/Miniconda/envs/InRe/lib/site-packages/pandas/core/frame.py?line=8832'>8833</a>\u001b[0m \u001b[39mreturn\u001b[39;00m op\u001b[39m.\u001b[39;49mapply()\u001b[39m.\u001b[39m__finalize__(\u001b[39mself\u001b[39m, method\u001b[39m=\u001b[39m\u001b[39m\"\u001b[39m\u001b[39mapply\u001b[39m\u001b[39m\"\u001b[39m)\n",
      "File \u001b[1;32me:\\Programme\\Miniconda\\envs\\InRe\\lib\\site-packages\\pandas\\core\\apply.py:727\u001b[0m, in \u001b[0;36mFrameApply.apply\u001b[1;34m(self)\u001b[0m\n\u001b[0;32m    <a href='file:///e%3A/Programme/Miniconda/envs/InRe/lib/site-packages/pandas/core/apply.py?line=723'>724</a>\u001b[0m \u001b[39melif\u001b[39;00m \u001b[39mself\u001b[39m\u001b[39m.\u001b[39mraw:\n\u001b[0;32m    <a href='file:///e%3A/Programme/Miniconda/envs/InRe/lib/site-packages/pandas/core/apply.py?line=724'>725</a>\u001b[0m     \u001b[39mreturn\u001b[39;00m \u001b[39mself\u001b[39m\u001b[39m.\u001b[39mapply_raw()\n\u001b[1;32m--> <a href='file:///e%3A/Programme/Miniconda/envs/InRe/lib/site-packages/pandas/core/apply.py?line=726'>727</a>\u001b[0m \u001b[39mreturn\u001b[39;00m \u001b[39mself\u001b[39;49m\u001b[39m.\u001b[39;49mapply_standard()\n",
      "File \u001b[1;32me:\\Programme\\Miniconda\\envs\\InRe\\lib\\site-packages\\pandas\\core\\apply.py:851\u001b[0m, in \u001b[0;36mFrameApply.apply_standard\u001b[1;34m(self)\u001b[0m\n\u001b[0;32m    <a href='file:///e%3A/Programme/Miniconda/envs/InRe/lib/site-packages/pandas/core/apply.py?line=849'>850</a>\u001b[0m \u001b[39mdef\u001b[39;00m \u001b[39mapply_standard\u001b[39m(\u001b[39mself\u001b[39m):\n\u001b[1;32m--> <a href='file:///e%3A/Programme/Miniconda/envs/InRe/lib/site-packages/pandas/core/apply.py?line=850'>851</a>\u001b[0m     results, res_index \u001b[39m=\u001b[39m \u001b[39mself\u001b[39;49m\u001b[39m.\u001b[39;49mapply_series_generator()\n\u001b[0;32m    <a href='file:///e%3A/Programme/Miniconda/envs/InRe/lib/site-packages/pandas/core/apply.py?line=852'>853</a>\u001b[0m     \u001b[39m# wrap results\u001b[39;00m\n\u001b[0;32m    <a href='file:///e%3A/Programme/Miniconda/envs/InRe/lib/site-packages/pandas/core/apply.py?line=853'>854</a>\u001b[0m     \u001b[39mreturn\u001b[39;00m \u001b[39mself\u001b[39m\u001b[39m.\u001b[39mwrap_results(results, res_index)\n",
      "File \u001b[1;32me:\\Programme\\Miniconda\\envs\\InRe\\lib\\site-packages\\pandas\\core\\apply.py:867\u001b[0m, in \u001b[0;36mFrameApply.apply_series_generator\u001b[1;34m(self)\u001b[0m\n\u001b[0;32m    <a href='file:///e%3A/Programme/Miniconda/envs/InRe/lib/site-packages/pandas/core/apply.py?line=863'>864</a>\u001b[0m \u001b[39mwith\u001b[39;00m option_context(\u001b[39m\"\u001b[39m\u001b[39mmode.chained_assignment\u001b[39m\u001b[39m\"\u001b[39m, \u001b[39mNone\u001b[39;00m):\n\u001b[0;32m    <a href='file:///e%3A/Programme/Miniconda/envs/InRe/lib/site-packages/pandas/core/apply.py?line=864'>865</a>\u001b[0m     \u001b[39mfor\u001b[39;00m i, v \u001b[39min\u001b[39;00m \u001b[39menumerate\u001b[39m(series_gen):\n\u001b[0;32m    <a href='file:///e%3A/Programme/Miniconda/envs/InRe/lib/site-packages/pandas/core/apply.py?line=865'>866</a>\u001b[0m         \u001b[39m# ignore SettingWithCopy here in case the user mutates\u001b[39;00m\n\u001b[1;32m--> <a href='file:///e%3A/Programme/Miniconda/envs/InRe/lib/site-packages/pandas/core/apply.py?line=866'>867</a>\u001b[0m         results[i] \u001b[39m=\u001b[39m \u001b[39mself\u001b[39;49m\u001b[39m.\u001b[39;49mf(v)\n\u001b[0;32m    <a href='file:///e%3A/Programme/Miniconda/envs/InRe/lib/site-packages/pandas/core/apply.py?line=867'>868</a>\u001b[0m         \u001b[39mif\u001b[39;00m \u001b[39misinstance\u001b[39m(results[i], ABCSeries):\n\u001b[0;32m    <a href='file:///e%3A/Programme/Miniconda/envs/InRe/lib/site-packages/pandas/core/apply.py?line=868'>869</a>\u001b[0m             \u001b[39m# If we have a view on v, we need to make a copy because\u001b[39;00m\n\u001b[0;32m    <a href='file:///e%3A/Programme/Miniconda/envs/InRe/lib/site-packages/pandas/core/apply.py?line=869'>870</a>\u001b[0m             \u001b[39m#  series_generator will swap out the underlying data\u001b[39;00m\n\u001b[0;32m    <a href='file:///e%3A/Programme/Miniconda/envs/InRe/lib/site-packages/pandas/core/apply.py?line=870'>871</a>\u001b[0m             results[i] \u001b[39m=\u001b[39m results[i]\u001b[39m.\u001b[39mcopy(deep\u001b[39m=\u001b[39m\u001b[39mFalse\u001b[39;00m)\n",
      "File \u001b[1;32me:\\Programme\\Miniconda\\envs\\InRe\\lib\\site-packages\\tqdm\\std.py:809\u001b[0m, in \u001b[0;36mtqdm.pandas.<locals>.inner_generator.<locals>.inner.<locals>.wrapper\u001b[1;34m(*args, **kwargs)\u001b[0m\n\u001b[0;32m    <a href='file:///e%3A/Programme/Miniconda/envs/InRe/lib/site-packages/tqdm/std.py?line=802'>803</a>\u001b[0m \u001b[39mdef\u001b[39;00m \u001b[39mwrapper\u001b[39m(\u001b[39m*\u001b[39margs, \u001b[39m*\u001b[39m\u001b[39m*\u001b[39mkwargs):\n\u001b[0;32m    <a href='file:///e%3A/Programme/Miniconda/envs/InRe/lib/site-packages/tqdm/std.py?line=803'>804</a>\u001b[0m     \u001b[39m# update tbar correctly\u001b[39;00m\n\u001b[0;32m    <a href='file:///e%3A/Programme/Miniconda/envs/InRe/lib/site-packages/tqdm/std.py?line=804'>805</a>\u001b[0m     \u001b[39m# it seems `pandas apply` calls `func` twice\u001b[39;00m\n\u001b[0;32m    <a href='file:///e%3A/Programme/Miniconda/envs/InRe/lib/site-packages/tqdm/std.py?line=805'>806</a>\u001b[0m     \u001b[39m# on the first column/row to decide whether it can\u001b[39;00m\n\u001b[0;32m    <a href='file:///e%3A/Programme/Miniconda/envs/InRe/lib/site-packages/tqdm/std.py?line=806'>807</a>\u001b[0m     \u001b[39m# take a fast or slow code path; so stop when t.total==t.n\u001b[39;00m\n\u001b[0;32m    <a href='file:///e%3A/Programme/Miniconda/envs/InRe/lib/site-packages/tqdm/std.py?line=807'>808</a>\u001b[0m     t\u001b[39m.\u001b[39mupdate(n\u001b[39m=\u001b[39m\u001b[39m1\u001b[39m \u001b[39mif\u001b[39;00m \u001b[39mnot\u001b[39;00m t\u001b[39m.\u001b[39mtotal \u001b[39mor\u001b[39;00m t\u001b[39m.\u001b[39mn \u001b[39m<\u001b[39m t\u001b[39m.\u001b[39mtotal \u001b[39melse\u001b[39;00m \u001b[39m0\u001b[39m)\n\u001b[1;32m--> <a href='file:///e%3A/Programme/Miniconda/envs/InRe/lib/site-packages/tqdm/std.py?line=808'>809</a>\u001b[0m     \u001b[39mreturn\u001b[39;00m func(\u001b[39m*\u001b[39margs, \u001b[39m*\u001b[39m\u001b[39m*\u001b[39mkwargs)\n",
      "File \u001b[1;32mc:\\Users\\jonas\\OneDrive - bwedu\\Studium_Master\\1_FSS_2022\\Information Retrieval [IE 663]\\Projekt\\Code\\Retriever\\src\\features\\generator.py:45\u001b[0m, in \u001b[0;36mcreate_w2v_feature.<locals>.<lambda>\u001b[1;34m(qrel)\u001b[0m\n\u001b[0;32m     <a href='file:///c%3A/Users/jonas/OneDrive%20-%20bwedu/Studium_Master/1_FSS_2022/Information%20Retrieval%20%5BIE%20663%5D/Projekt/Code/Retriever/src/features/generator.py?line=38'>39</a>\u001b[0m embeddings \u001b[39m=\u001b[39m np\u001b[39m.\u001b[39marray(load(path_collection))\n\u001b[0;32m     <a href='file:///c%3A/Users/jonas/OneDrive%20-%20bwedu/Studium_Master/1_FSS_2022/Information%20Retrieval%20%5BIE%20663%5D/Projekt/Code/Retriever/src/features/generator.py?line=39'>40</a>\u001b[0m embeddings_queries \u001b[39m=\u001b[39m np\u001b[39m.\u001b[39marray(load(path_query))\n\u001b[0;32m     <a href='file:///c%3A/Users/jonas/OneDrive%20-%20bwedu/Studium_Master/1_FSS_2022/Information%20Retrieval%20%5BIE%20663%5D/Projekt/Code/Retriever/src/features/generator.py?line=41'>42</a>\u001b[0m features[\u001b[39m'\u001b[39m\u001b[39mw2v_cosine\u001b[39m\u001b[39m'\u001b[39m] \u001b[39m=\u001b[39m features\u001b[39m.\u001b[39mprogress_apply(\u001b[39mlambda\u001b[39;00m qrel:\n\u001b[0;32m     <a href='file:///c%3A/Users/jonas/OneDrive%20-%20bwedu/Studium_Master/1_FSS_2022/Information%20Retrieval%20%5BIE%20663%5D/Projekt/Code/Retriever/src/features/generator.py?line=42'>43</a>\u001b[0m                                                    cosine_similarity_score(embeddings_queries[\n\u001b[0;32m     <a href='file:///c%3A/Users/jonas/OneDrive%20-%20bwedu/Studium_Master/1_FSS_2022/Information%20Retrieval%20%5BIE%20663%5D/Projekt/Code/Retriever/src/features/generator.py?line=43'>44</a>\u001b[0m                                                                                queries[\n\u001b[1;32m---> <a href='file:///c%3A/Users/jonas/OneDrive%20-%20bwedu/Studium_Master/1_FSS_2022/Information%20Retrieval%20%5BIE%20663%5D/Projekt/Code/Retriever/src/features/generator.py?line=44'>45</a>\u001b[0m                                                                                    queries[\n\u001b[0;32m     <a href='file:///c%3A/Users/jonas/OneDrive%20-%20bwedu/Studium_Master/1_FSS_2022/Information%20Retrieval%20%5BIE%20663%5D/Projekt/Code/Retriever/src/features/generator.py?line=45'>46</a>\u001b[0m                                                                                        \u001b[39m'\u001b[39;49m\u001b[39mqID\u001b[39;49m\u001b[39m'\u001b[39;49m] \u001b[39m==\u001b[39;49m qrel\u001b[39m.\u001b[39;49mqID]\u001b[39m.\u001b[39mindex],\n\u001b[0;32m     <a href='file:///c%3A/Users/jonas/OneDrive%20-%20bwedu/Studium_Master/1_FSS_2022/Information%20Retrieval%20%5BIE%20663%5D/Projekt/Code/Retriever/src/features/generator.py?line=46'>47</a>\u001b[0m                                                                            embeddings[collection[\n\u001b[0;32m     <a href='file:///c%3A/Users/jonas/OneDrive%20-%20bwedu/Studium_Master/1_FSS_2022/Information%20Retrieval%20%5BIE%20663%5D/Projekt/Code/Retriever/src/features/generator.py?line=47'>48</a>\u001b[0m                                                                                collection[\n\u001b[0;32m     <a href='file:///c%3A/Users/jonas/OneDrive%20-%20bwedu/Studium_Master/1_FSS_2022/Information%20Retrieval%20%5BIE%20663%5D/Projekt/Code/Retriever/src/features/generator.py?line=48'>49</a>\u001b[0m                                                                                    \u001b[39m'\u001b[39m\u001b[39mpID\u001b[39m\u001b[39m'\u001b[39m] \u001b[39m==\u001b[39m qrel\u001b[39m.\u001b[39mpID]\u001b[39m.\u001b[39mindex]),\n\u001b[0;32m     <a href='file:///c%3A/Users/jonas/OneDrive%20-%20bwedu/Studium_Master/1_FSS_2022/Information%20Retrieval%20%5BIE%20663%5D/Projekt/Code/Retriever/src/features/generator.py?line=49'>50</a>\u001b[0m                                                    axis\u001b[39m=\u001b[39m\u001b[39m1\u001b[39m)\n\u001b[0;32m     <a href='file:///c%3A/Users/jonas/OneDrive%20-%20bwedu/Studium_Master/1_FSS_2022/Information%20Retrieval%20%5BIE%20663%5D/Projekt/Code/Retriever/src/features/generator.py?line=50'>51</a>\u001b[0m features[\u001b[39m'\u001b[39m\u001b[39mw2v_euclidean\u001b[39m\u001b[39m'\u001b[39m] \u001b[39m=\u001b[39m features\u001b[39m.\u001b[39mprogress_apply(\u001b[39mlambda\u001b[39;00m qrel:\n\u001b[0;32m     <a href='file:///c%3A/Users/jonas/OneDrive%20-%20bwedu/Studium_Master/1_FSS_2022/Information%20Retrieval%20%5BIE%20663%5D/Projekt/Code/Retriever/src/features/generator.py?line=51'>52</a>\u001b[0m                                                       euclidean_distance_score(embeddings_queries[\n\u001b[0;32m     <a href='file:///c%3A/Users/jonas/OneDrive%20-%20bwedu/Studium_Master/1_FSS_2022/Information%20Retrieval%20%5BIE%20663%5D/Projekt/Code/Retriever/src/features/generator.py?line=52'>53</a>\u001b[0m                                                                                    queries[\n\u001b[1;32m   (...)\u001b[0m\n\u001b[0;32m     <a href='file:///c%3A/Users/jonas/OneDrive%20-%20bwedu/Studium_Master/1_FSS_2022/Information%20Retrieval%20%5BIE%20663%5D/Projekt/Code/Retriever/src/features/generator.py?line=58'>59</a>\u001b[0m                                                                                            \u001b[39m'\u001b[39m\u001b[39mpID\u001b[39m\u001b[39m'\u001b[39m] \u001b[39m==\u001b[39m qrel\u001b[39m.\u001b[39mpID]\u001b[39m.\u001b[39mindex]),\n\u001b[0;32m     <a href='file:///c%3A/Users/jonas/OneDrive%20-%20bwedu/Studium_Master/1_FSS_2022/Information%20Retrieval%20%5BIE%20663%5D/Projekt/Code/Retriever/src/features/generator.py?line=59'>60</a>\u001b[0m                                                       axis\u001b[39m=\u001b[39m\u001b[39m1\u001b[39m)\n\u001b[0;32m     <a href='file:///c%3A/Users/jonas/OneDrive%20-%20bwedu/Studium_Master/1_FSS_2022/Information%20Retrieval%20%5BIE%20663%5D/Projekt/Code/Retriever/src/features/generator.py?line=60'>61</a>\u001b[0m features[\u001b[39m'\u001b[39m\u001b[39mw2v_manhattan\u001b[39m\u001b[39m'\u001b[39m] \u001b[39m=\u001b[39m features\u001b[39m.\u001b[39mprogress_apply(\u001b[39mlambda\u001b[39;00m qrel:\n\u001b[0;32m     <a href='file:///c%3A/Users/jonas/OneDrive%20-%20bwedu/Studium_Master/1_FSS_2022/Information%20Retrieval%20%5BIE%20663%5D/Projekt/Code/Retriever/src/features/generator.py?line=61'>62</a>\u001b[0m                                                       manhattan_distance_score(embeddings_queries[\n\u001b[0;32m     <a href='file:///c%3A/Users/jonas/OneDrive%20-%20bwedu/Studium_Master/1_FSS_2022/Information%20Retrieval%20%5BIE%20663%5D/Projekt/Code/Retriever/src/features/generator.py?line=62'>63</a>\u001b[0m                                                                                    queries[\n\u001b[1;32m   (...)\u001b[0m\n\u001b[0;32m     <a href='file:///c%3A/Users/jonas/OneDrive%20-%20bwedu/Studium_Master/1_FSS_2022/Information%20Retrieval%20%5BIE%20663%5D/Projekt/Code/Retriever/src/features/generator.py?line=68'>69</a>\u001b[0m                                                                                            \u001b[39m'\u001b[39m\u001b[39mpID\u001b[39m\u001b[39m'\u001b[39m] \u001b[39m==\u001b[39m qrel\u001b[39m.\u001b[39mpID]\u001b[39m.\u001b[39mindex]),\n\u001b[0;32m     <a href='file:///c%3A/Users/jonas/OneDrive%20-%20bwedu/Studium_Master/1_FSS_2022/Information%20Retrieval%20%5BIE%20663%5D/Projekt/Code/Retriever/src/features/generator.py?line=69'>70</a>\u001b[0m                                                       axis\u001b[39m=\u001b[39m\u001b[39m1\u001b[39m)\n",
      "File \u001b[1;32me:\\Programme\\Miniconda\\envs\\InRe\\lib\\site-packages\\pandas\\core\\ops\\common.py:70\u001b[0m, in \u001b[0;36m_unpack_zerodim_and_defer.<locals>.new_method\u001b[1;34m(self, other)\u001b[0m\n\u001b[0;32m     <a href='file:///e%3A/Programme/Miniconda/envs/InRe/lib/site-packages/pandas/core/ops/common.py?line=65'>66</a>\u001b[0m             \u001b[39mreturn\u001b[39;00m \u001b[39mNotImplemented\u001b[39m\n\u001b[0;32m     <a href='file:///e%3A/Programme/Miniconda/envs/InRe/lib/site-packages/pandas/core/ops/common.py?line=67'>68</a>\u001b[0m other \u001b[39m=\u001b[39m item_from_zerodim(other)\n\u001b[1;32m---> <a href='file:///e%3A/Programme/Miniconda/envs/InRe/lib/site-packages/pandas/core/ops/common.py?line=69'>70</a>\u001b[0m \u001b[39mreturn\u001b[39;00m method(\u001b[39mself\u001b[39;49m, other)\n",
      "File \u001b[1;32me:\\Programme\\Miniconda\\envs\\InRe\\lib\\site-packages\\pandas\\core\\arraylike.py:40\u001b[0m, in \u001b[0;36mOpsMixin.__eq__\u001b[1;34m(self, other)\u001b[0m\n\u001b[0;32m     <a href='file:///e%3A/Programme/Miniconda/envs/InRe/lib/site-packages/pandas/core/arraylike.py?line=37'>38</a>\u001b[0m \u001b[39m@unpack_zerodim_and_defer\u001b[39m(\u001b[39m\"\u001b[39m\u001b[39m__eq__\u001b[39m\u001b[39m\"\u001b[39m)\n\u001b[0;32m     <a href='file:///e%3A/Programme/Miniconda/envs/InRe/lib/site-packages/pandas/core/arraylike.py?line=38'>39</a>\u001b[0m \u001b[39mdef\u001b[39;00m \u001b[39m__eq__\u001b[39m(\u001b[39mself\u001b[39m, other):\n\u001b[1;32m---> <a href='file:///e%3A/Programme/Miniconda/envs/InRe/lib/site-packages/pandas/core/arraylike.py?line=39'>40</a>\u001b[0m     \u001b[39mreturn\u001b[39;00m \u001b[39mself\u001b[39;49m\u001b[39m.\u001b[39;49m_cmp_method(other, operator\u001b[39m.\u001b[39;49meq)\n",
      "File \u001b[1;32me:\\Programme\\Miniconda\\envs\\InRe\\lib\\site-packages\\pandas\\core\\series.py:5623\u001b[0m, in \u001b[0;36mSeries._cmp_method\u001b[1;34m(self, other, op)\u001b[0m\n\u001b[0;32m   <a href='file:///e%3A/Programme/Miniconda/envs/InRe/lib/site-packages/pandas/core/series.py?line=5619'>5620</a>\u001b[0m rvalues \u001b[39m=\u001b[39m extract_array(other, extract_numpy\u001b[39m=\u001b[39m\u001b[39mTrue\u001b[39;00m, extract_range\u001b[39m=\u001b[39m\u001b[39mTrue\u001b[39;00m)\n\u001b[0;32m   <a href='file:///e%3A/Programme/Miniconda/envs/InRe/lib/site-packages/pandas/core/series.py?line=5621'>5622</a>\u001b[0m \u001b[39mwith\u001b[39;00m np\u001b[39m.\u001b[39merrstate(\u001b[39mall\u001b[39m\u001b[39m=\u001b[39m\u001b[39m\"\u001b[39m\u001b[39mignore\u001b[39m\u001b[39m\"\u001b[39m):\n\u001b[1;32m-> <a href='file:///e%3A/Programme/Miniconda/envs/InRe/lib/site-packages/pandas/core/series.py?line=5622'>5623</a>\u001b[0m     res_values \u001b[39m=\u001b[39m ops\u001b[39m.\u001b[39;49mcomparison_op(lvalues, rvalues, op)\n\u001b[0;32m   <a href='file:///e%3A/Programme/Miniconda/envs/InRe/lib/site-packages/pandas/core/series.py?line=5624'>5625</a>\u001b[0m \u001b[39mreturn\u001b[39;00m \u001b[39mself\u001b[39m\u001b[39m.\u001b[39m_construct_result(res_values, name\u001b[39m=\u001b[39mres_name)\n",
      "File \u001b[1;32me:\\Programme\\Miniconda\\envs\\InRe\\lib\\site-packages\\pandas\\core\\ops\\array_ops.py:286\u001b[0m, in \u001b[0;36mcomparison_op\u001b[1;34m(left, right, op)\u001b[0m\n\u001b[0;32m    <a href='file:///e%3A/Programme/Miniconda/envs/InRe/lib/site-packages/pandas/core/ops/array_ops.py?line=282'>283</a>\u001b[0m     res_values \u001b[39m=\u001b[39m comp_method_OBJECT_ARRAY(op, lvalues, rvalues)\n\u001b[0;32m    <a href='file:///e%3A/Programme/Miniconda/envs/InRe/lib/site-packages/pandas/core/ops/array_ops.py?line=284'>285</a>\u001b[0m \u001b[39melse\u001b[39;00m:\n\u001b[1;32m--> <a href='file:///e%3A/Programme/Miniconda/envs/InRe/lib/site-packages/pandas/core/ops/array_ops.py?line=285'>286</a>\u001b[0m     res_values \u001b[39m=\u001b[39m _na_arithmetic_op(lvalues, rvalues, op, is_cmp\u001b[39m=\u001b[39;49m\u001b[39mTrue\u001b[39;49;00m)\n\u001b[0;32m    <a href='file:///e%3A/Programme/Miniconda/envs/InRe/lib/site-packages/pandas/core/ops/array_ops.py?line=287'>288</a>\u001b[0m \u001b[39mreturn\u001b[39;00m res_values\n",
      "File \u001b[1;32me:\\Programme\\Miniconda\\envs\\InRe\\lib\\site-packages\\pandas\\core\\ops\\array_ops.py:163\u001b[0m, in \u001b[0;36m_na_arithmetic_op\u001b[1;34m(left, right, op, is_cmp)\u001b[0m\n\u001b[0;32m    <a href='file:///e%3A/Programme/Miniconda/envs/InRe/lib/site-packages/pandas/core/ops/array_ops.py?line=159'>160</a>\u001b[0m     func \u001b[39m=\u001b[39m partial(expressions\u001b[39m.\u001b[39mevaluate, op)\n\u001b[0;32m    <a href='file:///e%3A/Programme/Miniconda/envs/InRe/lib/site-packages/pandas/core/ops/array_ops.py?line=161'>162</a>\u001b[0m \u001b[39mtry\u001b[39;00m:\n\u001b[1;32m--> <a href='file:///e%3A/Programme/Miniconda/envs/InRe/lib/site-packages/pandas/core/ops/array_ops.py?line=162'>163</a>\u001b[0m     result \u001b[39m=\u001b[39m func(left, right)\n\u001b[0;32m    <a href='file:///e%3A/Programme/Miniconda/envs/InRe/lib/site-packages/pandas/core/ops/array_ops.py?line=163'>164</a>\u001b[0m \u001b[39mexcept\u001b[39;00m \u001b[39mTypeError\u001b[39;00m:\n\u001b[0;32m    <a href='file:///e%3A/Programme/Miniconda/envs/InRe/lib/site-packages/pandas/core/ops/array_ops.py?line=164'>165</a>\u001b[0m     \u001b[39mif\u001b[39;00m \u001b[39mnot\u001b[39;00m is_cmp \u001b[39mand\u001b[39;00m (is_object_dtype(left\u001b[39m.\u001b[39mdtype) \u001b[39mor\u001b[39;00m is_object_dtype(right)):\n\u001b[0;32m    <a href='file:///e%3A/Programme/Miniconda/envs/InRe/lib/site-packages/pandas/core/ops/array_ops.py?line=165'>166</a>\u001b[0m         \u001b[39m# For object dtype, fallback to a masked operation (only operating\u001b[39;00m\n\u001b[0;32m    <a href='file:///e%3A/Programme/Miniconda/envs/InRe/lib/site-packages/pandas/core/ops/array_ops.py?line=166'>167</a>\u001b[0m         \u001b[39m#  on the non-missing values)\u001b[39;00m\n\u001b[0;32m    <a href='file:///e%3A/Programme/Miniconda/envs/InRe/lib/site-packages/pandas/core/ops/array_ops.py?line=167'>168</a>\u001b[0m         \u001b[39m# Don't do this for comparisons, as that will handle complex numbers\u001b[39;00m\n\u001b[0;32m    <a href='file:///e%3A/Programme/Miniconda/envs/InRe/lib/site-packages/pandas/core/ops/array_ops.py?line=168'>169</a>\u001b[0m         \u001b[39m#  incorrectly, see GH#32047\u001b[39;00m\n",
      "File \u001b[1;32me:\\Programme\\Miniconda\\envs\\InRe\\lib\\site-packages\\pandas\\core\\computation\\expressions.py:239\u001b[0m, in \u001b[0;36mevaluate\u001b[1;34m(op, a, b, use_numexpr)\u001b[0m\n\u001b[0;32m    <a href='file:///e%3A/Programme/Miniconda/envs/InRe/lib/site-packages/pandas/core/computation/expressions.py?line=235'>236</a>\u001b[0m \u001b[39mif\u001b[39;00m op_str \u001b[39mis\u001b[39;00m \u001b[39mnot\u001b[39;00m \u001b[39mNone\u001b[39;00m:\n\u001b[0;32m    <a href='file:///e%3A/Programme/Miniconda/envs/InRe/lib/site-packages/pandas/core/computation/expressions.py?line=236'>237</a>\u001b[0m     \u001b[39mif\u001b[39;00m use_numexpr:\n\u001b[0;32m    <a href='file:///e%3A/Programme/Miniconda/envs/InRe/lib/site-packages/pandas/core/computation/expressions.py?line=237'>238</a>\u001b[0m         \u001b[39m# error: \"None\" not callable\u001b[39;00m\n\u001b[1;32m--> <a href='file:///e%3A/Programme/Miniconda/envs/InRe/lib/site-packages/pandas/core/computation/expressions.py?line=238'>239</a>\u001b[0m         \u001b[39mreturn\u001b[39;00m _evaluate(op, op_str, a, b)  \u001b[39m# type: ignore[misc]\u001b[39;00m\n\u001b[0;32m    <a href='file:///e%3A/Programme/Miniconda/envs/InRe/lib/site-packages/pandas/core/computation/expressions.py?line=239'>240</a>\u001b[0m \u001b[39mreturn\u001b[39;00m _evaluate_standard(op, op_str, a, b)\n",
      "File \u001b[1;32me:\\Programme\\Miniconda\\envs\\InRe\\lib\\site-packages\\pandas\\core\\computation\\expressions.py:128\u001b[0m, in \u001b[0;36m_evaluate_numexpr\u001b[1;34m(op, op_str, a, b)\u001b[0m\n\u001b[0;32m    <a href='file:///e%3A/Programme/Miniconda/envs/InRe/lib/site-packages/pandas/core/computation/expressions.py?line=124'>125</a>\u001b[0m     _store_test_result(result \u001b[39mis\u001b[39;00m \u001b[39mnot\u001b[39;00m \u001b[39mNone\u001b[39;00m)\n\u001b[0;32m    <a href='file:///e%3A/Programme/Miniconda/envs/InRe/lib/site-packages/pandas/core/computation/expressions.py?line=126'>127</a>\u001b[0m \u001b[39mif\u001b[39;00m result \u001b[39mis\u001b[39;00m \u001b[39mNone\u001b[39;00m:\n\u001b[1;32m--> <a href='file:///e%3A/Programme/Miniconda/envs/InRe/lib/site-packages/pandas/core/computation/expressions.py?line=127'>128</a>\u001b[0m     result \u001b[39m=\u001b[39m _evaluate_standard(op, op_str, a, b)\n\u001b[0;32m    <a href='file:///e%3A/Programme/Miniconda/envs/InRe/lib/site-packages/pandas/core/computation/expressions.py?line=129'>130</a>\u001b[0m \u001b[39mreturn\u001b[39;00m result\n",
      "File \u001b[1;32me:\\Programme\\Miniconda\\envs\\InRe\\lib\\site-packages\\pandas\\core\\computation\\expressions.py:69\u001b[0m, in \u001b[0;36m_evaluate_standard\u001b[1;34m(op, op_str, a, b)\u001b[0m\n\u001b[0;32m     <a href='file:///e%3A/Programme/Miniconda/envs/InRe/lib/site-packages/pandas/core/computation/expressions.py?line=66'>67</a>\u001b[0m \u001b[39mif\u001b[39;00m _TEST_MODE:\n\u001b[0;32m     <a href='file:///e%3A/Programme/Miniconda/envs/InRe/lib/site-packages/pandas/core/computation/expressions.py?line=67'>68</a>\u001b[0m     _store_test_result(\u001b[39mFalse\u001b[39;00m)\n\u001b[1;32m---> <a href='file:///e%3A/Programme/Miniconda/envs/InRe/lib/site-packages/pandas/core/computation/expressions.py?line=68'>69</a>\u001b[0m \u001b[39mreturn\u001b[39;00m op(a, b)\n",
      "\u001b[1;31mKeyboardInterrupt\u001b[0m: "
     ]
    }
   ],
   "source": [
    "pipeline.create_w2v_feature()"
   ]
  },
  {
   "cell_type": "code",
   "execution_count": null,
   "metadata": {},
   "outputs": [],
   "source": [
    "embeddings = load('data/embeddings/tfidf_collection_embeddings.pkl')\n",
    "embeddings_queries = load('data/embeddings/tfidf_query_embeddings.pkl')\n",
    "\n",
    "embeddings_queries[pipeline.queries[pipeline.queries['qID'] == 914462].index]\n",
    "#embeddings[pipeline.collection[pipeline.collection['pID'] == 3852073].index]"
   ]
  },
  {
   "cell_type": "code",
   "execution_count": null,
   "metadata": {
    "scrolled": true
   },
   "outputs": [],
   "source": [
    "from src.features.generator import create_all\n",
    "create_all(features_test, pipeline.collection, pipeline.queries_test)"
   ]
  },
  {
   "cell_type": "code",
   "execution_count": null,
   "metadata": {},
   "outputs": [],
   "source": [
    "pipeline.queries"
   ]
  },
  {
   "cell_type": "code",
   "execution_count": 7,
   "metadata": {},
   "outputs": [
    {
     "data": {
      "text/html": [
       "<div>\n",
       "<style scoped>\n",
       "    .dataframe tbody tr th:only-of-type {\n",
       "        vertical-align: middle;\n",
       "    }\n",
       "\n",
       "    .dataframe tbody tr th {\n",
       "        vertical-align: top;\n",
       "    }\n",
       "\n",
       "    .dataframe thead th {\n",
       "        text-align: right;\n",
       "    }\n",
       "</style>\n",
       "<table border=\"1\" class=\"dataframe\">\n",
       "  <thead>\n",
       "    <tr style=\"text-align: right;\">\n",
       "      <th></th>\n",
       "      <th>pID</th>\n",
       "      <th>Passage</th>\n",
       "      <th>preprocessed</th>\n",
       "      <th>w2v</th>\n",
       "    </tr>\n",
       "  </thead>\n",
       "  <tbody>\n",
       "    <tr>\n",
       "      <th>0</th>\n",
       "      <td>945864</td>\n",
       "      <td>Notice how their voice goes up and down very d...</td>\n",
       "      <td>[notic, voic, goe, deliber, know, well, notic,...</td>\n",
       "      <td>[-10.653138, 13.532735, 7.286613, -11.573866, ...</td>\n",
       "    </tr>\n",
       "    <tr>\n",
       "      <th>1</th>\n",
       "      <td>2776470</td>\n",
       "      <td>Definition of inter-. 1  1 : between : among :...</td>\n",
       "      <td>[definit, inter, 1, 1, among, midst, intercrop...</td>\n",
       "      <td>[-2.2495942, 8.763295, 5.63466, 16.018324, -26...</td>\n",
       "    </tr>\n",
       "    <tr>\n",
       "      <th>2</th>\n",
       "      <td>1897608</td>\n",
       "      <td>Literary consonance. From Wikipedia, the free ...</td>\n",
       "      <td>[literari, conson, wikipedia, free, encycloped...</td>\n",
       "      <td>[-13.868881, 86.55683, 50.701267, 21.939404, -...</td>\n",
       "    </tr>\n",
       "    <tr>\n",
       "      <th>3</th>\n",
       "      <td>2707038</td>\n",
       "      <td>ABOUT MARINELLO. For more than 100 years, Mari...</td>\n",
       "      <td>[marinello, 100, year, marinello, educ, studen...</td>\n",
       "      <td>[-2.7350445, 15.263592, -7.922319, 7.6605225, ...</td>\n",
       "    </tr>\n",
       "    <tr>\n",
       "      <th>4</th>\n",
       "      <td>5712720</td>\n",
       "      <td>3. Ginger. Due to its anti-inflammatory proper...</td>\n",
       "      <td>[3, ginger, due, antiinflammatori, properti, g...</td>\n",
       "      <td>[-95.00605, 96.29297, 67.63398, 2.271606, -29....</td>\n",
       "    </tr>\n",
       "    <tr>\n",
       "      <th>...</th>\n",
       "      <td>...</td>\n",
       "      <td>...</td>\n",
       "      <td>...</td>\n",
       "      <td>...</td>\n",
       "    </tr>\n",
       "    <tr>\n",
       "      <th>999995</th>\n",
       "      <td>7604415</td>\n",
       "      <td>[8] The Regulations specifically define a 'sur...</td>\n",
       "      <td>[8, regul, specif, defin, surrog, speci, recip...</td>\n",
       "      <td>[-5.0366545, 13.667796, -4.856635, -8.303628, ...</td>\n",
       "    </tr>\n",
       "    <tr>\n",
       "      <th>999996</th>\n",
       "      <td>4995189</td>\n",
       "      <td>1 Animals and plants get rid of carbon dioxide...</td>\n",
       "      <td>[1, anim, plant, get, rid, carbon, dioxid, ga,...</td>\n",
       "      <td>[-112.50996, -5.302109, -48.799213, 44.034668,...</td>\n",
       "    </tr>\n",
       "    <tr>\n",
       "      <th>999997</th>\n",
       "      <td>6668055</td>\n",
       "      <td>Here;s how: 1. Reduces muscle tension[1]: A si...</td>\n",
       "      <td>[1, reduc, muscl, tension, 1, simpl, warm, bat...</td>\n",
       "      <td>[-82.84231, 66.0176, 31.196491, -32.56941, -19...</td>\n",
       "    </tr>\n",
       "    <tr>\n",
       "      <th>999998</th>\n",
       "      <td>142244</td>\n",
       "      <td>dignified (dÉªgnÉªfaÉªd ) adjective. If you sa...</td>\n",
       "      <td>[dignifi, déªgnéªfaéªd, adject, say, someon, s...</td>\n",
       "      <td>[12.142402, 18.530884, 7.612073, 0.72554255, 0...</td>\n",
       "    </tr>\n",
       "    <tr>\n",
       "      <th>999999</th>\n",
       "      <td>4725680</td>\n",
       "      <td>All of these methods are seasonal, and the cut...</td>\n",
       "      <td>[method, season, cutstumptriclopyr, option, na...</td>\n",
       "      <td>[-26.389841, 5.331715, 12.871924, 19.108934, -...</td>\n",
       "    </tr>\n",
       "  </tbody>\n",
       "</table>\n",
       "<p>1000000 rows × 4 columns</p>\n",
       "</div>"
      ],
      "text/plain": [
       "            pID                                            Passage  \\\n",
       "0        945864  Notice how their voice goes up and down very d...   \n",
       "1       2776470  Definition of inter-. 1  1 : between : among :...   \n",
       "2       1897608  Literary consonance. From Wikipedia, the free ...   \n",
       "3       2707038  ABOUT MARINELLO. For more than 100 years, Mari...   \n",
       "4       5712720  3. Ginger. Due to its anti-inflammatory proper...   \n",
       "...         ...                                                ...   \n",
       "999995  7604415  [8] The Regulations specifically define a 'sur...   \n",
       "999996  4995189  1 Animals and plants get rid of carbon dioxide...   \n",
       "999997  6668055  Here;s how: 1. Reduces muscle tension[1]: A si...   \n",
       "999998   142244  dignified (dÉªgnÉªfaÉªd ) adjective. If you sa...   \n",
       "999999  4725680  All of these methods are seasonal, and the cut...   \n",
       "\n",
       "                                             preprocessed  \\\n",
       "0       [notic, voic, goe, deliber, know, well, notic,...   \n",
       "1       [definit, inter, 1, 1, among, midst, intercrop...   \n",
       "2       [literari, conson, wikipedia, free, encycloped...   \n",
       "3       [marinello, 100, year, marinello, educ, studen...   \n",
       "4       [3, ginger, due, antiinflammatori, properti, g...   \n",
       "...                                                   ...   \n",
       "999995  [8, regul, specif, defin, surrog, speci, recip...   \n",
       "999996  [1, anim, plant, get, rid, carbon, dioxid, ga,...   \n",
       "999997  [1, reduc, muscl, tension, 1, simpl, warm, bat...   \n",
       "999998  [dignifi, déªgnéªfaéªd, adject, say, someon, s...   \n",
       "999999  [method, season, cutstumptriclopyr, option, na...   \n",
       "\n",
       "                                                      w2v  \n",
       "0       [-10.653138, 13.532735, 7.286613, -11.573866, ...  \n",
       "1       [-2.2495942, 8.763295, 5.63466, 16.018324, -26...  \n",
       "2       [-13.868881, 86.55683, 50.701267, 21.939404, -...  \n",
       "3       [-2.7350445, 15.263592, -7.922319, 7.6605225, ...  \n",
       "4       [-95.00605, 96.29297, 67.63398, 2.271606, -29....  \n",
       "...                                                   ...  \n",
       "999995  [-5.0366545, 13.667796, -4.856635, -8.303628, ...  \n",
       "999996  [-112.50996, -5.302109, -48.799213, 44.034668,...  \n",
       "999997  [-82.84231, 66.0176, 31.196491, -32.56941, -19...  \n",
       "999998  [12.142402, 18.530884, 7.612073, 0.72554255, 0...  \n",
       "999999  [-26.389841, 5.331715, 12.871924, 19.108934, -...  \n",
       "\n",
       "[1000000 rows x 4 columns]"
      ]
     },
     "execution_count": 7,
     "metadata": {},
     "output_type": "execute_result"
    }
   ],
   "source": [
    "pipeline.collection"
   ]
  },
  {
   "cell_type": "code",
   "execution_count": null,
   "metadata": {},
   "outputs": [],
   "source": [
    "pipeline.qrels"
   ]
  },
  {
   "cell_type": "code",
   "execution_count": null,
   "metadata": {},
   "outputs": [],
   "source": [
    "pipeline.preprocess()"
   ]
  },
  {
   "cell_type": "code",
   "execution_count": null,
   "metadata": {
    "scrolled": false
   },
   "outputs": [],
   "source": [
    "pipeline.create_BM25_features()"
   ]
  },
  {
   "cell_type": "code",
   "execution_count": null,
   "metadata": {},
   "outputs": [],
   "source": [
    "pipeline.collection"
   ]
  },
  {
   "cell_type": "code",
   "execution_count": null,
   "metadata": {},
   "outputs": [],
   "source": [
    "pipeline.create_w2v_embeddings()"
   ]
  },
  {
   "cell_type": "code",
   "execution_count": null,
   "metadata": {},
   "outputs": [],
   "source": [
    "pipeline.create_tfidf_embeddings()"
   ]
  },
  {
   "cell_type": "code",
   "execution_count": null,
   "metadata": {},
   "outputs": [],
   "source": [
    "pipeline.create_tfidf_feature()"
   ]
  },
  {
   "cell_type": "code",
   "execution_count": null,
   "metadata": {},
   "outputs": [],
   "source": [
    "pipeline.create_jaccard_feature()"
   ]
  },
  {
   "cell_type": "code",
   "execution_count": null,
   "metadata": {},
   "outputs": [],
   "source": [
    "pipeline.create_sentence_features()"
   ]
  },
  {
   "cell_type": "code",
   "execution_count": null,
   "metadata": {},
   "outputs": [],
   "source": [
    "pipeline.create_interpretation_features()"
   ]
  },
  {
   "cell_type": "code",
   "execution_count": null,
   "metadata": {},
   "outputs": [],
   "source": [
    "pipeline.create_POS_features()"
   ]
  },
  {
   "cell_type": "code",
   "execution_count": null,
   "metadata": {},
   "outputs": [],
   "source": [
    "pipeline.queries_test"
   ]
  },
  {
   "cell_type": "code",
   "execution_count": 8,
   "metadata": {},
   "outputs": [
    {
     "data": {
      "text/html": [
       "<div>\n",
       "<style scoped>\n",
       "    .dataframe tbody tr th:only-of-type {\n",
       "        vertical-align: middle;\n",
       "    }\n",
       "\n",
       "    .dataframe tbody tr th {\n",
       "        vertical-align: top;\n",
       "    }\n",
       "\n",
       "    .dataframe thead th {\n",
       "        text-align: right;\n",
       "    }\n",
       "</style>\n",
       "<table border=\"1\" class=\"dataframe\">\n",
       "  <thead>\n",
       "    <tr style=\"text-align: right;\">\n",
       "      <th></th>\n",
       "      <th>qID</th>\n",
       "      <th>pID</th>\n",
       "      <th>y</th>\n",
       "    </tr>\n",
       "  </thead>\n",
       "  <tbody>\n",
       "    <tr>\n",
       "      <th>0</th>\n",
       "      <td>1003840</td>\n",
       "      <td>4063719</td>\n",
       "      <td>1</td>\n",
       "    </tr>\n",
       "    <tr>\n",
       "      <th>114</th>\n",
       "      <td>100386</td>\n",
       "      <td>6182295</td>\n",
       "      <td>1</td>\n",
       "    </tr>\n",
       "    <tr>\n",
       "      <th>223</th>\n",
       "      <td>1024573</td>\n",
       "      <td>4338653</td>\n",
       "      <td>1</td>\n",
       "    </tr>\n",
       "    <tr>\n",
       "      <th>344</th>\n",
       "      <td>1031605</td>\n",
       "      <td>4415474</td>\n",
       "      <td>1</td>\n",
       "    </tr>\n",
       "    <tr>\n",
       "      <th>454</th>\n",
       "      <td>1040949</td>\n",
       "      <td>4955943</td>\n",
       "      <td>1</td>\n",
       "    </tr>\n",
       "    <tr>\n",
       "      <th>...</th>\n",
       "      <td>...</td>\n",
       "      <td>...</td>\n",
       "      <td>...</td>\n",
       "    </tr>\n",
       "    <tr>\n",
       "      <th>5106811</th>\n",
       "      <td>997626</td>\n",
       "      <td>6217581</td>\n",
       "      <td>0</td>\n",
       "    </tr>\n",
       "    <tr>\n",
       "      <th>5106812</th>\n",
       "      <td>997626</td>\n",
       "      <td>2725359</td>\n",
       "      <td>0</td>\n",
       "    </tr>\n",
       "    <tr>\n",
       "      <th>5106813</th>\n",
       "      <td>997626</td>\n",
       "      <td>6142664</td>\n",
       "      <td>0</td>\n",
       "    </tr>\n",
       "    <tr>\n",
       "      <th>5106814</th>\n",
       "      <td>997626</td>\n",
       "      <td>4900395</td>\n",
       "      <td>0</td>\n",
       "    </tr>\n",
       "    <tr>\n",
       "      <th>5106815</th>\n",
       "      <td>997626</td>\n",
       "      <td>7992391</td>\n",
       "      <td>0</td>\n",
       "    </tr>\n",
       "  </tbody>\n",
       "</table>\n",
       "<p>5128266 rows × 3 columns</p>\n",
       "</div>"
      ],
      "text/plain": [
       "             qID      pID  y\n",
       "0        1003840  4063719  1\n",
       "114       100386  6182295  1\n",
       "223      1024573  4338653  1\n",
       "344      1031605  4415474  1\n",
       "454      1040949  4955943  1\n",
       "...          ...      ... ..\n",
       "5106811   997626  6217581  0\n",
       "5106812   997626  2725359  0\n",
       "5106813   997626  6142664  0\n",
       "5106814   997626  4900395  0\n",
       "5106815   997626  7992391  0\n",
       "\n",
       "[5128266 rows x 3 columns]"
      ]
     },
     "execution_count": 8,
     "metadata": {},
     "output_type": "execute_result"
    }
   ],
   "source": [
    "pipeline.features"
   ]
  },
  {
   "cell_type": "code",
   "execution_count": null,
   "metadata": {},
   "outputs": [],
   "source": [
    "min(pipeline.features['w2v_cosine'])"
   ]
  },
  {
   "cell_type": "code",
   "execution_count": null,
   "metadata": {},
   "outputs": [],
   "source": [
    "import pandas as pd\n",
    "import numpy as np\n",
    "\n",
    "pipeline.collection.preprocessed.apply(lambda passage: np.isin('wikipedia', passage)).value_counts()[1]"
   ]
  },
  {
   "cell_type": "code",
   "execution_count": null,
   "metadata": {},
   "outputs": [],
   "source": [
    "pipeline.collection.preprocessed.size"
   ]
  },
  {
   "cell_type": "code",
   "execution_count": null,
   "metadata": {},
   "outputs": [],
   "source": [
    "len(pipeline.collection.preprocessed[2])"
   ]
  },
  {
   "cell_type": "code",
   "execution_count": null,
   "metadata": {},
   "outputs": [],
   "source": [
    "pipeline.collection.preprocessed.progress_apply(lambda passage: passage.size).mean()"
   ]
  },
  {
   "cell_type": "code",
   "execution_count": null,
   "metadata": {
    "scrolled": true
   },
   "outputs": [],
   "source": [
    "from src.features.generator import create_tfidf_embeddings, create_all\n",
    "from src.utils.utils import load \n",
    "\n",
    "create_all(features_test, pipeline.collection, pipeline.queries_test, load('models/tfidf.pkl'))"
   ]
  },
  {
   "cell_type": "code",
   "execution_count": null,
   "metadata": {},
   "outputs": [],
   "source": [
    "create_all(features_test, pipeline.collection, pipeline.queries_test)"
   ]
  },
  {
   "cell_type": "code",
   "execution_count": null,
   "metadata": {},
   "outputs": [],
   "source": [
    "pipeline.queries_test"
   ]
  },
  {
   "cell_type": "code",
   "execution_count": null,
   "metadata": {},
   "outputs": [],
   "source": [
    "import pandas as pd\n",
    "features_test = pd.DataFrame()\n",
    "for index, query in pipeline.queries_test.iterrows():\n",
    "    features_test = pd.concat([features_test, pd.DataFrame({\n",
    "        'qID': [query['qID']] * len(pipeline.collection),\n",
    "        'pID': pipeline.collection['pID']\n",
    "    })])"
   ]
  },
  {
   "cell_type": "code",
   "execution_count": null,
   "metadata": {},
   "outputs": [],
   "source": []
  }
 ],
 "metadata": {
  "kernelspec": {
   "display_name": "InRe",
   "language": "python",
   "name": "inre"
  },
  "language_info": {
   "codemirror_mode": {
    "name": "ipython",
    "version": 3
   },
   "file_extension": ".py",
   "mimetype": "text/x-python",
   "name": "python",
   "nbconvert_exporter": "python",
   "pygments_lexer": "ipython3",
   "version": "3.10.0"
  }
 },
 "nbformat": 4,
 "nbformat_minor": 1
}
