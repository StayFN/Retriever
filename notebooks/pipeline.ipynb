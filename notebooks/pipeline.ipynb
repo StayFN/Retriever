{
 "cells": [
  {
   "cell_type": "code",
   "execution_count": 58,
   "metadata": {},
   "outputs": [],
   "source": [
    "import os\n",
    "import sys\n",
    "sys.path.append(os.path.dirname((os.path.abspath(''))))\n",
    "\n",
    "from src.pipeline import Pipeline\n",
    "from src.data.preprocessing import removal, tokenization, stemming"
   ]
  },
  {
   "cell_type": "code",
   "execution_count": 59,
   "metadata": {},
   "outputs": [],
   "source": [
    "pipeline = Pipeline()"
   ]
  },
  {
   "cell_type": "code",
   "execution_count": 60,
   "metadata": {},
   "outputs": [
    {
     "data": {
      "text/plain": [
       "<src.pipeline.Pipeline at 0x1d8ce02b4f0>"
      ]
     },
     "execution_count": 60,
     "metadata": {},
     "output_type": "execute_result"
    }
   ],
   "source": [
    "pipeline.setup()"
   ]
  },
  {
   "cell_type": "code",
   "execution_count": 23,
   "metadata": {},
   "outputs": [
    {
     "data": {
      "text/plain": [
       "<1x63171 sparse matrix of type '<class 'numpy.float64'>'\n",
       "\twith 3 stored elements in Compressed Sparse Row format>"
      ]
     },
     "execution_count": 23,
     "metadata": {},
     "output_type": "execute_result"
    }
   ],
   "source": [
    "embeddings = load('data/embeddings/tfidf_collection_embeddings.pkl')\n",
    "embeddings_queries = load('data/embeddings/tfidf_query_embeddings.pkl')\n",
    "\n",
    "embeddings_queries[pipeline.queries[pipeline.queries['qID'] == 914462].index]\n",
    "#embeddings[pipeline.collection[pipeline.collection['pID'] == 3852073].index]"
   ]
  },
  {
   "cell_type": "code",
   "execution_count": null,
   "metadata": {
    "scrolled": true
   },
   "outputs": [
    {
     "name": "stderr",
     "output_type": "stream",
     "text": [
      "/Users/tim/opt/anaconda3/envs/inforetrieval/lib/python3.9/site-packages/sklearn/feature_extraction/text.py:516: UserWarning: The parameter 'token_pattern' will not be used since 'tokenizer' is not None'\n",
      "  warnings.warn(\n",
      "100%|█████████████████████████████████████████████████████████████████████████████████████████████████████████████████████████████████| 5000/5000 [00:04<00:00, 1023.86it/s]\n",
      "100%|███████████████████████████████████████████████████████████████████████████████████████████████████████████████████████████████████| 200/200 [00:00<00:00, 8556.57it/s]\n",
      " 46%|█████████████████████████████████████████████████████████▌                                                                   | 460240/1000000 [13:54<17:39, 509.56it/s]"
     ]
    }
   ],
   "source": [
    "from src.features.generator import create_all\n",
    "create_all(features_test, pipeline.collection, pipeline.queries_test)"
   ]
  },
  {
   "cell_type": "code",
   "execution_count": 8,
   "metadata": {},
   "outputs": [
    {
     "data": {
      "text/html": [
       "<div>\n",
       "<style scoped>\n",
       "    .dataframe tbody tr th:only-of-type {\n",
       "        vertical-align: middle;\n",
       "    }\n",
       "\n",
       "    .dataframe tbody tr th {\n",
       "        vertical-align: top;\n",
       "    }\n",
       "\n",
       "    .dataframe thead th {\n",
       "        text-align: right;\n",
       "    }\n",
       "</style>\n",
       "<table border=\"1\" class=\"dataframe\">\n",
       "  <thead>\n",
       "    <tr style=\"text-align: right;\">\n",
       "      <th></th>\n",
       "      <th>qID</th>\n",
       "      <th>Query</th>\n",
       "      <th>preprocessed</th>\n",
       "    </tr>\n",
       "  </thead>\n",
       "  <tbody>\n",
       "    <tr>\n",
       "      <th>0</th>\n",
       "      <td>1108939</td>\n",
       "      <td>what slows down the flow of blood</td>\n",
       "      <td>[slow, flow, blood]</td>\n",
       "    </tr>\n",
       "    <tr>\n",
       "      <th>1</th>\n",
       "      <td>1112389</td>\n",
       "      <td>what is the county for grand rapids, mn</td>\n",
       "      <td>[counti, grand, rapid, mn]</td>\n",
       "    </tr>\n",
       "    <tr>\n",
       "      <th>2</th>\n",
       "      <td>792752</td>\n",
       "      <td>what is ruclip</td>\n",
       "      <td>[ruclip]</td>\n",
       "    </tr>\n",
       "    <tr>\n",
       "      <th>3</th>\n",
       "      <td>1119729</td>\n",
       "      <td>what do you do when you have a nosebleed from ...</td>\n",
       "      <td>[noseble, nose]</td>\n",
       "    </tr>\n",
       "    <tr>\n",
       "      <th>4</th>\n",
       "      <td>1105095</td>\n",
       "      <td>where is sugar lake lodge located</td>\n",
       "      <td>[sugar, lake, lodg, locat]</td>\n",
       "    </tr>\n",
       "    <tr>\n",
       "      <th>...</th>\n",
       "      <td>...</td>\n",
       "      <td>...</td>\n",
       "      <td>...</td>\n",
       "    </tr>\n",
       "    <tr>\n",
       "      <th>195</th>\n",
       "      <td>146187</td>\n",
       "      <td>difference between a mcdouble and a double che...</td>\n",
       "      <td>[differ, mcdoubl, doubl, cheeseburg]</td>\n",
       "    </tr>\n",
       "    <tr>\n",
       "      <th>196</th>\n",
       "      <td>634428</td>\n",
       "      <td>what does chs stand for?</td>\n",
       "      <td>[ch, stand]</td>\n",
       "    </tr>\n",
       "    <tr>\n",
       "      <th>197</th>\n",
       "      <td>1121986</td>\n",
       "      <td>what are the effects of having low blood sugar</td>\n",
       "      <td>[effect, low, blood, sugar]</td>\n",
       "    </tr>\n",
       "    <tr>\n",
       "      <th>198</th>\n",
       "      <td>321441</td>\n",
       "      <td>how much is a us postal stamp cost</td>\n",
       "      <td>[much, us, postal, stamp, cost]</td>\n",
       "    </tr>\n",
       "    <tr>\n",
       "      <th>199</th>\n",
       "      <td>532603</td>\n",
       "      <td>university of dubuque enrollment</td>\n",
       "      <td>[univers, dubuqu, enrol]</td>\n",
       "    </tr>\n",
       "  </tbody>\n",
       "</table>\n",
       "<p>200 rows × 3 columns</p>\n",
       "</div>"
      ],
      "text/plain": [
       "         qID                                              Query  \\\n",
       "0    1108939                  what slows down the flow of blood   \n",
       "1    1112389            what is the county for grand rapids, mn   \n",
       "2     792752                                     what is ruclip   \n",
       "3    1119729  what do you do when you have a nosebleed from ...   \n",
       "4    1105095                  where is sugar lake lodge located   \n",
       "..       ...                                                ...   \n",
       "195   146187  difference between a mcdouble and a double che...   \n",
       "196   634428                           what does chs stand for?   \n",
       "197  1121986     what are the effects of having low blood sugar   \n",
       "198   321441                 how much is a us postal stamp cost   \n",
       "199   532603                   university of dubuque enrollment   \n",
       "\n",
       "                             preprocessed  \n",
       "0                     [slow, flow, blood]  \n",
       "1              [counti, grand, rapid, mn]  \n",
       "2                                [ruclip]  \n",
       "3                         [noseble, nose]  \n",
       "4              [sugar, lake, lodg, locat]  \n",
       "..                                    ...  \n",
       "195  [differ, mcdoubl, doubl, cheeseburg]  \n",
       "196                           [ch, stand]  \n",
       "197           [effect, low, blood, sugar]  \n",
       "198       [much, us, postal, stamp, cost]  \n",
       "199              [univers, dubuqu, enrol]  \n",
       "\n",
       "[200 rows x 3 columns]"
      ]
     },
     "execution_count": 8,
     "metadata": {},
     "output_type": "execute_result"
    }
   ],
   "source": [
    "pipeline.queries_test"
   ]
  },
  {
   "cell_type": "code",
   "execution_count": 4,
   "metadata": {},
   "outputs": [
    {
     "data": {
      "text/html": [
       "<div>\n",
       "<style scoped>\n",
       "    .dataframe tbody tr th:only-of-type {\n",
       "        vertical-align: middle;\n",
       "    }\n",
       "\n",
       "    .dataframe tbody tr th {\n",
       "        vertical-align: top;\n",
       "    }\n",
       "\n",
       "    .dataframe thead th {\n",
       "        text-align: right;\n",
       "    }\n",
       "</style>\n",
       "<table border=\"1\" class=\"dataframe\">\n",
       "  <thead>\n",
       "    <tr style=\"text-align: right;\">\n",
       "      <th></th>\n",
       "      <th>qID</th>\n",
       "      <th>pID</th>\n",
       "      <th>y</th>\n",
       "    </tr>\n",
       "  </thead>\n",
       "  <tbody>\n",
       "    <tr>\n",
       "      <th>0</th>\n",
       "      <td>111791</td>\n",
       "      <td>5158606</td>\n",
       "      <td>1</td>\n",
       "    </tr>\n",
       "    <tr>\n",
       "      <th>4</th>\n",
       "      <td>914462</td>\n",
       "      <td>3852073</td>\n",
       "      <td>1</td>\n",
       "    </tr>\n",
       "    <tr>\n",
       "      <th>5</th>\n",
       "      <td>201329</td>\n",
       "      <td>3704115</td>\n",
       "      <td>1</td>\n",
       "    </tr>\n",
       "    <tr>\n",
       "      <th>6</th>\n",
       "      <td>212165</td>\n",
       "      <td>5773592</td>\n",
       "      <td>1</td>\n",
       "    </tr>\n",
       "    <tr>\n",
       "      <th>14</th>\n",
       "      <td>32031</td>\n",
       "      <td>6243218</td>\n",
       "      <td>1</td>\n",
       "    </tr>\n",
       "    <tr>\n",
       "      <th>...</th>\n",
       "      <td>...</td>\n",
       "      <td>...</td>\n",
       "      <td>...</td>\n",
       "    </tr>\n",
       "    <tr>\n",
       "      <th>3190</th>\n",
       "      <td>844263</td>\n",
       "      <td>2591163</td>\n",
       "      <td>0</td>\n",
       "    </tr>\n",
       "    <tr>\n",
       "      <th>3191</th>\n",
       "      <td>844263</td>\n",
       "      <td>4064917</td>\n",
       "      <td>0</td>\n",
       "    </tr>\n",
       "    <tr>\n",
       "      <th>3192</th>\n",
       "      <td>844263</td>\n",
       "      <td>2111580</td>\n",
       "      <td>0</td>\n",
       "    </tr>\n",
       "    <tr>\n",
       "      <th>3193</th>\n",
       "      <td>844263</td>\n",
       "      <td>6292238</td>\n",
       "      <td>0</td>\n",
       "    </tr>\n",
       "    <tr>\n",
       "      <th>3194</th>\n",
       "      <td>844263</td>\n",
       "      <td>5556725</td>\n",
       "      <td>0</td>\n",
       "    </tr>\n",
       "  </tbody>\n",
       "</table>\n",
       "<p>4244 rows × 3 columns</p>\n",
       "</div>"
      ],
      "text/plain": [
       "         qID      pID  y\n",
       "0     111791  5158606  1\n",
       "4     914462  3852073  1\n",
       "5     201329  3704115  1\n",
       "6     212165  5773592  1\n",
       "14     32031  6243218  1\n",
       "...      ...      ... ..\n",
       "3190  844263  2591163  0\n",
       "3191  844263  4064917  0\n",
       "3192  844263  2111580  0\n",
       "3193  844263  6292238  0\n",
       "3194  844263  5556725  0\n",
       "\n",
       "[4244 rows x 3 columns]"
      ]
     },
     "execution_count": 4,
     "metadata": {},
     "output_type": "execute_result"
    }
   ],
   "source": [
    "pipeline.features"
   ]
  },
  {
   "cell_type": "code",
   "execution_count": 5,
   "metadata": {},
   "outputs": [
    {
     "data": {
      "text/html": [
       "<div>\n",
       "<style scoped>\n",
       "    .dataframe tbody tr th:only-of-type {\n",
       "        vertical-align: middle;\n",
       "    }\n",
       "\n",
       "    .dataframe tbody tr th {\n",
       "        vertical-align: top;\n",
       "    }\n",
       "\n",
       "    .dataframe thead th {\n",
       "        text-align: right;\n",
       "    }\n",
       "</style>\n",
       "<table border=\"1\" class=\"dataframe\">\n",
       "  <thead>\n",
       "    <tr style=\"text-align: right;\">\n",
       "      <th></th>\n",
       "      <th>qID</th>\n",
       "      <th>pID</th>\n",
       "      <th>feedback</th>\n",
       "    </tr>\n",
       "  </thead>\n",
       "  <tbody>\n",
       "    <tr>\n",
       "      <th>0</th>\n",
       "      <td>19335</td>\n",
       "      <td>1017759</td>\n",
       "      <td>0</td>\n",
       "    </tr>\n",
       "    <tr>\n",
       "      <th>1</th>\n",
       "      <td>19335</td>\n",
       "      <td>1082489</td>\n",
       "      <td>0</td>\n",
       "    </tr>\n",
       "    <tr>\n",
       "      <th>2</th>\n",
       "      <td>19335</td>\n",
       "      <td>109063</td>\n",
       "      <td>0</td>\n",
       "    </tr>\n",
       "    <tr>\n",
       "      <th>3</th>\n",
       "      <td>19335</td>\n",
       "      <td>1160863</td>\n",
       "      <td>0</td>\n",
       "    </tr>\n",
       "    <tr>\n",
       "      <th>4</th>\n",
       "      <td>19335</td>\n",
       "      <td>1160871</td>\n",
       "      <td>0</td>\n",
       "    </tr>\n",
       "    <tr>\n",
       "      <th>...</th>\n",
       "      <td>...</td>\n",
       "      <td>...</td>\n",
       "      <td>...</td>\n",
       "    </tr>\n",
       "    <tr>\n",
       "      <th>9255</th>\n",
       "      <td>1133167</td>\n",
       "      <td>8839920</td>\n",
       "      <td>2</td>\n",
       "    </tr>\n",
       "    <tr>\n",
       "      <th>9256</th>\n",
       "      <td>1133167</td>\n",
       "      <td>8839922</td>\n",
       "      <td>2</td>\n",
       "    </tr>\n",
       "    <tr>\n",
       "      <th>9257</th>\n",
       "      <td>1133167</td>\n",
       "      <td>944810</td>\n",
       "      <td>0</td>\n",
       "    </tr>\n",
       "    <tr>\n",
       "      <th>9258</th>\n",
       "      <td>1133167</td>\n",
       "      <td>949411</td>\n",
       "      <td>0</td>\n",
       "    </tr>\n",
       "    <tr>\n",
       "      <th>9259</th>\n",
       "      <td>1133167</td>\n",
       "      <td>977421</td>\n",
       "      <td>0</td>\n",
       "    </tr>\n",
       "  </tbody>\n",
       "</table>\n",
       "<p>9260 rows × 3 columns</p>\n",
       "</div>"
      ],
      "text/plain": [
       "          qID      pID  feedback\n",
       "0       19335  1017759         0\n",
       "1       19335  1082489         0\n",
       "2       19335   109063         0\n",
       "3       19335  1160863         0\n",
       "4       19335  1160871         0\n",
       "...       ...      ...       ...\n",
       "9255  1133167  8839920         2\n",
       "9256  1133167  8839922         2\n",
       "9257  1133167   944810         0\n",
       "9258  1133167   949411         0\n",
       "9259  1133167   977421         0\n",
       "\n",
       "[9260 rows x 3 columns]"
      ]
     },
     "execution_count": 5,
     "metadata": {},
     "output_type": "execute_result"
    }
   ],
   "source": [
    "pipeline.qrels"
   ]
  },
  {
   "cell_type": "code",
   "execution_count": 62,
   "metadata": {},
   "outputs": [
    {
     "name": "stderr",
     "output_type": "stream",
     "text": [
      "100%|██████████| 5000/5000 [00:27<00:00, 183.03it/s]\n",
      "100%|██████████| 105/105 [00:00<00:00, 412.67it/s]\n",
      "100%|██████████| 200/200 [00:00<00:00, 450.25it/s]\n"
     ]
    },
    {
     "data": {
      "text/plain": [
       "<src.pipeline.Pipeline at 0x1d8ce02b4f0>"
      ]
     },
     "execution_count": 62,
     "metadata": {},
     "output_type": "execute_result"
    }
   ],
   "source": [
    "pipeline.preprocess()"
   ]
  },
  {
   "cell_type": "code",
   "execution_count": 6,
   "metadata": {
    "scrolled": false
   },
   "outputs": [
    {
     "name": "stderr",
     "output_type": "stream",
     "text": [
      "100%|██████████████████████████████████████████████████████████████████████████████████████████████████████████████████████████████| 25000/25000 [00:01<00:00, 24654.24it/s]\n",
      "100%|█████████████████████████████████████████████████████████████████████████████████████████████████████████████████████████████████| 4244/4244 [00:04<00:00, 1057.65it/s]\n"
     ]
    },
    {
     "data": {
      "text/plain": [
       "<src.pipeline.Pipeline at 0x7fe5b5ebd7c0>"
      ]
     },
     "execution_count": 6,
     "metadata": {},
     "output_type": "execute_result"
    }
   ],
   "source": [
    "pipeline.create_BM25_features()"
   ]
  },
  {
   "cell_type": "code",
   "execution_count": 61,
   "metadata": {},
   "outputs": [
    {
     "data": {
      "text/html": [
       "<div>\n",
       "<style scoped>\n",
       "    .dataframe tbody tr th:only-of-type {\n",
       "        vertical-align: middle;\n",
       "    }\n",
       "\n",
       "    .dataframe tbody tr th {\n",
       "        vertical-align: top;\n",
       "    }\n",
       "\n",
       "    .dataframe thead th {\n",
       "        text-align: right;\n",
       "    }\n",
       "</style>\n",
       "<table border=\"1\" class=\"dataframe\">\n",
       "  <thead>\n",
       "    <tr style=\"text-align: right;\">\n",
       "      <th></th>\n",
       "      <th>pID</th>\n",
       "      <th>Passage</th>\n",
       "    </tr>\n",
       "  </thead>\n",
       "  <tbody>\n",
       "    <tr>\n",
       "      <th>0</th>\n",
       "      <td>945864</td>\n",
       "      <td>Notice how their voice goes up and down very d...</td>\n",
       "    </tr>\n",
       "    <tr>\n",
       "      <th>1</th>\n",
       "      <td>2776470</td>\n",
       "      <td>Definition of inter-. 1  1 : between : among :...</td>\n",
       "    </tr>\n",
       "    <tr>\n",
       "      <th>2</th>\n",
       "      <td>1897608</td>\n",
       "      <td>Literary consonance. From Wikipedia, the free ...</td>\n",
       "    </tr>\n",
       "    <tr>\n",
       "      <th>3</th>\n",
       "      <td>2707038</td>\n",
       "      <td>ABOUT MARINELLO. For more than 100 years, Mari...</td>\n",
       "    </tr>\n",
       "    <tr>\n",
       "      <th>4</th>\n",
       "      <td>5712720</td>\n",
       "      <td>3. Ginger. Due to its anti-inflammatory proper...</td>\n",
       "    </tr>\n",
       "    <tr>\n",
       "      <th>...</th>\n",
       "      <td>...</td>\n",
       "      <td>...</td>\n",
       "    </tr>\n",
       "    <tr>\n",
       "      <th>4995</th>\n",
       "      <td>7135133</td>\n",
       "      <td>1.to strike forcibly with an ax, sword, or oth...</td>\n",
       "    </tr>\n",
       "    <tr>\n",
       "      <th>4996</th>\n",
       "      <td>6245447</td>\n",
       "      <td>The only way to know for sure is to ask for a ...</td>\n",
       "    </tr>\n",
       "    <tr>\n",
       "      <th>4997</th>\n",
       "      <td>4704612</td>\n",
       "      <td>2 âshe came from a humble, unprivileged back...</td>\n",
       "    </tr>\n",
       "    <tr>\n",
       "      <th>4998</th>\n",
       "      <td>7434948</td>\n",
       "      <td>Pine Grove Furnace State Park marks the halfwa...</td>\n",
       "    </tr>\n",
       "    <tr>\n",
       "      <th>4999</th>\n",
       "      <td>2241958</td>\n",
       "      <td>For an explanation of your rights as a Federal...</td>\n",
       "    </tr>\n",
       "  </tbody>\n",
       "</table>\n",
       "<p>5000 rows × 2 columns</p>\n",
       "</div>"
      ],
      "text/plain": [
       "          pID                                            Passage\n",
       "0      945864  Notice how their voice goes up and down very d...\n",
       "1     2776470  Definition of inter-. 1  1 : between : among :...\n",
       "2     1897608  Literary consonance. From Wikipedia, the free ...\n",
       "3     2707038  ABOUT MARINELLO. For more than 100 years, Mari...\n",
       "4     5712720  3. Ginger. Due to its anti-inflammatory proper...\n",
       "...       ...                                                ...\n",
       "4995  7135133  1.to strike forcibly with an ax, sword, or oth...\n",
       "4996  6245447  The only way to know for sure is to ask for a ...\n",
       "4997  4704612  2 âshe came from a humble, unprivileged back...\n",
       "4998  7434948  Pine Grove Furnace State Park marks the halfwa...\n",
       "4999  2241958  For an explanation of your rights as a Federal...\n",
       "\n",
       "[5000 rows x 2 columns]"
      ]
     },
     "execution_count": 61,
     "metadata": {},
     "output_type": "execute_result"
    }
   ],
   "source": [
    "pipeline.collection"
   ]
  },
  {
   "cell_type": "code",
   "execution_count": 63,
   "metadata": {},
   "outputs": [
    {
     "ename": "AttributeError",
     "evalue": "'Pipeline' object has no attribute 'create_w2v_embeddings'",
     "output_type": "error",
     "traceback": [
      "\u001b[1;31m---------------------------------------------------------------------------\u001b[0m",
      "\u001b[1;31mAttributeError\u001b[0m                            Traceback (most recent call last)",
      "\u001b[1;32m~\\AppData\\Local\\Temp\\ipykernel_39388\\1205705189.py\u001b[0m in \u001b[0;36m<cell line: 1>\u001b[1;34m()\u001b[0m\n\u001b[1;32m----> 1\u001b[1;33m \u001b[0mpipeline\u001b[0m\u001b[1;33m.\u001b[0m\u001b[0mcreate_w2v_embeddings\u001b[0m\u001b[1;33m(\u001b[0m\u001b[1;33m)\u001b[0m\u001b[1;33m\u001b[0m\u001b[1;33m\u001b[0m\u001b[0m\n\u001b[0m",
      "\u001b[1;31mAttributeError\u001b[0m: 'Pipeline' object has no attribute 'create_w2v_embeddings'"
     ]
    }
   ],
   "source": [
    "pipeline.create_w2v_embeddings()"
   ]
  },
  {
   "cell_type": "code",
   "execution_count": 16,
   "metadata": {},
   "outputs": [
    {
     "name": "stderr",
     "output_type": "stream",
     "text": [
      "E:\\Programme\\Miniconda\\envs\\InRe\\lib\\site-packages\\sklearn\\feature_extraction\\text.py:516: UserWarning: The parameter 'token_pattern' will not be used since 'tokenizer' is not None'\n",
      "  warnings.warn(\n",
      "100%|██████████| 5000/5000 [00:04<00:00, 1203.60it/s]\n",
      "100%|██████████| 105/105 [00:00<00:00, 7031.92it/s]\n",
      "100%|██████████| 200/200 [00:00<00:00, 6915.25it/s]\n"
     ]
    },
    {
     "data": {
      "text/plain": [
       "<src.pipeline.Pipeline at 0x1d8ce028f70>"
      ]
     },
     "execution_count": 16,
     "metadata": {},
     "output_type": "execute_result"
    }
   ],
   "source": [
    "pipeline.create_tfidf_embeddings()"
   ]
  },
  {
   "cell_type": "code",
   "execution_count": 9,
   "metadata": {},
   "outputs": [
    {
     "name": "stderr",
     "output_type": "stream",
     "text": [
      "100%|██████████████████████████████████████████████████████████████████████████████████████████████████████████████████████████████████| 6390/6390 [00:12<00:00, 503.58it/s]\n",
      "100%|██████████████████████████████████████████████████████████████████████████████████████████████████████████████████████████████████| 6390/6390 [00:11<00:00, 575.17it/s]\n",
      "100%|██████████████████████████████████████████████████████████████████████████████████████████████████████████████████████████████████| 6390/6390 [00:11<00:00, 552.89it/s]\n"
     ]
    },
    {
     "data": {
      "text/plain": [
       "<src.pipeline.Pipeline at 0x7fa1bcfa77f0>"
      ]
     },
     "execution_count": 9,
     "metadata": {},
     "output_type": "execute_result"
    }
   ],
   "source": [
    "pipeline.create_tfidf_feature()"
   ]
  },
  {
   "cell_type": "code",
   "execution_count": 10,
   "metadata": {},
   "outputs": [
    {
     "name": "stderr",
     "output_type": "stream",
     "text": [
      "100%|█████████████████████████████████████████████████████████████████████████████████████████████████████████████████████████████████| 6390/6390 [00:05<00:00, 1247.62it/s]\n"
     ]
    },
    {
     "data": {
      "text/plain": [
       "<src.pipeline.Pipeline at 0x7fa1bcfa77f0>"
      ]
     },
     "execution_count": 10,
     "metadata": {},
     "output_type": "execute_result"
    }
   ],
   "source": [
    "pipeline.create_jaccard_feature()"
   ]
  },
  {
   "cell_type": "code",
   "execution_count": 11,
   "metadata": {},
   "outputs": [
    {
     "name": "stderr",
     "output_type": "stream",
     "text": [
      "100%|██████████████████████████████████████████████████████████████████████████████████████████████████████████████████████████████████| 6390/6390 [00:07<00:00, 880.30it/s]\n",
      "100%|█████████████████████████████████████████████████████████████████████████████████████████████████████████████████████████████████| 6390/6390 [00:04<00:00, 1574.50it/s]\n",
      "100%|████████████████████████████████████████████████████████████████████████████████████████████████████████████████████████████████| 6390/6390 [00:00<00:00, 43565.11it/s]\n",
      "100%|████████████████████████████████████████████████████████████████████████████████████████████████████████████████████████████████| 6390/6390 [00:00<00:00, 62874.56it/s]\n",
      "100%|█████████████████████████████████████████████████████████████████████████████████████████████████████████████████████████████████| 6390/6390 [00:02<00:00, 2387.45it/s]\n",
      "100%|█████████████████████████████████████████████████████████████████████████████████████████████████████████████████████████████████| 6390/6390 [00:02<00:00, 2776.48it/s]\n",
      "100%|████████████████████████████████████████████████████████████████████████████████████████████████████████████████████████████████| 6390/6390 [00:00<00:00, 41301.99it/s]\n",
      "100%|████████████████████████████████████████████████████████████████████████████████████████████████████████████████████████████████| 6390/6390 [00:00<00:00, 57632.53it/s]\n"
     ]
    },
    {
     "data": {
      "text/plain": [
       "<src.pipeline.Pipeline at 0x7fa1bcfa77f0>"
      ]
     },
     "execution_count": 11,
     "metadata": {},
     "output_type": "execute_result"
    }
   ],
   "source": [
    "pipeline.create_sentence_features()"
   ]
  },
  {
   "cell_type": "code",
   "execution_count": 12,
   "metadata": {},
   "outputs": [
    {
     "name": "stderr",
     "output_type": "stream",
     "text": [
      "100%|██████████████████████████████████████████████████████████████████████████████████████████████████████████████████████████████████| 6390/6390 [00:07<00:00, 892.87it/s]\n",
      "100%|██████████████████████████████████████████████████████████████████████████████████████████████████████████████████████████████████| 6390/6390 [00:07<00:00, 889.06it/s]\n",
      "100%|█████████████████████████████████████████████████████████████████████████████████████████████████████████████████████████████████| 6390/6390 [00:04<00:00, 1438.07it/s]\n",
      "100%|█████████████████████████████████████████████████████████████████████████████████████████████████████████████████████████████████| 6390/6390 [00:05<00:00, 1187.42it/s]\n"
     ]
    },
    {
     "data": {
      "text/plain": [
       "<src.pipeline.Pipeline at 0x7fa1bcfa77f0>"
      ]
     },
     "execution_count": 12,
     "metadata": {},
     "output_type": "execute_result"
    }
   ],
   "source": [
    "pipeline.create_interpretation_features()"
   ]
  },
  {
   "cell_type": "code",
   "execution_count": 13,
   "metadata": {},
   "outputs": [
    {
     "name": "stderr",
     "output_type": "stream",
     "text": [
      "100%|██████████████████████████████████████████████████████████████████████████████████████████████████████████████████████████████████| 6390/6390 [00:27<00:00, 236.66it/s]\n",
      "100%|██████████████████████████████████████████████████████████████████████████████████████████████████████████████████████████████████| 6390/6390 [00:08<00:00, 755.68it/s]\n"
     ]
    },
    {
     "data": {
      "text/plain": [
       "<src.pipeline.Pipeline at 0x7fa1bcfa77f0>"
      ]
     },
     "execution_count": 13,
     "metadata": {},
     "output_type": "execute_result"
    }
   ],
   "source": [
    "pipeline.create_POS_features()"
   ]
  },
  {
   "cell_type": "code",
   "execution_count": 14,
   "metadata": {},
   "outputs": [
    {
     "data": {
      "text/html": [
       "<div>\n",
       "<style scoped>\n",
       "    .dataframe tbody tr th:only-of-type {\n",
       "        vertical-align: middle;\n",
       "    }\n",
       "\n",
       "    .dataframe tbody tr th {\n",
       "        vertical-align: top;\n",
       "    }\n",
       "\n",
       "    .dataframe thead th {\n",
       "        text-align: right;\n",
       "    }\n",
       "</style>\n",
       "<table border=\"1\" class=\"dataframe\">\n",
       "  <thead>\n",
       "    <tr style=\"text-align: right;\">\n",
       "      <th></th>\n",
       "      <th>qID</th>\n",
       "      <th>Query</th>\n",
       "      <th>preprocessed</th>\n",
       "      <th>tfidf</th>\n",
       "    </tr>\n",
       "  </thead>\n",
       "  <tbody>\n",
       "    <tr>\n",
       "      <th>0</th>\n",
       "      <td>1108939</td>\n",
       "      <td>what slows down the flow of blood</td>\n",
       "      <td>[slow, flow, blood]</td>\n",
       "      <td>{'slow': 0.65816726040214, 'flow': 0.591294616...</td>\n",
       "    </tr>\n",
       "    <tr>\n",
       "      <th>1</th>\n",
       "      <td>1112389</td>\n",
       "      <td>what is the county for grand rapids, mn</td>\n",
       "      <td>[counti, grand, rapid, mn]</td>\n",
       "      <td>{'counti': 0.35972012398720704, 'grand': 0.508...</td>\n",
       "    </tr>\n",
       "    <tr>\n",
       "      <th>2</th>\n",
       "      <td>792752</td>\n",
       "      <td>what is ruclip</td>\n",
       "      <td>[ruclip]</td>\n",
       "      <td>{'ruclip': 0.0}</td>\n",
       "    </tr>\n",
       "    <tr>\n",
       "      <th>3</th>\n",
       "      <td>1119729</td>\n",
       "      <td>what do you do when you have a nosebleed from ...</td>\n",
       "      <td>[noseble, nose]</td>\n",
       "      <td>{'noseble': 0.8307258285426083, 'nose': 0.5566...</td>\n",
       "    </tr>\n",
       "    <tr>\n",
       "      <th>4</th>\n",
       "      <td>1105095</td>\n",
       "      <td>where is sugar lake lodge located</td>\n",
       "      <td>[sugar, lake, lodg, locat]</td>\n",
       "      <td>{'sugar': 0.4661892752744652, 'lake': 0.509815...</td>\n",
       "    </tr>\n",
       "    <tr>\n",
       "      <th>...</th>\n",
       "      <td>...</td>\n",
       "      <td>...</td>\n",
       "      <td>...</td>\n",
       "      <td>...</td>\n",
       "    </tr>\n",
       "    <tr>\n",
       "      <th>195</th>\n",
       "      <td>146187</td>\n",
       "      <td>difference between a mcdouble and a double che...</td>\n",
       "      <td>[differ, mcdoubl, doubl, cheeseburg]</td>\n",
       "      <td>{'differ': 0.5368559628243917, 'mcdoubl': 0.0,...</td>\n",
       "    </tr>\n",
       "    <tr>\n",
       "      <th>196</th>\n",
       "      <td>634428</td>\n",
       "      <td>what does chs stand for?</td>\n",
       "      <td>[ch, stand]</td>\n",
       "      <td>{'ch': 0.8476330205893083, 'stand': 0.53058294...</td>\n",
       "    </tr>\n",
       "    <tr>\n",
       "      <th>197</th>\n",
       "      <td>1121986</td>\n",
       "      <td>what are the effects of having low blood sugar</td>\n",
       "      <td>[effect, low, blood, sugar]</td>\n",
       "      <td>{'effect': 0.4606853125805391, 'low': 0.505444...</td>\n",
       "    </tr>\n",
       "    <tr>\n",
       "      <th>198</th>\n",
       "      <td>321441</td>\n",
       "      <td>how much is a us postal stamp cost</td>\n",
       "      <td>[much, us, postal, stamp, cost]</td>\n",
       "      <td>{'much': 0.3323141330856561, 'us': 0.316834505...</td>\n",
       "    </tr>\n",
       "    <tr>\n",
       "      <th>199</th>\n",
       "      <td>532603</td>\n",
       "      <td>university of dubuque enrollment</td>\n",
       "      <td>[univers, dubuqu, enrol]</td>\n",
       "      <td>{'univers': 0.38750724896645034, 'dubuqu': 0.7...</td>\n",
       "    </tr>\n",
       "  </tbody>\n",
       "</table>\n",
       "<p>200 rows × 4 columns</p>\n",
       "</div>"
      ],
      "text/plain": [
       "         qID                                              Query  \\\n",
       "0    1108939                  what slows down the flow of blood   \n",
       "1    1112389            what is the county for grand rapids, mn   \n",
       "2     792752                                     what is ruclip   \n",
       "3    1119729  what do you do when you have a nosebleed from ...   \n",
       "4    1105095                  where is sugar lake lodge located   \n",
       "..       ...                                                ...   \n",
       "195   146187  difference between a mcdouble and a double che...   \n",
       "196   634428                           what does chs stand for?   \n",
       "197  1121986     what are the effects of having low blood sugar   \n",
       "198   321441                 how much is a us postal stamp cost   \n",
       "199   532603                   university of dubuque enrollment   \n",
       "\n",
       "                             preprocessed  \\\n",
       "0                     [slow, flow, blood]   \n",
       "1              [counti, grand, rapid, mn]   \n",
       "2                                [ruclip]   \n",
       "3                         [noseble, nose]   \n",
       "4              [sugar, lake, lodg, locat]   \n",
       "..                                    ...   \n",
       "195  [differ, mcdoubl, doubl, cheeseburg]   \n",
       "196                           [ch, stand]   \n",
       "197           [effect, low, blood, sugar]   \n",
       "198       [much, us, postal, stamp, cost]   \n",
       "199              [univers, dubuqu, enrol]   \n",
       "\n",
       "                                                 tfidf  \n",
       "0    {'slow': 0.65816726040214, 'flow': 0.591294616...  \n",
       "1    {'counti': 0.35972012398720704, 'grand': 0.508...  \n",
       "2                                      {'ruclip': 0.0}  \n",
       "3    {'noseble': 0.8307258285426083, 'nose': 0.5566...  \n",
       "4    {'sugar': 0.4661892752744652, 'lake': 0.509815...  \n",
       "..                                                 ...  \n",
       "195  {'differ': 0.5368559628243917, 'mcdoubl': 0.0,...  \n",
       "196  {'ch': 0.8476330205893083, 'stand': 0.53058294...  \n",
       "197  {'effect': 0.4606853125805391, 'low': 0.505444...  \n",
       "198  {'much': 0.3323141330856561, 'us': 0.316834505...  \n",
       "199  {'univers': 0.38750724896645034, 'dubuqu': 0.7...  \n",
       "\n",
       "[200 rows x 4 columns]"
      ]
     },
     "execution_count": 14,
     "metadata": {},
     "output_type": "execute_result"
    }
   ],
   "source": [
    "pipeline.queries_test"
   ]
  },
  {
   "cell_type": "code",
   "execution_count": 7,
   "metadata": {},
   "outputs": [
    {
     "data": {
      "text/html": [
       "<div>\n",
       "<style scoped>\n",
       "    .dataframe tbody tr th:only-of-type {\n",
       "        vertical-align: middle;\n",
       "    }\n",
       "\n",
       "    .dataframe tbody tr th {\n",
       "        vertical-align: top;\n",
       "    }\n",
       "\n",
       "    .dataframe thead th {\n",
       "        text-align: right;\n",
       "    }\n",
       "</style>\n",
       "<table border=\"1\" class=\"dataframe\">\n",
       "  <thead>\n",
       "    <tr style=\"text-align: right;\">\n",
       "      <th></th>\n",
       "      <th>qID</th>\n",
       "      <th>pID</th>\n",
       "      <th>y</th>\n",
       "      <th>bm25</th>\n",
       "    </tr>\n",
       "  </thead>\n",
       "  <tbody>\n",
       "    <tr>\n",
       "      <th>0</th>\n",
       "      <td>111791</td>\n",
       "      <td>5158606</td>\n",
       "      <td>1</td>\n",
       "      <td>-31.065276</td>\n",
       "    </tr>\n",
       "    <tr>\n",
       "      <th>4</th>\n",
       "      <td>914462</td>\n",
       "      <td>3852073</td>\n",
       "      <td>1</td>\n",
       "      <td>-26.047702</td>\n",
       "    </tr>\n",
       "    <tr>\n",
       "      <th>5</th>\n",
       "      <td>201329</td>\n",
       "      <td>3704115</td>\n",
       "      <td>1</td>\n",
       "      <td>-18.131038</td>\n",
       "    </tr>\n",
       "    <tr>\n",
       "      <th>6</th>\n",
       "      <td>212165</td>\n",
       "      <td>5773592</td>\n",
       "      <td>1</td>\n",
       "      <td>-16.103601</td>\n",
       "    </tr>\n",
       "    <tr>\n",
       "      <th>14</th>\n",
       "      <td>32031</td>\n",
       "      <td>6243218</td>\n",
       "      <td>1</td>\n",
       "      <td>-24.332336</td>\n",
       "    </tr>\n",
       "    <tr>\n",
       "      <th>...</th>\n",
       "      <td>...</td>\n",
       "      <td>...</td>\n",
       "      <td>...</td>\n",
       "      <td>...</td>\n",
       "    </tr>\n",
       "    <tr>\n",
       "      <th>3190</th>\n",
       "      <td>844263</td>\n",
       "      <td>2591163</td>\n",
       "      <td>0</td>\n",
       "      <td>-22.982374</td>\n",
       "    </tr>\n",
       "    <tr>\n",
       "      <th>3191</th>\n",
       "      <td>844263</td>\n",
       "      <td>4064917</td>\n",
       "      <td>0</td>\n",
       "      <td>-18.607365</td>\n",
       "    </tr>\n",
       "    <tr>\n",
       "      <th>3192</th>\n",
       "      <td>844263</td>\n",
       "      <td>2111580</td>\n",
       "      <td>0</td>\n",
       "      <td>-22.154547</td>\n",
       "    </tr>\n",
       "    <tr>\n",
       "      <th>3193</th>\n",
       "      <td>844263</td>\n",
       "      <td>6292238</td>\n",
       "      <td>0</td>\n",
       "      <td>-28.027324</td>\n",
       "    </tr>\n",
       "    <tr>\n",
       "      <th>3194</th>\n",
       "      <td>844263</td>\n",
       "      <td>5556725</td>\n",
       "      <td>0</td>\n",
       "      <td>-18.801583</td>\n",
       "    </tr>\n",
       "  </tbody>\n",
       "</table>\n",
       "<p>4244 rows × 4 columns</p>\n",
       "</div>"
      ],
      "text/plain": [
       "         qID      pID  y       bm25\n",
       "0     111791  5158606  1 -31.065276\n",
       "4     914462  3852073  1 -26.047702\n",
       "5     201329  3704115  1 -18.131038\n",
       "6     212165  5773592  1 -16.103601\n",
       "14     32031  6243218  1 -24.332336\n",
       "...      ...      ... ..        ...\n",
       "3190  844263  2591163  0 -22.982374\n",
       "3191  844263  4064917  0 -18.607365\n",
       "3192  844263  2111580  0 -22.154547\n",
       "3193  844263  6292238  0 -28.027324\n",
       "3194  844263  5556725  0 -18.801583\n",
       "\n",
       "[4244 rows x 4 columns]"
      ]
     },
     "execution_count": 7,
     "metadata": {},
     "output_type": "execute_result"
    }
   ],
   "source": [
    "pipeline.features"
   ]
  },
  {
   "cell_type": "code",
   "execution_count": 8,
   "metadata": {},
   "outputs": [
    {
     "data": {
      "text/plain": [
       "48"
      ]
     },
     "execution_count": 8,
     "metadata": {},
     "output_type": "execute_result"
    }
   ],
   "source": [
    "import pandas as pd\n",
    "import numpy as np\n",
    "\n",
    "pipeline.collection.preprocessed.apply(lambda passage: np.isin('wikipedia', passage)).value_counts()[1]"
   ]
  },
  {
   "cell_type": "code",
   "execution_count": 33,
   "metadata": {},
   "outputs": [
    {
     "data": {
      "text/plain": [
       "25000"
      ]
     },
     "execution_count": 33,
     "metadata": {},
     "output_type": "execute_result"
    }
   ],
   "source": [
    "pipeline.collection.preprocessed.size"
   ]
  },
  {
   "cell_type": "code",
   "execution_count": 32,
   "metadata": {},
   "outputs": [
    {
     "data": {
      "text/plain": [
       "71"
      ]
     },
     "execution_count": 32,
     "metadata": {},
     "output_type": "execute_result"
    }
   ],
   "source": [
    "len(pipeline.collection.preprocessed[2])"
   ]
  },
  {
   "cell_type": "code",
   "execution_count": 10,
   "metadata": {},
   "outputs": [
    {
     "name": "stderr",
     "output_type": "stream",
     "text": [
      "100%|██████████████████████████████████████████████████████████████████████████████████████████████████████████████████████████████| 25000/25000 [00:00<00:00, 61765.92it/s]\n"
     ]
    },
    {
     "data": {
      "text/plain": [
       "33.71828"
      ]
     },
     "execution_count": 10,
     "metadata": {},
     "output_type": "execute_result"
    }
   ],
   "source": [
    "pipeline.collection.preprocessed.progress_apply(lambda passage: passage.size).mean()"
   ]
  },
  {
   "cell_type": "code",
   "execution_count": 9,
   "metadata": {
    "scrolled": true
   },
   "outputs": [
    {
     "ename": "TypeError",
     "evalue": "transform() takes 2 positional arguments but 3 were given",
     "output_type": "error",
     "traceback": [
      "\u001b[0;31m---------------------------------------------------------------------------\u001b[0m",
      "\u001b[0;31mTypeError\u001b[0m                                 Traceback (most recent call last)",
      "Input \u001b[0;32mIn [9]\u001b[0m, in \u001b[0;36m<cell line: 4>\u001b[0;34m()\u001b[0m\n\u001b[1;32m      1\u001b[0m \u001b[38;5;28;01mfrom\u001b[39;00m \u001b[38;5;21;01msrc\u001b[39;00m\u001b[38;5;21;01m.\u001b[39;00m\u001b[38;5;21;01mfeatures\u001b[39;00m\u001b[38;5;21;01m.\u001b[39;00m\u001b[38;5;21;01mgenerator\u001b[39;00m \u001b[38;5;28;01mimport\u001b[39;00m create_tfidf_embeddings, create_all\n\u001b[1;32m      2\u001b[0m \u001b[38;5;28;01mfrom\u001b[39;00m \u001b[38;5;21;01msrc\u001b[39;00m\u001b[38;5;21;01m.\u001b[39;00m\u001b[38;5;21;01mutils\u001b[39;00m\u001b[38;5;21;01m.\u001b[39;00m\u001b[38;5;21;01mutils\u001b[39;00m \u001b[38;5;28;01mimport\u001b[39;00m load \n\u001b[0;32m----> 4\u001b[0m \u001b[43mcreate_all\u001b[49m\u001b[43m(\u001b[49m\u001b[43mfeatures_test\u001b[49m\u001b[43m,\u001b[49m\u001b[43m \u001b[49m\u001b[43mpipeline\u001b[49m\u001b[38;5;241;43m.\u001b[39;49m\u001b[43mcollection\u001b[49m\u001b[43m,\u001b[49m\u001b[43m \u001b[49m\u001b[43mpipeline\u001b[49m\u001b[38;5;241;43m.\u001b[39;49m\u001b[43mqueries_test\u001b[49m\u001b[43m,\u001b[49m\u001b[43m \u001b[49m\u001b[43mload\u001b[49m\u001b[43m(\u001b[49m\u001b[38;5;124;43m'\u001b[39;49m\u001b[38;5;124;43mmodels/tfidf.pkl\u001b[39;49m\u001b[38;5;124;43m'\u001b[39;49m\u001b[43m)\u001b[49m\u001b[43m)\u001b[49m\n",
      "File \u001b[0;32m~/Documents/Universität Mannheim/Semester 4/Information Retrieval Project/Retriever/src/features/generator.py:15\u001b[0m, in \u001b[0;36mcreate_all\u001b[0;34m(features, collection, queries, tfidf)\u001b[0m\n\u001b[1;32m     14\u001b[0m \u001b[38;5;28;01mdef\u001b[39;00m \u001b[38;5;21mcreate_all\u001b[39m(features: pd\u001b[38;5;241m.\u001b[39mDataFrame, collection: pd\u001b[38;5;241m.\u001b[39mDataFrame, queries: pd\u001b[38;5;241m.\u001b[39mDataFrame, tfidf\u001b[38;5;241m=\u001b[39m\u001b[38;5;28;01mNone\u001b[39;00m):\n\u001b[0;32m---> 15\u001b[0m     tfidf, _ \u001b[38;5;241m=\u001b[39m \u001b[43mcreate_tfidf_embeddings\u001b[49m\u001b[43m(\u001b[49m\u001b[43mcollection\u001b[49m\u001b[43m,\u001b[49m\u001b[43m \u001b[49m\u001b[43mtfidf\u001b[49m\u001b[38;5;241;43m=\u001b[39;49m\u001b[43mtfidf\u001b[49m\u001b[43m,\u001b[49m\u001b[43m \u001b[49m\u001b[43mname\u001b[49m\u001b[38;5;241;43m=\u001b[39;49m\u001b[38;5;124;43m'\u001b[39;49m\u001b[38;5;124;43mcollection\u001b[39;49m\u001b[38;5;124;43m'\u001b[39;49m\u001b[43m)\u001b[49m\n\u001b[1;32m     16\u001b[0m     create_tfidf_embeddings(queries, tfidf\u001b[38;5;241m=\u001b[39mtfidf, name\u001b[38;5;241m=\u001b[39m\u001b[38;5;124m'\u001b[39m\u001b[38;5;124mquery\u001b[39m\u001b[38;5;124m'\u001b[39m)\n\u001b[1;32m     17\u001b[0m     features \u001b[38;5;241m=\u001b[39m create_tfidf_feature(features, collection, queries)\n",
      "File \u001b[0;32m~/Documents/Universität Mannheim/Semester 4/Information Retrieval Project/Retriever/src/features/generator.py:31\u001b[0m, in \u001b[0;36mcreate_tfidf_embeddings\u001b[0;34m(data, tfidf, name)\u001b[0m\n\u001b[1;32m     27\u001b[0m     tfidf \u001b[38;5;241m=\u001b[39m TFIDF()\n\u001b[1;32m     28\u001b[0m     tfidf\u001b[38;5;241m.\u001b[39mfit(\n\u001b[1;32m     29\u001b[0m         data[\u001b[38;5;124m'\u001b[39m\u001b[38;5;124mpreprocessed\u001b[39m\u001b[38;5;124m'\u001b[39m]\n\u001b[1;32m     30\u001b[0m     )\n\u001b[0;32m---> 31\u001b[0m data[\u001b[38;5;124m'\u001b[39m\u001b[38;5;124mtfidf\u001b[39m\u001b[38;5;124m'\u001b[39m] \u001b[38;5;241m=\u001b[39m \u001b[43mtfidf\u001b[49m\u001b[38;5;241;43m.\u001b[39;49m\u001b[43mtransform\u001b[49m\u001b[43m(\u001b[49m\n\u001b[1;32m     32\u001b[0m \u001b[43m    \u001b[49m\u001b[43mdata\u001b[49m\u001b[43m[\u001b[49m\u001b[38;5;124;43m'\u001b[39;49m\u001b[38;5;124;43mpreprocessed\u001b[39;49m\u001b[38;5;124;43m'\u001b[39;49m\u001b[43m]\u001b[49m\u001b[43m,\u001b[49m\n\u001b[1;32m     33\u001b[0m \u001b[43m    \u001b[49m\u001b[38;5;124;43mf\u001b[39;49m\u001b[38;5;124;43m\"\u001b[39;49m\u001b[38;5;124;43mdata/embeddings/tfidf_\u001b[39;49m\u001b[38;5;132;43;01m{\u001b[39;49;00m\u001b[43mname\u001b[49m\u001b[38;5;132;43;01m}\u001b[39;49;00m\u001b[38;5;124;43m_embeddings.pkl\u001b[39;49m\u001b[38;5;124;43m\"\u001b[39;49m\u001b[43m)\u001b[49m\n\u001b[1;32m     35\u001b[0m \u001b[38;5;28;01mreturn\u001b[39;00m tfidf, data\n",
      "\u001b[0;31mTypeError\u001b[0m: transform() takes 2 positional arguments but 3 were given"
     ]
    }
   ],
   "source": [
    "from src.features.generator import create_tfidf_embeddings, create_all\n",
    "from src.utils.utils import load \n",
    "\n",
    "create_all(features_test, pipeline.collection, pipeline.queries_test, load('models/tfidf.pkl'))"
   ]
  },
  {
   "cell_type": "code",
   "execution_count": 30,
   "metadata": {},
   "outputs": [
    {
     "name": "stderr",
     "output_type": "stream",
     "text": [
      "/Users/tim/opt/anaconda3/envs/inforetrieval/lib/python3.9/site-packages/sklearn/feature_extraction/text.py:516: UserWarning: The parameter 'token_pattern' will not be used since 'tokenizer' is not None'\n",
      "  warnings.warn(\n",
      "100%|███████████████████████████████████████████████████████████████████████████████████████████████████████████████████████████████| 25000/25000 [00:23<00:00, 1078.92it/s]\n",
      "100%|███████████████████████████████████████████████████████████████████████████████████████████████████████████████████████████████████| 200/200 [00:00<00:00, 8934.22it/s]\n"
     ]
    },
    {
     "ename": "IsADirectoryError",
     "evalue": "[Errno 21] Is a directory: 'data/embeddings'",
     "output_type": "error",
     "traceback": [
      "\u001b[0;31m---------------------------------------------------------------------------\u001b[0m",
      "\u001b[0;31mIsADirectoryError\u001b[0m                         Traceback (most recent call last)",
      "Input \u001b[0;32mIn [30]\u001b[0m, in \u001b[0;36m<cell line: 1>\u001b[0;34m()\u001b[0m\n\u001b[0;32m----> 1\u001b[0m \u001b[43mcreate_all\u001b[49m\u001b[43m(\u001b[49m\u001b[43mfeatures_test\u001b[49m\u001b[43m,\u001b[49m\u001b[43m \u001b[49m\u001b[43mpipeline\u001b[49m\u001b[38;5;241;43m.\u001b[39;49m\u001b[43mcollection\u001b[49m\u001b[43m,\u001b[49m\u001b[43m \u001b[49m\u001b[43mpipeline\u001b[49m\u001b[38;5;241;43m.\u001b[39;49m\u001b[43mqueries_test\u001b[49m\u001b[43m)\u001b[49m\n",
      "File \u001b[0;32m~/Documents/Universität Mannheim/Semester 4/Information Retrieval Project/Retriever/src/features/generator.py:17\u001b[0m, in \u001b[0;36mcreate_all\u001b[0;34m(features, collection, queries, tfidf)\u001b[0m\n\u001b[1;32m     15\u001b[0m tfidf, _ \u001b[38;5;241m=\u001b[39m create_tfidf_embeddings(collection, tfidf\u001b[38;5;241m=\u001b[39mtfidf)\n\u001b[1;32m     16\u001b[0m create_tfidf_embeddings(queries, tfidf\u001b[38;5;241m=\u001b[39mtfidf)\n\u001b[0;32m---> 17\u001b[0m features \u001b[38;5;241m=\u001b[39m \u001b[43mcreate_tfidf_feature\u001b[49m\u001b[43m(\u001b[49m\u001b[43mfeatures\u001b[49m\u001b[43m,\u001b[49m\u001b[43m \u001b[49m\u001b[43mcollection\u001b[49m\u001b[43m,\u001b[49m\u001b[43m \u001b[49m\u001b[43mqueries\u001b[49m\u001b[43m)\u001b[49m\n\u001b[1;32m     18\u001b[0m features \u001b[38;5;241m=\u001b[39m create_jaccard_feature(features, collection, queries)\n\u001b[1;32m     19\u001b[0m features \u001b[38;5;241m=\u001b[39m create_sentence_features(features, collection, queries)\n",
      "File \u001b[0;32m~/Documents/Universität Mannheim/Semester 4/Information Retrieval Project/Retriever/src/features/generator.py:40\u001b[0m, in \u001b[0;36mcreate_tfidf_feature\u001b[0;34m(features, collection, queries, path_collection, path_query)\u001b[0m\n\u001b[1;32m     38\u001b[0m \u001b[38;5;28;01mdef\u001b[39;00m \u001b[38;5;21mcreate_tfidf_feature\u001b[39m(features: pd\u001b[38;5;241m.\u001b[39mDataFrame, collection: pd\u001b[38;5;241m.\u001b[39mDataFrame, queries: pd\u001b[38;5;241m.\u001b[39mDataFrame,\n\u001b[1;32m     39\u001b[0m                          path_collection: \u001b[38;5;28mstr\u001b[39m \u001b[38;5;241m=\u001b[39m \u001b[38;5;124m'\u001b[39m\u001b[38;5;124mdata/embeddings\u001b[39m\u001b[38;5;124m'\u001b[39m, path_query: \u001b[38;5;28mstr\u001b[39m \u001b[38;5;241m=\u001b[39m \u001b[38;5;124m'\u001b[39m\u001b[38;5;124m'\u001b[39m):\n\u001b[0;32m---> 40\u001b[0m     embeddings \u001b[38;5;241m=\u001b[39m \u001b[43mload\u001b[49m\u001b[43m(\u001b[49m\u001b[43mpath_collection\u001b[49m\u001b[43m)\u001b[49m\n\u001b[1;32m     41\u001b[0m     embeddings_queries \u001b[38;5;241m=\u001b[39m load(path_query)\n\u001b[1;32m     43\u001b[0m     features[\u001b[38;5;124m'\u001b[39m\u001b[38;5;124mtfidf_cosine\u001b[39m\u001b[38;5;124m'\u001b[39m] \u001b[38;5;241m=\u001b[39m features\u001b[38;5;241m.\u001b[39mprogress_apply(\u001b[38;5;28;01mlambda\u001b[39;00m qrel:\n\u001b[1;32m     44\u001b[0m                                                        cosine_similarity_score(embeddings_queries[\n\u001b[1;32m     45\u001b[0m                                                                                    queries[\n\u001b[0;32m   (...)\u001b[0m\n\u001b[1;32m     50\u001b[0m                                                                                        \u001b[38;5;124m'\u001b[39m\u001b[38;5;124mpID\u001b[39m\u001b[38;5;124m'\u001b[39m] \u001b[38;5;241m==\u001b[39m qrel\u001b[38;5;241m.\u001b[39mpID]\u001b[38;5;241m.\u001b[39mindex]),\n\u001b[1;32m     51\u001b[0m                                                        axis\u001b[38;5;241m=\u001b[39m\u001b[38;5;241m1\u001b[39m)\n",
      "File \u001b[0;32m~/Documents/Universität Mannheim/Semester 4/Information Retrieval Project/Retriever/src/utils/utils.py:26\u001b[0m, in \u001b[0;36mload\u001b[0;34m(path)\u001b[0m\n\u001b[1;32m     25\u001b[0m \u001b[38;5;28;01mdef\u001b[39;00m \u001b[38;5;21mload\u001b[39m(path: \u001b[38;5;28mstr\u001b[39m):\n\u001b[0;32m---> 26\u001b[0m     \u001b[38;5;28;01mreturn\u001b[39;00m pickle\u001b[38;5;241m.\u001b[39mload(\u001b[38;5;28;43mopen\u001b[39;49m\u001b[43m(\u001b[49m\u001b[43mpath\u001b[49m\u001b[43m,\u001b[49m\u001b[43m \u001b[49m\u001b[38;5;124;43m\"\u001b[39;49m\u001b[38;5;124;43mrb\u001b[39;49m\u001b[38;5;124;43m\"\u001b[39;49m\u001b[43m)\u001b[49m)\n",
      "\u001b[0;31mIsADirectoryError\u001b[0m: [Errno 21] Is a directory: 'data/embeddings'"
     ]
    }
   ],
   "source": [
    "create_all(features_test, pipeline.collection, pipeline.queries_test)"
   ]
  },
  {
   "cell_type": "code",
   "execution_count": 11,
   "metadata": {},
   "outputs": [
    {
     "data": {
      "text/html": [
       "<div>\n",
       "<style scoped>\n",
       "    .dataframe tbody tr th:only-of-type {\n",
       "        vertical-align: middle;\n",
       "    }\n",
       "\n",
       "    .dataframe tbody tr th {\n",
       "        vertical-align: top;\n",
       "    }\n",
       "\n",
       "    .dataframe thead th {\n",
       "        text-align: right;\n",
       "    }\n",
       "</style>\n",
       "<table border=\"1\" class=\"dataframe\">\n",
       "  <thead>\n",
       "    <tr style=\"text-align: right;\">\n",
       "      <th></th>\n",
       "      <th>qID</th>\n",
       "      <th>Query</th>\n",
       "      <th>preprocessed</th>\n",
       "    </tr>\n",
       "  </thead>\n",
       "  <tbody>\n",
       "    <tr>\n",
       "      <th>0</th>\n",
       "      <td>1108939</td>\n",
       "      <td>what slows down the flow of blood</td>\n",
       "      <td>[slow, flow, blood]</td>\n",
       "    </tr>\n",
       "    <tr>\n",
       "      <th>1</th>\n",
       "      <td>1112389</td>\n",
       "      <td>what is the county for grand rapids, mn</td>\n",
       "      <td>[counti, grand, rapid, mn]</td>\n",
       "    </tr>\n",
       "    <tr>\n",
       "      <th>2</th>\n",
       "      <td>792752</td>\n",
       "      <td>what is ruclip</td>\n",
       "      <td>[ruclip]</td>\n",
       "    </tr>\n",
       "    <tr>\n",
       "      <th>3</th>\n",
       "      <td>1119729</td>\n",
       "      <td>what do you do when you have a nosebleed from ...</td>\n",
       "      <td>[noseble, nose]</td>\n",
       "    </tr>\n",
       "    <tr>\n",
       "      <th>4</th>\n",
       "      <td>1105095</td>\n",
       "      <td>where is sugar lake lodge located</td>\n",
       "      <td>[sugar, lake, lodg, locat]</td>\n",
       "    </tr>\n",
       "    <tr>\n",
       "      <th>...</th>\n",
       "      <td>...</td>\n",
       "      <td>...</td>\n",
       "      <td>...</td>\n",
       "    </tr>\n",
       "    <tr>\n",
       "      <th>195</th>\n",
       "      <td>146187</td>\n",
       "      <td>difference between a mcdouble and a double che...</td>\n",
       "      <td>[differ, mcdoubl, doubl, cheeseburg]</td>\n",
       "    </tr>\n",
       "    <tr>\n",
       "      <th>196</th>\n",
       "      <td>634428</td>\n",
       "      <td>what does chs stand for?</td>\n",
       "      <td>[ch, stand]</td>\n",
       "    </tr>\n",
       "    <tr>\n",
       "      <th>197</th>\n",
       "      <td>1121986</td>\n",
       "      <td>what are the effects of having low blood sugar</td>\n",
       "      <td>[effect, low, blood, sugar]</td>\n",
       "    </tr>\n",
       "    <tr>\n",
       "      <th>198</th>\n",
       "      <td>321441</td>\n",
       "      <td>how much is a us postal stamp cost</td>\n",
       "      <td>[much, us, postal, stamp, cost]</td>\n",
       "    </tr>\n",
       "    <tr>\n",
       "      <th>199</th>\n",
       "      <td>532603</td>\n",
       "      <td>university of dubuque enrollment</td>\n",
       "      <td>[univers, dubuqu, enrol]</td>\n",
       "    </tr>\n",
       "  </tbody>\n",
       "</table>\n",
       "<p>200 rows × 3 columns</p>\n",
       "</div>"
      ],
      "text/plain": [
       "         qID                                              Query  \\\n",
       "0    1108939                  what slows down the flow of blood   \n",
       "1    1112389            what is the county for grand rapids, mn   \n",
       "2     792752                                     what is ruclip   \n",
       "3    1119729  what do you do when you have a nosebleed from ...   \n",
       "4    1105095                  where is sugar lake lodge located   \n",
       "..       ...                                                ...   \n",
       "195   146187  difference between a mcdouble and a double che...   \n",
       "196   634428                           what does chs stand for?   \n",
       "197  1121986     what are the effects of having low blood sugar   \n",
       "198   321441                 how much is a us postal stamp cost   \n",
       "199   532603                   university of dubuque enrollment   \n",
       "\n",
       "                             preprocessed  \n",
       "0                     [slow, flow, blood]  \n",
       "1              [counti, grand, rapid, mn]  \n",
       "2                                [ruclip]  \n",
       "3                         [noseble, nose]  \n",
       "4              [sugar, lake, lodg, locat]  \n",
       "..                                    ...  \n",
       "195  [differ, mcdoubl, doubl, cheeseburg]  \n",
       "196                           [ch, stand]  \n",
       "197           [effect, low, blood, sugar]  \n",
       "198       [much, us, postal, stamp, cost]  \n",
       "199              [univers, dubuqu, enrol]  \n",
       "\n",
       "[200 rows x 3 columns]"
      ]
     },
     "execution_count": 11,
     "metadata": {},
     "output_type": "execute_result"
    }
   ],
   "source": [
    "pipeline.queries_test"
   ]
  },
  {
   "cell_type": "code",
   "execution_count": 5,
   "metadata": {},
   "outputs": [],
   "source": [
    "import pandas as pd\n",
    "features_test = pd.DataFrame()\n",
    "for index, query in pipeline.queries_test.iterrows():\n",
    "    features_test = pd.concat([features_test, pd.DataFrame({\n",
    "        'qID': [query['qID']] * len(pipeline.collection),\n",
    "        'pID': pipeline.collection['pID']\n",
    "    })])"
   ]
  },
  {
   "cell_type": "code",
   "execution_count": null,
   "metadata": {},
   "outputs": [],
   "source": []
  }
 ],
 "metadata": {
  "kernelspec": {
   "display_name": "Python 3 (ipykernel)",
   "language": "python",
   "name": "python3"
  },
  "language_info": {
   "codemirror_mode": {
    "name": "ipython",
    "version": 3
   },
   "file_extension": ".py",
   "mimetype": "text/x-python",
   "name": "python",
   "nbconvert_exporter": "python",
   "pygments_lexer": "ipython3",
   "version": "3.10.0"
  }
 },
 "nbformat": 4,
 "nbformat_minor": 1
}
