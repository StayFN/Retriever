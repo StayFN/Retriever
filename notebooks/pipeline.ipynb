{
 "cells": [
  {
   "cell_type": "code",
   "execution_count": 1,
   "metadata": {},
   "outputs": [
    {
     "name": "stderr",
     "output_type": "stream",
     "text": [
      "[nltk_data] Downloading package punkt to /Users/tim/nltk_data...\n",
      "[nltk_data]   Package punkt is already up-to-date!\n",
      "[nltk_data] Downloading package stopwords to /Users/tim/nltk_data...\n",
      "[nltk_data]   Package stopwords is already up-to-date!\n",
      "[nltk_data] Downloading package wordnet to /Users/tim/nltk_data...\n",
      "[nltk_data]   Package wordnet is already up-to-date!\n"
     ]
    }
   ],
   "source": [
    "import os\n",
    "import sys\n",
    "sys.path.append(os.path.dirname((os.path.abspath(''))))\n",
    "\n",
    "from src.pipeline import Pipeline\n",
    "from src.preprocessing.preprocessing import removal, tokenization, stemming"
   ]
  },
  {
   "cell_type": "code",
   "execution_count": 2,
   "metadata": {},
   "outputs": [],
   "source": [
    "pipeline = Pipeline()"
   ]
  },
  {
   "cell_type": "code",
   "execution_count": 3,
   "metadata": {},
   "outputs": [
    {
     "data": {
      "text/plain": [
       "<src.pipeline.Pipeline at 0x7f8e99792ca0>"
      ]
     },
     "execution_count": 3,
     "metadata": {},
     "output_type": "execute_result"
    }
   ],
   "source": [
    "pipeline.setup()"
   ]
  },
  {
   "cell_type": "code",
   "execution_count": 4,
   "metadata": {},
   "outputs": [
    {
     "name": "stderr",
     "output_type": "stream",
     "text": [
      "100%|████████████████████████████████████████████████████████████████████████████████████████████████████████████████████████████████| 25000/25000 [00:53<00:00, 464.64it/s]\n",
      "100%|██████████████████████████████████████████████████████████████████████████████████████████████████████████████████████████████████| 1500/1500 [00:01<00:00, 965.84it/s]\n"
     ]
    },
    {
     "data": {
      "text/plain": [
       "<src.pipeline.Pipeline at 0x7f8e99792ca0>"
      ]
     },
     "execution_count": 4,
     "metadata": {},
     "output_type": "execute_result"
    }
   ],
   "source": [
    "pipeline.preprocess()"
   ]
  },
  {
   "cell_type": "code",
   "execution_count": 5,
   "metadata": {},
   "outputs": [
    {
     "name": "stderr",
     "output_type": "stream",
     "text": [
      "/Users/tim/opt/anaconda3/envs/inforetrieval/lib/python3.9/site-packages/sklearn/feature_extraction/text.py:516: UserWarning: The parameter 'token_pattern' will not be used since 'tokenizer' is not None'\n",
      "  warnings.warn(\n",
      "100%|███████████████████████████████████████████████████████████████████████████████████████████████████████████████████████████████| 25000/25000 [00:21<00:00, 1177.88it/s]\n",
      "100%|█████████████████████████████████████████████████████████████████████████████████████████████████████████████████████████████████| 1500/1500 [00:00<00:00, 9839.75it/s]\n"
     ]
    },
    {
     "data": {
      "text/plain": [
       "<src.pipeline.Pipeline at 0x7f8e99792ca0>"
      ]
     },
     "execution_count": 5,
     "metadata": {},
     "output_type": "execute_result"
    }
   ],
   "source": [
    "pipeline.create_tfidf_embeddings()"
   ]
  },
  {
   "cell_type": "code",
   "execution_count": 6,
   "metadata": {},
   "outputs": [
    {
     "name": "stderr",
     "output_type": "stream",
     "text": [
      "100%|██████████████████████████████████████████████████████████████████████████████████████████████████████████████████████████████████| 1500/1500 [00:02<00:00, 656.93it/s]\n",
      "100%|██████████████████████████████████████████████████████████████████████████████████████████████████████████████████████████████████| 1500/1500 [00:02<00:00, 696.78it/s]\n",
      "100%|██████████████████████████████████████████████████████████████████████████████████████████████████████████████████████████████████| 1500/1500 [00:02<00:00, 684.78it/s]\n"
     ]
    },
    {
     "data": {
      "text/plain": [
       "<src.pipeline.Pipeline at 0x7f8e99792ca0>"
      ]
     },
     "execution_count": 6,
     "metadata": {},
     "output_type": "execute_result"
    }
   ],
   "source": [
    "pipeline.create_tfidf_feature()"
   ]
  },
  {
   "cell_type": "code",
   "execution_count": 7,
   "metadata": {},
   "outputs": [
    {
     "name": "stderr",
     "output_type": "stream",
     "text": [
      "100%|█████████████████████████████████████████████████████████████████████████████████████████████████████████████████████████████████| 1500/1500 [00:01<00:00, 1495.98it/s]\n"
     ]
    },
    {
     "data": {
      "text/plain": [
       "<src.pipeline.Pipeline at 0x7f8e99792ca0>"
      ]
     },
     "execution_count": 7,
     "metadata": {},
     "output_type": "execute_result"
    }
   ],
   "source": [
    "pipeline.create_jaccard_feature()"
   ]
  },
  {
   "cell_type": "code",
   "execution_count": 8,
   "metadata": {},
   "outputs": [
    {
     "name": "stderr",
     "output_type": "stream",
     "text": [
      "100%|█████████████████████████████████████████████████████████████████████████████████████████████████████████████████████████████████| 1500/1500 [00:01<00:00, 1118.48it/s]\n",
      "100%|█████████████████████████████████████████████████████████████████████████████████████████████████████████████████████████████████| 1500/1500 [00:00<00:00, 1609.01it/s]\n",
      "100%|████████████████████████████████████████████████████████████████████████████████████████████████████████████████████████████████| 1500/1500 [00:00<00:00, 51283.47it/s]\n",
      "100%|████████████████████████████████████████████████████████████████████████████████████████████████████████████████████████████████| 1500/1500 [00:00<00:00, 59743.95it/s]\n",
      "100%|█████████████████████████████████████████████████████████████████████████████████████████████████████████████████████████████████| 1500/1500 [00:00<00:00, 2664.63it/s]\n",
      "100%|█████████████████████████████████████████████████████████████████████████████████████████████████████████████████████████████████| 1500/1500 [00:00<00:00, 3283.85it/s]\n",
      "100%|████████████████████████████████████████████████████████████████████████████████████████████████████████████████████████████████| 1500/1500 [00:00<00:00, 55708.65it/s]\n",
      "100%|████████████████████████████████████████████████████████████████████████████████████████████████████████████████████████████████| 1500/1500 [00:00<00:00, 60650.48it/s]\n"
     ]
    },
    {
     "data": {
      "text/plain": [
       "<src.pipeline.Pipeline at 0x7f8e99792ca0>"
      ]
     },
     "execution_count": 8,
     "metadata": {},
     "output_type": "execute_result"
    }
   ],
   "source": [
    "pipeline.create_sentence_features()"
   ]
  },
  {
   "cell_type": "code",
   "execution_count": 9,
   "metadata": {},
   "outputs": [
    {
     "name": "stderr",
     "output_type": "stream",
     "text": [
      "100%|█████████████████████████████████████████████████████████████████████████████████████████████████████████████████████████████████| 1500/1500 [00:01<00:00, 1167.94it/s]\n",
      "100%|█████████████████████████████████████████████████████████████████████████████████████████████████████████████████████████████████| 1500/1500 [00:01<00:00, 1204.53it/s]\n",
      "100%|█████████████████████████████████████████████████████████████████████████████████████████████████████████████████████████████████| 1500/1500 [00:00<00:00, 2019.21it/s]\n",
      "100%|█████████████████████████████████████████████████████████████████████████████████████████████████████████████████████████████████| 1500/1500 [00:00<00:00, 1760.15it/s]\n"
     ]
    },
    {
     "data": {
      "text/plain": [
       "<src.pipeline.Pipeline at 0x7f8e99792ca0>"
      ]
     },
     "execution_count": 9,
     "metadata": {},
     "output_type": "execute_result"
    }
   ],
   "source": [
    "pipeline.create_interpretation_features()"
   ]
  },
  {
   "cell_type": "code",
   "execution_count": 10,
   "metadata": {},
   "outputs": [
    {
     "name": "stderr",
     "output_type": "stream",
     "text": [
      "100%|██████████████████████████████████████████████████████████████████████████████████████████████████████████████████████████████████| 1500/1500 [00:05<00:00, 289.54it/s]\n",
      "100%|█████████████████████████████████████████████████████████████████████████████████████████████████████████████████████████████████| 1500/1500 [00:01<00:00, 1120.27it/s]\n"
     ]
    },
    {
     "data": {
      "text/plain": [
       "<src.pipeline.Pipeline at 0x7f8e99792ca0>"
      ]
     },
     "execution_count": 10,
     "metadata": {},
     "output_type": "execute_result"
    }
   ],
   "source": [
    "pipeline.create_POS_features()"
   ]
  },
  {
   "cell_type": "code",
   "execution_count": 11,
   "metadata": {},
   "outputs": [
    {
     "data": {
      "text/html": [
       "<div>\n",
       "<style scoped>\n",
       "    .dataframe tbody tr th:only-of-type {\n",
       "        vertical-align: middle;\n",
       "    }\n",
       "\n",
       "    .dataframe tbody tr th {\n",
       "        vertical-align: top;\n",
       "    }\n",
       "\n",
       "    .dataframe thead th {\n",
       "        text-align: right;\n",
       "    }\n",
       "</style>\n",
       "<table border=\"1\" class=\"dataframe\">\n",
       "  <thead>\n",
       "    <tr style=\"text-align: right;\">\n",
       "      <th></th>\n",
       "      <th>qID</th>\n",
       "      <th>pID</th>\n",
       "      <th>tfidf_cosine</th>\n",
       "      <th>tfidf_euclidean</th>\n",
       "      <th>tfidf_manhattan</th>\n",
       "      <th>jaccard</th>\n",
       "      <th>words_doc</th>\n",
       "      <th>words_query</th>\n",
       "      <th>words_difference</th>\n",
       "      <th>words_rel_difference</th>\n",
       "      <th>...</th>\n",
       "      <th>subjectivity_doc</th>\n",
       "      <th>polarity_doc</th>\n",
       "      <th>subjectivity_query</th>\n",
       "      <th>polarity_query</th>\n",
       "      <th>doc_nouns</th>\n",
       "      <th>doc_adjectives</th>\n",
       "      <th>doc_verbs</th>\n",
       "      <th>query_nouns</th>\n",
       "      <th>query_adjectives</th>\n",
       "      <th>query_verbs</th>\n",
       "    </tr>\n",
       "  </thead>\n",
       "  <tbody>\n",
       "    <tr>\n",
       "      <th>0</th>\n",
       "      <td>651052</td>\n",
       "      <td>121251</td>\n",
       "      <td>0.852590</td>\n",
       "      <td>0.542973</td>\n",
       "      <td>1.896362</td>\n",
       "      <td>0.200000</td>\n",
       "      <td>38</td>\n",
       "      <td>6</td>\n",
       "      <td>32.0</td>\n",
       "      <td>6.333333</td>\n",
       "      <td>...</td>\n",
       "      <td>0.500000</td>\n",
       "      <td>0.050000</td>\n",
       "      <td>0.687500</td>\n",
       "      <td>-0.3125</td>\n",
       "      <td>10</td>\n",
       "      <td>3</td>\n",
       "      <td>7</td>\n",
       "      <td>2</td>\n",
       "      <td>1</td>\n",
       "      <td>1</td>\n",
       "    </tr>\n",
       "    <tr>\n",
       "      <th>1</th>\n",
       "      <td>485808</td>\n",
       "      <td>136865</td>\n",
       "      <td>0.481687</td>\n",
       "      <td>1.018148</td>\n",
       "      <td>5.600224</td>\n",
       "      <td>0.102564</td>\n",
       "      <td>107</td>\n",
       "      <td>6</td>\n",
       "      <td>101.0</td>\n",
       "      <td>17.833333</td>\n",
       "      <td>...</td>\n",
       "      <td>0.594444</td>\n",
       "      <td>0.178704</td>\n",
       "      <td>0.666667</td>\n",
       "      <td>-0.7000</td>\n",
       "      <td>32</td>\n",
       "      <td>11</td>\n",
       "      <td>15</td>\n",
       "      <td>2</td>\n",
       "      <td>2</td>\n",
       "      <td>1</td>\n",
       "    </tr>\n",
       "    <tr>\n",
       "      <th>2</th>\n",
       "      <td>550996</td>\n",
       "      <td>149222</td>\n",
       "      <td>0.455940</td>\n",
       "      <td>1.043130</td>\n",
       "      <td>4.301138</td>\n",
       "      <td>0.130435</td>\n",
       "      <td>58</td>\n",
       "      <td>11</td>\n",
       "      <td>47.0</td>\n",
       "      <td>5.272727</td>\n",
       "      <td>...</td>\n",
       "      <td>0.217143</td>\n",
       "      <td>0.025714</td>\n",
       "      <td>0.000000</td>\n",
       "      <td>0.0000</td>\n",
       "      <td>11</td>\n",
       "      <td>4</td>\n",
       "      <td>8</td>\n",
       "      <td>2</td>\n",
       "      <td>0</td>\n",
       "      <td>4</td>\n",
       "    </tr>\n",
       "    <tr>\n",
       "      <th>3</th>\n",
       "      <td>632071</td>\n",
       "      <td>154108</td>\n",
       "      <td>0.000000</td>\n",
       "      <td>1.000000</td>\n",
       "      <td>6.205483</td>\n",
       "      <td>0.000000</td>\n",
       "      <td>83</td>\n",
       "      <td>5</td>\n",
       "      <td>78.0</td>\n",
       "      <td>16.600000</td>\n",
       "      <td>...</td>\n",
       "      <td>0.448864</td>\n",
       "      <td>0.056818</td>\n",
       "      <td>0.000000</td>\n",
       "      <td>0.0000</td>\n",
       "      <td>27</td>\n",
       "      <td>13</td>\n",
       "      <td>10</td>\n",
       "      <td>1</td>\n",
       "      <td>0</td>\n",
       "      <td>2</td>\n",
       "    </tr>\n",
       "    <tr>\n",
       "      <th>4</th>\n",
       "      <td>726432</td>\n",
       "      <td>159582</td>\n",
       "      <td>0.562177</td>\n",
       "      <td>0.935760</td>\n",
       "      <td>4.339546</td>\n",
       "      <td>0.120000</td>\n",
       "      <td>61</td>\n",
       "      <td>6</td>\n",
       "      <td>55.0</td>\n",
       "      <td>10.166667</td>\n",
       "      <td>...</td>\n",
       "      <td>0.625000</td>\n",
       "      <td>-0.375000</td>\n",
       "      <td>0.000000</td>\n",
       "      <td>0.0000</td>\n",
       "      <td>18</td>\n",
       "      <td>3</td>\n",
       "      <td>13</td>\n",
       "      <td>1</td>\n",
       "      <td>0</td>\n",
       "      <td>3</td>\n",
       "    </tr>\n",
       "    <tr>\n",
       "      <th>...</th>\n",
       "      <td>...</td>\n",
       "      <td>...</td>\n",
       "      <td>...</td>\n",
       "      <td>...</td>\n",
       "      <td>...</td>\n",
       "      <td>...</td>\n",
       "      <td>...</td>\n",
       "      <td>...</td>\n",
       "      <td>...</td>\n",
       "      <td>...</td>\n",
       "      <td>...</td>\n",
       "      <td>...</td>\n",
       "      <td>...</td>\n",
       "      <td>...</td>\n",
       "      <td>...</td>\n",
       "      <td>...</td>\n",
       "      <td>...</td>\n",
       "      <td>...</td>\n",
       "      <td>...</td>\n",
       "      <td>...</td>\n",
       "      <td>...</td>\n",
       "    </tr>\n",
       "    <tr>\n",
       "      <th>1495</th>\n",
       "      <td>595630</td>\n",
       "      <td>8570301</td>\n",
       "      <td>0.260758</td>\n",
       "      <td>1.215929</td>\n",
       "      <td>4.647269</td>\n",
       "      <td>0.095238</td>\n",
       "      <td>60</td>\n",
       "      <td>6</td>\n",
       "      <td>54.0</td>\n",
       "      <td>10.000000</td>\n",
       "      <td>...</td>\n",
       "      <td>0.436364</td>\n",
       "      <td>0.090909</td>\n",
       "      <td>0.000000</td>\n",
       "      <td>0.0000</td>\n",
       "      <td>24</td>\n",
       "      <td>2</td>\n",
       "      <td>6</td>\n",
       "      <td>2</td>\n",
       "      <td>1</td>\n",
       "      <td>2</td>\n",
       "    </tr>\n",
       "    <tr>\n",
       "      <th>1496</th>\n",
       "      <td>678422</td>\n",
       "      <td>881900</td>\n",
       "      <td>0.634672</td>\n",
       "      <td>0.854784</td>\n",
       "      <td>3.813911</td>\n",
       "      <td>0.041667</td>\n",
       "      <td>54</td>\n",
       "      <td>4</td>\n",
       "      <td>50.0</td>\n",
       "      <td>13.500000</td>\n",
       "      <td>...</td>\n",
       "      <td>0.220833</td>\n",
       "      <td>-0.145833</td>\n",
       "      <td>0.000000</td>\n",
       "      <td>0.0000</td>\n",
       "      <td>13</td>\n",
       "      <td>3</td>\n",
       "      <td>8</td>\n",
       "      <td>1</td>\n",
       "      <td>0</td>\n",
       "      <td>1</td>\n",
       "    </tr>\n",
       "    <tr>\n",
       "      <th>1497</th>\n",
       "      <td>1164923</td>\n",
       "      <td>3705384</td>\n",
       "      <td>0.386200</td>\n",
       "      <td>1.107971</td>\n",
       "      <td>5.632179</td>\n",
       "      <td>0.093750</td>\n",
       "      <td>66</td>\n",
       "      <td>5</td>\n",
       "      <td>61.0</td>\n",
       "      <td>13.200000</td>\n",
       "      <td>...</td>\n",
       "      <td>0.455000</td>\n",
       "      <td>0.135000</td>\n",
       "      <td>0.000000</td>\n",
       "      <td>0.0000</td>\n",
       "      <td>23</td>\n",
       "      <td>7</td>\n",
       "      <td>7</td>\n",
       "      <td>3</td>\n",
       "      <td>0</td>\n",
       "      <td>0</td>\n",
       "    </tr>\n",
       "    <tr>\n",
       "      <th>1498</th>\n",
       "      <td>662044</td>\n",
       "      <td>1740760</td>\n",
       "      <td>0.458970</td>\n",
       "      <td>1.040221</td>\n",
       "      <td>4.665828</td>\n",
       "      <td>0.086957</td>\n",
       "      <td>39</td>\n",
       "      <td>6</td>\n",
       "      <td>33.0</td>\n",
       "      <td>6.500000</td>\n",
       "      <td>...</td>\n",
       "      <td>0.383333</td>\n",
       "      <td>-0.016667</td>\n",
       "      <td>0.000000</td>\n",
       "      <td>0.0000</td>\n",
       "      <td>10</td>\n",
       "      <td>7</td>\n",
       "      <td>6</td>\n",
       "      <td>1</td>\n",
       "      <td>0</td>\n",
       "      <td>2</td>\n",
       "    </tr>\n",
       "    <tr>\n",
       "      <th>1499</th>\n",
       "      <td>550950</td>\n",
       "      <td>3170239</td>\n",
       "      <td>0.261243</td>\n",
       "      <td>1.215530</td>\n",
       "      <td>4.701847</td>\n",
       "      <td>0.095238</td>\n",
       "      <td>57</td>\n",
       "      <td>8</td>\n",
       "      <td>49.0</td>\n",
       "      <td>7.125000</td>\n",
       "      <td>...</td>\n",
       "      <td>0.613333</td>\n",
       "      <td>0.370000</td>\n",
       "      <td>0.000000</td>\n",
       "      <td>0.0000</td>\n",
       "      <td>9</td>\n",
       "      <td>3</td>\n",
       "      <td>8</td>\n",
       "      <td>3</td>\n",
       "      <td>0</td>\n",
       "      <td>2</td>\n",
       "    </tr>\n",
       "  </tbody>\n",
       "</table>\n",
       "<p>1500 rows × 24 columns</p>\n",
       "</div>"
      ],
      "text/plain": [
       "          qID      pID  tfidf_cosine  tfidf_euclidean  tfidf_manhattan  \\\n",
       "0      651052   121251      0.852590         0.542973         1.896362   \n",
       "1      485808   136865      0.481687         1.018148         5.600224   \n",
       "2      550996   149222      0.455940         1.043130         4.301138   \n",
       "3      632071   154108      0.000000         1.000000         6.205483   \n",
       "4      726432   159582      0.562177         0.935760         4.339546   \n",
       "...       ...      ...           ...              ...              ...   \n",
       "1495   595630  8570301      0.260758         1.215929         4.647269   \n",
       "1496   678422   881900      0.634672         0.854784         3.813911   \n",
       "1497  1164923  3705384      0.386200         1.107971         5.632179   \n",
       "1498   662044  1740760      0.458970         1.040221         4.665828   \n",
       "1499   550950  3170239      0.261243         1.215530         4.701847   \n",
       "\n",
       "       jaccard  words_doc  words_query  words_difference  \\\n",
       "0     0.200000         38            6              32.0   \n",
       "1     0.102564        107            6             101.0   \n",
       "2     0.130435         58           11              47.0   \n",
       "3     0.000000         83            5              78.0   \n",
       "4     0.120000         61            6              55.0   \n",
       "...        ...        ...          ...               ...   \n",
       "1495  0.095238         60            6              54.0   \n",
       "1496  0.041667         54            4              50.0   \n",
       "1497  0.093750         66            5              61.0   \n",
       "1498  0.086957         39            6              33.0   \n",
       "1499  0.095238         57            8              49.0   \n",
       "\n",
       "      words_rel_difference  ...  subjectivity_doc  polarity_doc  \\\n",
       "0                 6.333333  ...          0.500000      0.050000   \n",
       "1                17.833333  ...          0.594444      0.178704   \n",
       "2                 5.272727  ...          0.217143      0.025714   \n",
       "3                16.600000  ...          0.448864      0.056818   \n",
       "4                10.166667  ...          0.625000     -0.375000   \n",
       "...                    ...  ...               ...           ...   \n",
       "1495             10.000000  ...          0.436364      0.090909   \n",
       "1496             13.500000  ...          0.220833     -0.145833   \n",
       "1497             13.200000  ...          0.455000      0.135000   \n",
       "1498              6.500000  ...          0.383333     -0.016667   \n",
       "1499              7.125000  ...          0.613333      0.370000   \n",
       "\n",
       "      subjectivity_query  polarity_query  doc_nouns  doc_adjectives  \\\n",
       "0               0.687500         -0.3125         10               3   \n",
       "1               0.666667         -0.7000         32              11   \n",
       "2               0.000000          0.0000         11               4   \n",
       "3               0.000000          0.0000         27              13   \n",
       "4               0.000000          0.0000         18               3   \n",
       "...                  ...             ...        ...             ...   \n",
       "1495            0.000000          0.0000         24               2   \n",
       "1496            0.000000          0.0000         13               3   \n",
       "1497            0.000000          0.0000         23               7   \n",
       "1498            0.000000          0.0000         10               7   \n",
       "1499            0.000000          0.0000          9               3   \n",
       "\n",
       "      doc_verbs  query_nouns  query_adjectives  query_verbs  \n",
       "0             7            2                 1            1  \n",
       "1            15            2                 2            1  \n",
       "2             8            2                 0            4  \n",
       "3            10            1                 0            2  \n",
       "4            13            1                 0            3  \n",
       "...         ...          ...               ...          ...  \n",
       "1495          6            2                 1            2  \n",
       "1496          8            1                 0            1  \n",
       "1497          7            3                 0            0  \n",
       "1498          6            1                 0            2  \n",
       "1499          8            3                 0            2  \n",
       "\n",
       "[1500 rows x 24 columns]"
      ]
     },
     "execution_count": 11,
     "metadata": {},
     "output_type": "execute_result"
    }
   ],
   "source": [
    "pipeline.features"
   ]
  }
 ],
 "metadata": {
  "kernelspec": {
   "display_name": "Python 3 (ipykernel)",
   "language": "python",
   "name": "python3"
  },
  "language_info": {
   "codemirror_mode": {
    "name": "ipython",
    "version": 3
   },
   "file_extension": ".py",
   "mimetype": "text/x-python",
   "name": "python",
   "nbconvert_exporter": "python",
   "pygments_lexer": "ipython3",
   "version": "3.9.11"
  }
 },
 "nbformat": 4,
 "nbformat_minor": 1
}
